{
 "cells": [
  {
   "cell_type": "code",
   "execution_count": 1,
   "id": "c876cc4e",
   "metadata": {
    "execution": {
     "iopub.execute_input": "2024-03-31T19:40:49.919363Z",
     "iopub.status.busy": "2024-03-31T19:40:49.919010Z",
     "iopub.status.idle": "2024-03-31T19:40:52.077860Z",
     "shell.execute_reply": "2024-03-31T19:40:52.077052Z"
    },
    "papermill": {
     "duration": 2.168967,
     "end_time": "2024-03-31T19:40:52.080292",
     "exception": false,
     "start_time": "2024-03-31T19:40:49.911325",
     "status": "completed"
    },
    "tags": []
   },
   "outputs": [],
   "source": [
    "import pandas as pd\n",
    "import numpy as np\n",
    "import matplotlib.pylab as plt\n",
    "import seaborn as sns\n",
    "plt.style.use('ggplot')\n"
   ]
  },
  {
   "cell_type": "code",
   "execution_count": 2,
   "id": "bb8945f4",
   "metadata": {
    "execution": {
     "iopub.execute_input": "2024-03-31T19:40:52.093069Z",
     "iopub.status.busy": "2024-03-31T19:40:52.092173Z",
     "iopub.status.idle": "2024-03-31T19:41:52.065052Z",
     "shell.execute_reply": "2024-03-31T19:41:52.063615Z"
    },
    "papermill": {
     "duration": 59.98203,
     "end_time": "2024-03-31T19:41:52.067923",
     "exception": false,
     "start_time": "2024-03-31T19:40:52.085893",
     "status": "completed"
    },
    "tags": []
   },
   "outputs": [],
   "source": [
    "df = pd.read_csv('/kaggle/input/amazon-books-reviews/Books_rating.csv')"
   ]
  },
  {
   "cell_type": "markdown",
   "id": "c1e4fc28",
   "metadata": {
    "papermill": {
     "duration": 0.005358,
     "end_time": "2024-03-31T19:41:52.079083",
     "exception": false,
     "start_time": "2024-03-31T19:41:52.073725",
     "status": "completed"
    },
    "tags": []
   },
   "source": [
    "**Dando uma olhadinha no dataset**"
   ]
  },
  {
   "cell_type": "code",
   "execution_count": 3,
   "id": "06e1120c",
   "metadata": {
    "execution": {
     "iopub.execute_input": "2024-03-31T19:41:52.091707Z",
     "iopub.status.busy": "2024-03-31T19:41:52.091325Z",
     "iopub.status.idle": "2024-03-31T19:41:52.097947Z",
     "shell.execute_reply": "2024-03-31T19:41:52.097110Z"
    },
    "papermill": {
     "duration": 0.015371,
     "end_time": "2024-03-31T19:41:52.099855",
     "exception": false,
     "start_time": "2024-03-31T19:41:52.084484",
     "status": "completed"
    },
    "tags": []
   },
   "outputs": [
    {
     "data": {
      "text/plain": [
       "(3000000, 10)"
      ]
     },
     "execution_count": 3,
     "metadata": {},
     "output_type": "execute_result"
    }
   ],
   "source": [
    "df.shape"
   ]
  },
  {
   "cell_type": "code",
   "execution_count": 4,
   "id": "a33f63cb",
   "metadata": {
    "collapsed": true,
    "execution": {
     "iopub.execute_input": "2024-03-31T19:41:52.113226Z",
     "iopub.status.busy": "2024-03-31T19:41:52.112342Z",
     "iopub.status.idle": "2024-03-31T19:41:52.140380Z",
     "shell.execute_reply": "2024-03-31T19:41:52.139355Z"
    },
    "jupyter": {
     "outputs_hidden": true
    },
    "papermill": {
     "duration": 0.038658,
     "end_time": "2024-03-31T19:41:52.144182",
     "exception": false,
     "start_time": "2024-03-31T19:41:52.105524",
     "status": "completed"
    },
    "tags": []
   },
   "outputs": [
    {
     "data": {
      "text/html": [
       "<div>\n",
       "<style scoped>\n",
       "    .dataframe tbody tr th:only-of-type {\n",
       "        vertical-align: middle;\n",
       "    }\n",
       "\n",
       "    .dataframe tbody tr th {\n",
       "        vertical-align: top;\n",
       "    }\n",
       "\n",
       "    .dataframe thead th {\n",
       "        text-align: right;\n",
       "    }\n",
       "</style>\n",
       "<table border=\"1\" class=\"dataframe\">\n",
       "  <thead>\n",
       "    <tr style=\"text-align: right;\">\n",
       "      <th></th>\n",
       "      <th>Id</th>\n",
       "      <th>Title</th>\n",
       "      <th>Price</th>\n",
       "      <th>User_id</th>\n",
       "      <th>profileName</th>\n",
       "      <th>review/helpfulness</th>\n",
       "      <th>review/score</th>\n",
       "      <th>review/time</th>\n",
       "      <th>review/summary</th>\n",
       "      <th>review/text</th>\n",
       "    </tr>\n",
       "  </thead>\n",
       "  <tbody>\n",
       "    <tr>\n",
       "      <th>0</th>\n",
       "      <td>1882931173</td>\n",
       "      <td>Its Only Art If Its Well Hung!</td>\n",
       "      <td>NaN</td>\n",
       "      <td>AVCGYZL8FQQTD</td>\n",
       "      <td>Jim of Oz \"jim-of-oz\"</td>\n",
       "      <td>7/7</td>\n",
       "      <td>4.0</td>\n",
       "      <td>940636800</td>\n",
       "      <td>Nice collection of Julie Strain images</td>\n",
       "      <td>This is only for Julie Strain fans. It's a col...</td>\n",
       "    </tr>\n",
       "    <tr>\n",
       "      <th>1</th>\n",
       "      <td>0826414346</td>\n",
       "      <td>Dr. Seuss: American Icon</td>\n",
       "      <td>NaN</td>\n",
       "      <td>A30TK6U7DNS82R</td>\n",
       "      <td>Kevin Killian</td>\n",
       "      <td>10/10</td>\n",
       "      <td>5.0</td>\n",
       "      <td>1095724800</td>\n",
       "      <td>Really Enjoyed It</td>\n",
       "      <td>I don't care much for Dr. Seuss but after read...</td>\n",
       "    </tr>\n",
       "    <tr>\n",
       "      <th>2</th>\n",
       "      <td>0826414346</td>\n",
       "      <td>Dr. Seuss: American Icon</td>\n",
       "      <td>NaN</td>\n",
       "      <td>A3UH4UZ4RSVO82</td>\n",
       "      <td>John Granger</td>\n",
       "      <td>10/11</td>\n",
       "      <td>5.0</td>\n",
       "      <td>1078790400</td>\n",
       "      <td>Essential for every personal and Public Library</td>\n",
       "      <td>If people become the books they read and if \"t...</td>\n",
       "    </tr>\n",
       "    <tr>\n",
       "      <th>3</th>\n",
       "      <td>0826414346</td>\n",
       "      <td>Dr. Seuss: American Icon</td>\n",
       "      <td>NaN</td>\n",
       "      <td>A2MVUWT453QH61</td>\n",
       "      <td>Roy E. Perry \"amateur philosopher\"</td>\n",
       "      <td>7/7</td>\n",
       "      <td>4.0</td>\n",
       "      <td>1090713600</td>\n",
       "      <td>Phlip Nel gives silly Seuss a serious treatment</td>\n",
       "      <td>Theodore Seuss Geisel (1904-1991), aka &amp;quot;D...</td>\n",
       "    </tr>\n",
       "    <tr>\n",
       "      <th>4</th>\n",
       "      <td>0826414346</td>\n",
       "      <td>Dr. Seuss: American Icon</td>\n",
       "      <td>NaN</td>\n",
       "      <td>A22X4XUPKF66MR</td>\n",
       "      <td>D. H. Richards \"ninthwavestore\"</td>\n",
       "      <td>3/3</td>\n",
       "      <td>4.0</td>\n",
       "      <td>1107993600</td>\n",
       "      <td>Good academic overview</td>\n",
       "      <td>Philip Nel - Dr. Seuss: American IconThis is b...</td>\n",
       "    </tr>\n",
       "    <tr>\n",
       "      <th>5</th>\n",
       "      <td>0826414346</td>\n",
       "      <td>Dr. Seuss: American Icon</td>\n",
       "      <td>NaN</td>\n",
       "      <td>A2F6NONFUDB6UK</td>\n",
       "      <td>Malvin</td>\n",
       "      <td>2/2</td>\n",
       "      <td>4.0</td>\n",
       "      <td>1127174400</td>\n",
       "      <td>One of America's greatest creative talents</td>\n",
       "      <td>\"Dr. Seuss: American Icon\" by Philip Nel is a ...</td>\n",
       "    </tr>\n",
       "    <tr>\n",
       "      <th>6</th>\n",
       "      <td>0826414346</td>\n",
       "      <td>Dr. Seuss: American Icon</td>\n",
       "      <td>NaN</td>\n",
       "      <td>A14OJS0VWMOSWO</td>\n",
       "      <td>Midwest Book Review</td>\n",
       "      <td>3/4</td>\n",
       "      <td>5.0</td>\n",
       "      <td>1100131200</td>\n",
       "      <td>A memorably excellent survey of Dr. Seuss' man...</td>\n",
       "      <td>Theodor Seuss Giesel was best known as 'Dr. Se...</td>\n",
       "    </tr>\n",
       "    <tr>\n",
       "      <th>7</th>\n",
       "      <td>0826414346</td>\n",
       "      <td>Dr. Seuss: American Icon</td>\n",
       "      <td>NaN</td>\n",
       "      <td>A2RSSXTDZDUSH4</td>\n",
       "      <td>J. Squire</td>\n",
       "      <td>0/0</td>\n",
       "      <td>5.0</td>\n",
       "      <td>1231200000</td>\n",
       "      <td>Academia At It's Best</td>\n",
       "      <td>When I recieved this book as a gift for Christ...</td>\n",
       "    </tr>\n",
       "    <tr>\n",
       "      <th>8</th>\n",
       "      <td>0826414346</td>\n",
       "      <td>Dr. Seuss: American Icon</td>\n",
       "      <td>NaN</td>\n",
       "      <td>A25MD5I2GUIW6W</td>\n",
       "      <td>J. P. HIGBED \"big fellow\"</td>\n",
       "      <td>0/0</td>\n",
       "      <td>5.0</td>\n",
       "      <td>1209859200</td>\n",
       "      <td>And to think that I read it on the tram!</td>\n",
       "      <td>Trams (or any public transport) are not usuall...</td>\n",
       "    </tr>\n",
       "    <tr>\n",
       "      <th>9</th>\n",
       "      <td>0826414346</td>\n",
       "      <td>Dr. Seuss: American Icon</td>\n",
       "      <td>NaN</td>\n",
       "      <td>A3VA4XFS5WNJO3</td>\n",
       "      <td>Donald Burnside</td>\n",
       "      <td>3/5</td>\n",
       "      <td>4.0</td>\n",
       "      <td>1076371200</td>\n",
       "      <td>Fascinating account of a genius at work</td>\n",
       "      <td>As far as I am aware, this is the first book-l...</td>\n",
       "    </tr>\n",
       "    <tr>\n",
       "      <th>10</th>\n",
       "      <td>0829814000</td>\n",
       "      <td>Wonderful Worship in Smaller Churches</td>\n",
       "      <td>19.40</td>\n",
       "      <td>AZ0IOBU20TBOP</td>\n",
       "      <td>Rev. Pamela Tinnin</td>\n",
       "      <td>8/10</td>\n",
       "      <td>5.0</td>\n",
       "      <td>991440000</td>\n",
       "      <td>Outstanding Resource for Small Church Pastors</td>\n",
       "      <td>I just finished the book, &amp;quot;Wonderful Wors...</td>\n",
       "    </tr>\n",
       "    <tr>\n",
       "      <th>11</th>\n",
       "      <td>0829814000</td>\n",
       "      <td>Wonderful Worship in Smaller Churches</td>\n",
       "      <td>19.40</td>\n",
       "      <td>A373VVEU6Z9M0N</td>\n",
       "      <td>Dr. Terry W. Dorsett</td>\n",
       "      <td>1/1</td>\n",
       "      <td>5.0</td>\n",
       "      <td>1291766400</td>\n",
       "      <td>Small Churches CAN Have Wonderful Worship</td>\n",
       "      <td>Many small churches feel like they can not hav...</td>\n",
       "    </tr>\n",
       "    <tr>\n",
       "      <th>12</th>\n",
       "      <td>0829814000</td>\n",
       "      <td>Wonderful Worship in Smaller Churches</td>\n",
       "      <td>19.40</td>\n",
       "      <td>AGKGOH65VTRR4</td>\n",
       "      <td>Cynthia L. Lajoy \"Cindy La Joy\"</td>\n",
       "      <td>1/1</td>\n",
       "      <td>5.0</td>\n",
       "      <td>1248307200</td>\n",
       "      <td>Not Just for Pastors!</td>\n",
       "      <td>I just finished reading this amazing book and ...</td>\n",
       "    </tr>\n",
       "    <tr>\n",
       "      <th>13</th>\n",
       "      <td>0829814000</td>\n",
       "      <td>Wonderful Worship in Smaller Churches</td>\n",
       "      <td>19.40</td>\n",
       "      <td>A3OQWLU31BU1Y</td>\n",
       "      <td>Maxwell Grant</td>\n",
       "      <td>1/1</td>\n",
       "      <td>5.0</td>\n",
       "      <td>1222560000</td>\n",
       "      <td>Small church pastor? This is the book on worship</td>\n",
       "      <td>I hadn't been a small church pastor very long ...</td>\n",
       "    </tr>\n",
       "    <tr>\n",
       "      <th>14</th>\n",
       "      <td>0595344550</td>\n",
       "      <td>Whispers of the Wicked Saints</td>\n",
       "      <td>10.95</td>\n",
       "      <td>A3Q12RK71N74LB</td>\n",
       "      <td>Book Reader</td>\n",
       "      <td>7/11</td>\n",
       "      <td>1.0</td>\n",
       "      <td>1117065600</td>\n",
       "      <td>not good</td>\n",
       "      <td>I bought this book because I read some glowing...</td>\n",
       "    </tr>\n",
       "    <tr>\n",
       "      <th>15</th>\n",
       "      <td>0595344550</td>\n",
       "      <td>Whispers of the Wicked Saints</td>\n",
       "      <td>10.95</td>\n",
       "      <td>A1E9M6APK30ZAU</td>\n",
       "      <td>V. Powell</td>\n",
       "      <td>1/2</td>\n",
       "      <td>4.0</td>\n",
       "      <td>1119571200</td>\n",
       "      <td>Here is my opinion</td>\n",
       "      <td>I have to admit, I am not one to write reviews...</td>\n",
       "    </tr>\n",
       "    <tr>\n",
       "      <th>16</th>\n",
       "      <td>0595344550</td>\n",
       "      <td>Whispers of the Wicked Saints</td>\n",
       "      <td>10.95</td>\n",
       "      <td>AUR0VA5H0C66C</td>\n",
       "      <td>LoveToRead \"Actually Read Books\"</td>\n",
       "      <td>1/2</td>\n",
       "      <td>1.0</td>\n",
       "      <td>1119225600</td>\n",
       "      <td>Buyer beware</td>\n",
       "      <td>This is a self-published book, and if you want...</td>\n",
       "    </tr>\n",
       "    <tr>\n",
       "      <th>17</th>\n",
       "      <td>0595344550</td>\n",
       "      <td>Whispers of the Wicked Saints</td>\n",
       "      <td>10.95</td>\n",
       "      <td>A1YLDZ3VHR6QPZ</td>\n",
       "      <td>Clara</td>\n",
       "      <td>2/4</td>\n",
       "      <td>5.0</td>\n",
       "      <td>1115942400</td>\n",
       "      <td>Fall on your knee's</td>\n",
       "      <td>When I first read this the I was mezmerized at...</td>\n",
       "    </tr>\n",
       "    <tr>\n",
       "      <th>18</th>\n",
       "      <td>0595344550</td>\n",
       "      <td>Whispers of the Wicked Saints</td>\n",
       "      <td>10.95</td>\n",
       "      <td>ACO23CG8K8T77</td>\n",
       "      <td>Tonya</td>\n",
       "      <td>5/9</td>\n",
       "      <td>5.0</td>\n",
       "      <td>1117065600</td>\n",
       "      <td>Bravo Veronica</td>\n",
       "      <td>I read the review directly under mine and I ha...</td>\n",
       "    </tr>\n",
       "    <tr>\n",
       "      <th>19</th>\n",
       "      <td>0595344550</td>\n",
       "      <td>Whispers of the Wicked Saints</td>\n",
       "      <td>10.95</td>\n",
       "      <td>A1VK81CRRC7MLM</td>\n",
       "      <td>missyLou \"apple\"</td>\n",
       "      <td>1/3</td>\n",
       "      <td>5.0</td>\n",
       "      <td>1130025600</td>\n",
       "      <td>Wonderful</td>\n",
       "      <td>I really enjoyed the book. I believe the autho...</td>\n",
       "    </tr>\n",
       "  </tbody>\n",
       "</table>\n",
       "</div>"
      ],
      "text/plain": [
       "            Id                                  Title  Price         User_id  \\\n",
       "0   1882931173         Its Only Art If Its Well Hung!    NaN   AVCGYZL8FQQTD   \n",
       "1   0826414346               Dr. Seuss: American Icon    NaN  A30TK6U7DNS82R   \n",
       "2   0826414346               Dr. Seuss: American Icon    NaN  A3UH4UZ4RSVO82   \n",
       "3   0826414346               Dr. Seuss: American Icon    NaN  A2MVUWT453QH61   \n",
       "4   0826414346               Dr. Seuss: American Icon    NaN  A22X4XUPKF66MR   \n",
       "5   0826414346               Dr. Seuss: American Icon    NaN  A2F6NONFUDB6UK   \n",
       "6   0826414346               Dr. Seuss: American Icon    NaN  A14OJS0VWMOSWO   \n",
       "7   0826414346               Dr. Seuss: American Icon    NaN  A2RSSXTDZDUSH4   \n",
       "8   0826414346               Dr. Seuss: American Icon    NaN  A25MD5I2GUIW6W   \n",
       "9   0826414346               Dr. Seuss: American Icon    NaN  A3VA4XFS5WNJO3   \n",
       "10  0829814000  Wonderful Worship in Smaller Churches  19.40   AZ0IOBU20TBOP   \n",
       "11  0829814000  Wonderful Worship in Smaller Churches  19.40  A373VVEU6Z9M0N   \n",
       "12  0829814000  Wonderful Worship in Smaller Churches  19.40   AGKGOH65VTRR4   \n",
       "13  0829814000  Wonderful Worship in Smaller Churches  19.40   A3OQWLU31BU1Y   \n",
       "14  0595344550          Whispers of the Wicked Saints  10.95  A3Q12RK71N74LB   \n",
       "15  0595344550          Whispers of the Wicked Saints  10.95  A1E9M6APK30ZAU   \n",
       "16  0595344550          Whispers of the Wicked Saints  10.95   AUR0VA5H0C66C   \n",
       "17  0595344550          Whispers of the Wicked Saints  10.95  A1YLDZ3VHR6QPZ   \n",
       "18  0595344550          Whispers of the Wicked Saints  10.95   ACO23CG8K8T77   \n",
       "19  0595344550          Whispers of the Wicked Saints  10.95  A1VK81CRRC7MLM   \n",
       "\n",
       "                           profileName review/helpfulness  review/score  \\\n",
       "0                Jim of Oz \"jim-of-oz\"                7/7           4.0   \n",
       "1                        Kevin Killian              10/10           5.0   \n",
       "2                         John Granger              10/11           5.0   \n",
       "3   Roy E. Perry \"amateur philosopher\"                7/7           4.0   \n",
       "4      D. H. Richards \"ninthwavestore\"                3/3           4.0   \n",
       "5                               Malvin                2/2           4.0   \n",
       "6                  Midwest Book Review                3/4           5.0   \n",
       "7                            J. Squire                0/0           5.0   \n",
       "8            J. P. HIGBED \"big fellow\"                0/0           5.0   \n",
       "9                      Donald Burnside                3/5           4.0   \n",
       "10                  Rev. Pamela Tinnin               8/10           5.0   \n",
       "11                Dr. Terry W. Dorsett                1/1           5.0   \n",
       "12     Cynthia L. Lajoy \"Cindy La Joy\"                1/1           5.0   \n",
       "13                       Maxwell Grant                1/1           5.0   \n",
       "14                         Book Reader               7/11           1.0   \n",
       "15                           V. Powell                1/2           4.0   \n",
       "16    LoveToRead \"Actually Read Books\"                1/2           1.0   \n",
       "17                               Clara                2/4           5.0   \n",
       "18                               Tonya                5/9           5.0   \n",
       "19                    missyLou \"apple\"                1/3           5.0   \n",
       "\n",
       "    review/time                                     review/summary  \\\n",
       "0     940636800             Nice collection of Julie Strain images   \n",
       "1    1095724800                                  Really Enjoyed It   \n",
       "2    1078790400    Essential for every personal and Public Library   \n",
       "3    1090713600    Phlip Nel gives silly Seuss a serious treatment   \n",
       "4    1107993600                             Good academic overview   \n",
       "5    1127174400         One of America's greatest creative talents   \n",
       "6    1100131200  A memorably excellent survey of Dr. Seuss' man...   \n",
       "7    1231200000                              Academia At It's Best   \n",
       "8    1209859200           And to think that I read it on the tram!   \n",
       "9    1076371200            Fascinating account of a genius at work   \n",
       "10    991440000      Outstanding Resource for Small Church Pastors   \n",
       "11   1291766400          Small Churches CAN Have Wonderful Worship   \n",
       "12   1248307200                              Not Just for Pastors!   \n",
       "13   1222560000   Small church pastor? This is the book on worship   \n",
       "14   1117065600                                           not good   \n",
       "15   1119571200                                 Here is my opinion   \n",
       "16   1119225600                                       Buyer beware   \n",
       "17   1115942400                                Fall on your knee's   \n",
       "18   1117065600                                     Bravo Veronica   \n",
       "19   1130025600                                          Wonderful   \n",
       "\n",
       "                                          review/text  \n",
       "0   This is only for Julie Strain fans. It's a col...  \n",
       "1   I don't care much for Dr. Seuss but after read...  \n",
       "2   If people become the books they read and if \"t...  \n",
       "3   Theodore Seuss Geisel (1904-1991), aka &quot;D...  \n",
       "4   Philip Nel - Dr. Seuss: American IconThis is b...  \n",
       "5   \"Dr. Seuss: American Icon\" by Philip Nel is a ...  \n",
       "6   Theodor Seuss Giesel was best known as 'Dr. Se...  \n",
       "7   When I recieved this book as a gift for Christ...  \n",
       "8   Trams (or any public transport) are not usuall...  \n",
       "9   As far as I am aware, this is the first book-l...  \n",
       "10  I just finished the book, &quot;Wonderful Wors...  \n",
       "11  Many small churches feel like they can not hav...  \n",
       "12  I just finished reading this amazing book and ...  \n",
       "13  I hadn't been a small church pastor very long ...  \n",
       "14  I bought this book because I read some glowing...  \n",
       "15  I have to admit, I am not one to write reviews...  \n",
       "16  This is a self-published book, and if you want...  \n",
       "17  When I first read this the I was mezmerized at...  \n",
       "18  I read the review directly under mine and I ha...  \n",
       "19  I really enjoyed the book. I believe the autho...  "
      ]
     },
     "execution_count": 4,
     "metadata": {},
     "output_type": "execute_result"
    }
   ],
   "source": [
    "df.head(20)"
   ]
  },
  {
   "cell_type": "code",
   "execution_count": 5,
   "id": "9b9847dc",
   "metadata": {
    "execution": {
     "iopub.execute_input": "2024-03-31T19:41:52.159200Z",
     "iopub.status.busy": "2024-03-31T19:41:52.158464Z",
     "iopub.status.idle": "2024-03-31T19:41:52.165371Z",
     "shell.execute_reply": "2024-03-31T19:41:52.164661Z"
    },
    "papermill": {
     "duration": 0.016505,
     "end_time": "2024-03-31T19:41:52.167436",
     "exception": false,
     "start_time": "2024-03-31T19:41:52.150931",
     "status": "completed"
    },
    "tags": []
   },
   "outputs": [
    {
     "data": {
      "text/plain": [
       "Id                     object\n",
       "Title                  object\n",
       "Price                 float64\n",
       "User_id                object\n",
       "profileName            object\n",
       "review/helpfulness     object\n",
       "review/score          float64\n",
       "review/time             int64\n",
       "review/summary         object\n",
       "review/text            object\n",
       "dtype: object"
      ]
     },
     "execution_count": 5,
     "metadata": {},
     "output_type": "execute_result"
    }
   ],
   "source": [
    "df.dtypes"
   ]
  },
  {
   "cell_type": "markdown",
   "id": "995faf5a",
   "metadata": {
    "papermill": {
     "duration": 0.006027,
     "end_time": "2024-03-31T19:41:52.180133",
     "exception": false,
     "start_time": "2024-03-31T19:41:52.174106",
     "status": "completed"
    },
    "tags": []
   },
   "source": [
    "**PRÉ-PROCESSAMENTO**\n",
    "* Dropar colunas desnecessárias\n",
    "*Tirar duplicatas\n",
    "* Renomar colunas\n"
   ]
  },
  {
   "cell_type": "code",
   "execution_count": 6,
   "id": "6ed5fc1a",
   "metadata": {
    "execution": {
     "iopub.execute_input": "2024-03-31T19:41:52.194862Z",
     "iopub.status.busy": "2024-03-31T19:41:52.194104Z",
     "iopub.status.idle": "2024-03-31T19:41:52.199731Z",
     "shell.execute_reply": "2024-03-31T19:41:52.199010Z"
    },
    "papermill": {
     "duration": 0.015324,
     "end_time": "2024-03-31T19:41:52.201752",
     "exception": false,
     "start_time": "2024-03-31T19:41:52.186428",
     "status": "completed"
    },
    "tags": []
   },
   "outputs": [
    {
     "data": {
      "text/plain": [
       "Index(['Id', 'Title', 'Price', 'User_id', 'profileName', 'review/helpfulness',\n",
       "       'review/score', 'review/time', 'review/summary', 'review/text'],\n",
       "      dtype='object')"
      ]
     },
     "execution_count": 6,
     "metadata": {},
     "output_type": "execute_result"
    }
   ],
   "source": [
    "df.columns"
   ]
  },
  {
   "cell_type": "code",
   "execution_count": 7,
   "id": "a7bd3cf0",
   "metadata": {
    "collapsed": true,
    "execution": {
     "iopub.execute_input": "2024-03-31T19:41:52.216516Z",
     "iopub.status.busy": "2024-03-31T19:41:52.215834Z",
     "iopub.status.idle": "2024-03-31T19:41:52.508074Z",
     "shell.execute_reply": "2024-03-31T19:41:52.506872Z"
    },
    "jupyter": {
     "outputs_hidden": true
    },
    "papermill": {
     "duration": 0.30266,
     "end_time": "2024-03-31T19:41:52.510773",
     "exception": false,
     "start_time": "2024-03-31T19:41:52.208113",
     "status": "completed"
    },
    "tags": []
   },
   "outputs": [],
   "source": [
    "df.drop(['Price', 'review/helpfulness','review/time'], axis=1, inplace= True)"
   ]
  },
  {
   "cell_type": "code",
   "execution_count": 8,
   "id": "50eca17e",
   "metadata": {
    "execution": {
     "iopub.execute_input": "2024-03-31T19:41:52.525351Z",
     "iopub.status.busy": "2024-03-31T19:41:52.524934Z",
     "iopub.status.idle": "2024-03-31T19:41:52.538457Z",
     "shell.execute_reply": "2024-03-31T19:41:52.537457Z"
    },
    "papermill": {
     "duration": 0.023479,
     "end_time": "2024-03-31T19:41:52.540758",
     "exception": false,
     "start_time": "2024-03-31T19:41:52.517279",
     "status": "completed"
    },
    "tags": []
   },
   "outputs": [
    {
     "data": {
      "text/html": [
       "<div>\n",
       "<style scoped>\n",
       "    .dataframe tbody tr th:only-of-type {\n",
       "        vertical-align: middle;\n",
       "    }\n",
       "\n",
       "    .dataframe tbody tr th {\n",
       "        vertical-align: top;\n",
       "    }\n",
       "\n",
       "    .dataframe thead th {\n",
       "        text-align: right;\n",
       "    }\n",
       "</style>\n",
       "<table border=\"1\" class=\"dataframe\">\n",
       "  <thead>\n",
       "    <tr style=\"text-align: right;\">\n",
       "      <th></th>\n",
       "      <th>Id</th>\n",
       "      <th>Title</th>\n",
       "      <th>User_id</th>\n",
       "      <th>profileName</th>\n",
       "      <th>review/score</th>\n",
       "      <th>review/summary</th>\n",
       "      <th>review/text</th>\n",
       "    </tr>\n",
       "  </thead>\n",
       "  <tbody>\n",
       "    <tr>\n",
       "      <th>0</th>\n",
       "      <td>1882931173</td>\n",
       "      <td>Its Only Art If Its Well Hung!</td>\n",
       "      <td>AVCGYZL8FQQTD</td>\n",
       "      <td>Jim of Oz \"jim-of-oz\"</td>\n",
       "      <td>4.0</td>\n",
       "      <td>Nice collection of Julie Strain images</td>\n",
       "      <td>This is only for Julie Strain fans. It's a col...</td>\n",
       "    </tr>\n",
       "    <tr>\n",
       "      <th>1</th>\n",
       "      <td>0826414346</td>\n",
       "      <td>Dr. Seuss: American Icon</td>\n",
       "      <td>A30TK6U7DNS82R</td>\n",
       "      <td>Kevin Killian</td>\n",
       "      <td>5.0</td>\n",
       "      <td>Really Enjoyed It</td>\n",
       "      <td>I don't care much for Dr. Seuss but after read...</td>\n",
       "    </tr>\n",
       "    <tr>\n",
       "      <th>2</th>\n",
       "      <td>0826414346</td>\n",
       "      <td>Dr. Seuss: American Icon</td>\n",
       "      <td>A3UH4UZ4RSVO82</td>\n",
       "      <td>John Granger</td>\n",
       "      <td>5.0</td>\n",
       "      <td>Essential for every personal and Public Library</td>\n",
       "      <td>If people become the books they read and if \"t...</td>\n",
       "    </tr>\n",
       "    <tr>\n",
       "      <th>3</th>\n",
       "      <td>0826414346</td>\n",
       "      <td>Dr. Seuss: American Icon</td>\n",
       "      <td>A2MVUWT453QH61</td>\n",
       "      <td>Roy E. Perry \"amateur philosopher\"</td>\n",
       "      <td>4.0</td>\n",
       "      <td>Phlip Nel gives silly Seuss a serious treatment</td>\n",
       "      <td>Theodore Seuss Geisel (1904-1991), aka &amp;quot;D...</td>\n",
       "    </tr>\n",
       "    <tr>\n",
       "      <th>4</th>\n",
       "      <td>0826414346</td>\n",
       "      <td>Dr. Seuss: American Icon</td>\n",
       "      <td>A22X4XUPKF66MR</td>\n",
       "      <td>D. H. Richards \"ninthwavestore\"</td>\n",
       "      <td>4.0</td>\n",
       "      <td>Good academic overview</td>\n",
       "      <td>Philip Nel - Dr. Seuss: American IconThis is b...</td>\n",
       "    </tr>\n",
       "  </tbody>\n",
       "</table>\n",
       "</div>"
      ],
      "text/plain": [
       "           Id                           Title         User_id  \\\n",
       "0  1882931173  Its Only Art If Its Well Hung!   AVCGYZL8FQQTD   \n",
       "1  0826414346        Dr. Seuss: American Icon  A30TK6U7DNS82R   \n",
       "2  0826414346        Dr. Seuss: American Icon  A3UH4UZ4RSVO82   \n",
       "3  0826414346        Dr. Seuss: American Icon  A2MVUWT453QH61   \n",
       "4  0826414346        Dr. Seuss: American Icon  A22X4XUPKF66MR   \n",
       "\n",
       "                          profileName  review/score  \\\n",
       "0               Jim of Oz \"jim-of-oz\"           4.0   \n",
       "1                       Kevin Killian           5.0   \n",
       "2                        John Granger           5.0   \n",
       "3  Roy E. Perry \"amateur philosopher\"           4.0   \n",
       "4     D. H. Richards \"ninthwavestore\"           4.0   \n",
       "\n",
       "                                    review/summary  \\\n",
       "0           Nice collection of Julie Strain images   \n",
       "1                                Really Enjoyed It   \n",
       "2  Essential for every personal and Public Library   \n",
       "3  Phlip Nel gives silly Seuss a serious treatment   \n",
       "4                           Good academic overview   \n",
       "\n",
       "                                         review/text  \n",
       "0  This is only for Julie Strain fans. It's a col...  \n",
       "1  I don't care much for Dr. Seuss but after read...  \n",
       "2  If people become the books they read and if \"t...  \n",
       "3  Theodore Seuss Geisel (1904-1991), aka &quot;D...  \n",
       "4  Philip Nel - Dr. Seuss: American IconThis is b...  "
      ]
     },
     "execution_count": 8,
     "metadata": {},
     "output_type": "execute_result"
    }
   ],
   "source": [
    "df.head(5)"
   ]
  },
  {
   "cell_type": "code",
   "execution_count": 9,
   "id": "d16f8f66",
   "metadata": {
    "execution": {
     "iopub.execute_input": "2024-03-31T19:41:52.556545Z",
     "iopub.status.busy": "2024-03-31T19:41:52.556183Z",
     "iopub.status.idle": "2024-03-31T19:41:52.562590Z",
     "shell.execute_reply": "2024-03-31T19:41:52.561529Z"
    },
    "papermill": {
     "duration": 0.016471,
     "end_time": "2024-03-31T19:41:52.564836",
     "exception": false,
     "start_time": "2024-03-31T19:41:52.548365",
     "status": "completed"
    },
    "tags": []
   },
   "outputs": [
    {
     "data": {
      "text/plain": [
       "(3000000, 7)"
      ]
     },
     "execution_count": 9,
     "metadata": {},
     "output_type": "execute_result"
    }
   ],
   "source": [
    "df.shape"
   ]
  },
  {
   "cell_type": "code",
   "execution_count": 10,
   "id": "4608cce5",
   "metadata": {
    "execution": {
     "iopub.execute_input": "2024-03-31T19:41:52.580301Z",
     "iopub.status.busy": "2024-03-31T19:41:52.579523Z",
     "iopub.status.idle": "2024-03-31T19:41:52.587533Z",
     "shell.execute_reply": "2024-03-31T19:41:52.586481Z"
    },
    "papermill": {
     "duration": 0.018471,
     "end_time": "2024-03-31T19:41:52.589865",
     "exception": false,
     "start_time": "2024-03-31T19:41:52.571394",
     "status": "completed"
    },
    "tags": []
   },
   "outputs": [
    {
     "data": {
      "text/plain": [
       "Id                 object\n",
       "Title              object\n",
       "User_id            object\n",
       "profileName        object\n",
       "review/score      float64\n",
       "review/summary     object\n",
       "review/text        object\n",
       "dtype: object"
      ]
     },
     "execution_count": 10,
     "metadata": {},
     "output_type": "execute_result"
    }
   ],
   "source": [
    "df.dtypes"
   ]
  },
  {
   "cell_type": "code",
   "execution_count": 11,
   "id": "42f7f28c",
   "metadata": {
    "execution": {
     "iopub.execute_input": "2024-03-31T19:41:52.605127Z",
     "iopub.status.busy": "2024-03-31T19:41:52.604756Z",
     "iopub.status.idle": "2024-03-31T19:41:52.622565Z",
     "shell.execute_reply": "2024-03-31T19:41:52.621506Z"
    },
    "papermill": {
     "duration": 0.028531,
     "end_time": "2024-03-31T19:41:52.625092",
     "exception": false,
     "start_time": "2024-03-31T19:41:52.596561",
     "status": "completed"
    },
    "tags": []
   },
   "outputs": [
    {
     "data": {
      "text/plain": [
       "0          4\n",
       "1          5\n",
       "2          5\n",
       "3          4\n",
       "4          4\n",
       "          ..\n",
       "2999995    4\n",
       "2999996    4\n",
       "2999997    4\n",
       "2999998    5\n",
       "2999999    1\n",
       "Name: review/score, Length: 3000000, dtype: int64"
      ]
     },
     "execution_count": 11,
     "metadata": {},
     "output_type": "execute_result"
    }
   ],
   "source": [
    "pd.to_numeric(df['review/score'].astype(int))"
   ]
  },
  {
   "cell_type": "code",
   "execution_count": 12,
   "id": "5d6131a0",
   "metadata": {
    "execution": {
     "iopub.execute_input": "2024-03-31T19:41:52.640550Z",
     "iopub.status.busy": "2024-03-31T19:41:52.640164Z",
     "iopub.status.idle": "2024-03-31T19:41:52.654501Z",
     "shell.execute_reply": "2024-03-31T19:41:52.653403Z"
    },
    "papermill": {
     "duration": 0.024445,
     "end_time": "2024-03-31T19:41:52.656560",
     "exception": false,
     "start_time": "2024-03-31T19:41:52.632115",
     "status": "completed"
    },
    "tags": []
   },
   "outputs": [
    {
     "data": {
      "text/html": [
       "<div>\n",
       "<style scoped>\n",
       "    .dataframe tbody tr th:only-of-type {\n",
       "        vertical-align: middle;\n",
       "    }\n",
       "\n",
       "    .dataframe tbody tr th {\n",
       "        vertical-align: top;\n",
       "    }\n",
       "\n",
       "    .dataframe thead th {\n",
       "        text-align: right;\n",
       "    }\n",
       "</style>\n",
       "<table border=\"1\" class=\"dataframe\">\n",
       "  <thead>\n",
       "    <tr style=\"text-align: right;\">\n",
       "      <th></th>\n",
       "      <th>Id</th>\n",
       "      <th>Title</th>\n",
       "      <th>User_id</th>\n",
       "      <th>profileName</th>\n",
       "      <th>review/score</th>\n",
       "      <th>review/summary</th>\n",
       "      <th>review/text</th>\n",
       "    </tr>\n",
       "  </thead>\n",
       "  <tbody>\n",
       "    <tr>\n",
       "      <th>0</th>\n",
       "      <td>1882931173</td>\n",
       "      <td>Its Only Art If Its Well Hung!</td>\n",
       "      <td>AVCGYZL8FQQTD</td>\n",
       "      <td>Jim of Oz \"jim-of-oz\"</td>\n",
       "      <td>4.0</td>\n",
       "      <td>Nice collection of Julie Strain images</td>\n",
       "      <td>This is only for Julie Strain fans. It's a col...</td>\n",
       "    </tr>\n",
       "    <tr>\n",
       "      <th>1</th>\n",
       "      <td>0826414346</td>\n",
       "      <td>Dr. Seuss: American Icon</td>\n",
       "      <td>A30TK6U7DNS82R</td>\n",
       "      <td>Kevin Killian</td>\n",
       "      <td>5.0</td>\n",
       "      <td>Really Enjoyed It</td>\n",
       "      <td>I don't care much for Dr. Seuss but after read...</td>\n",
       "    </tr>\n",
       "    <tr>\n",
       "      <th>2</th>\n",
       "      <td>0826414346</td>\n",
       "      <td>Dr. Seuss: American Icon</td>\n",
       "      <td>A3UH4UZ4RSVO82</td>\n",
       "      <td>John Granger</td>\n",
       "      <td>5.0</td>\n",
       "      <td>Essential for every personal and Public Library</td>\n",
       "      <td>If people become the books they read and if \"t...</td>\n",
       "    </tr>\n",
       "    <tr>\n",
       "      <th>3</th>\n",
       "      <td>0826414346</td>\n",
       "      <td>Dr. Seuss: American Icon</td>\n",
       "      <td>A2MVUWT453QH61</td>\n",
       "      <td>Roy E. Perry \"amateur philosopher\"</td>\n",
       "      <td>4.0</td>\n",
       "      <td>Phlip Nel gives silly Seuss a serious treatment</td>\n",
       "      <td>Theodore Seuss Geisel (1904-1991), aka &amp;quot;D...</td>\n",
       "    </tr>\n",
       "    <tr>\n",
       "      <th>4</th>\n",
       "      <td>0826414346</td>\n",
       "      <td>Dr. Seuss: American Icon</td>\n",
       "      <td>A22X4XUPKF66MR</td>\n",
       "      <td>D. H. Richards \"ninthwavestore\"</td>\n",
       "      <td>4.0</td>\n",
       "      <td>Good academic overview</td>\n",
       "      <td>Philip Nel - Dr. Seuss: American IconThis is b...</td>\n",
       "    </tr>\n",
       "  </tbody>\n",
       "</table>\n",
       "</div>"
      ],
      "text/plain": [
       "           Id                           Title         User_id  \\\n",
       "0  1882931173  Its Only Art If Its Well Hung!   AVCGYZL8FQQTD   \n",
       "1  0826414346        Dr. Seuss: American Icon  A30TK6U7DNS82R   \n",
       "2  0826414346        Dr. Seuss: American Icon  A3UH4UZ4RSVO82   \n",
       "3  0826414346        Dr. Seuss: American Icon  A2MVUWT453QH61   \n",
       "4  0826414346        Dr. Seuss: American Icon  A22X4XUPKF66MR   \n",
       "\n",
       "                          profileName  review/score  \\\n",
       "0               Jim of Oz \"jim-of-oz\"           4.0   \n",
       "1                       Kevin Killian           5.0   \n",
       "2                        John Granger           5.0   \n",
       "3  Roy E. Perry \"amateur philosopher\"           4.0   \n",
       "4     D. H. Richards \"ninthwavestore\"           4.0   \n",
       "\n",
       "                                    review/summary  \\\n",
       "0           Nice collection of Julie Strain images   \n",
       "1                                Really Enjoyed It   \n",
       "2  Essential for every personal and Public Library   \n",
       "3  Phlip Nel gives silly Seuss a serious treatment   \n",
       "4                           Good academic overview   \n",
       "\n",
       "                                         review/text  \n",
       "0  This is only for Julie Strain fans. It's a col...  \n",
       "1  I don't care much for Dr. Seuss but after read...  \n",
       "2  If people become the books they read and if \"t...  \n",
       "3  Theodore Seuss Geisel (1904-1991), aka &quot;D...  \n",
       "4  Philip Nel - Dr. Seuss: American IconThis is b...  "
      ]
     },
     "execution_count": 12,
     "metadata": {},
     "output_type": "execute_result"
    }
   ],
   "source": [
    "df.head(5)"
   ]
  },
  {
   "cell_type": "code",
   "execution_count": 13,
   "id": "46bd914c",
   "metadata": {
    "execution": {
     "iopub.execute_input": "2024-03-31T19:41:52.672603Z",
     "iopub.status.busy": "2024-03-31T19:41:52.672211Z",
     "iopub.status.idle": "2024-03-31T19:41:52.928216Z",
     "shell.execute_reply": "2024-03-31T19:41:52.927168Z"
    },
    "papermill": {
     "duration": 0.26701,
     "end_time": "2024-03-31T19:41:52.930748",
     "exception": false,
     "start_time": "2024-03-31T19:41:52.663738",
     "status": "completed"
    },
    "tags": []
   },
   "outputs": [],
   "source": [
    "df = df.rename(columns={'review/score':'Score',\n",
    "                        'review/summary': 'summary',\n",
    "                        'review/text' : 'review'\n",
    "    \n",
    "})"
   ]
  },
  {
   "cell_type": "code",
   "execution_count": 14,
   "id": "a87b2c2c",
   "metadata": {
    "execution": {
     "iopub.execute_input": "2024-03-31T19:41:52.946528Z",
     "iopub.status.busy": "2024-03-31T19:41:52.946156Z",
     "iopub.status.idle": "2024-03-31T19:41:52.959863Z",
     "shell.execute_reply": "2024-03-31T19:41:52.958784Z"
    },
    "papermill": {
     "duration": 0.024002,
     "end_time": "2024-03-31T19:41:52.961981",
     "exception": false,
     "start_time": "2024-03-31T19:41:52.937979",
     "status": "completed"
    },
    "tags": []
   },
   "outputs": [
    {
     "data": {
      "text/html": [
       "<div>\n",
       "<style scoped>\n",
       "    .dataframe tbody tr th:only-of-type {\n",
       "        vertical-align: middle;\n",
       "    }\n",
       "\n",
       "    .dataframe tbody tr th {\n",
       "        vertical-align: top;\n",
       "    }\n",
       "\n",
       "    .dataframe thead th {\n",
       "        text-align: right;\n",
       "    }\n",
       "</style>\n",
       "<table border=\"1\" class=\"dataframe\">\n",
       "  <thead>\n",
       "    <tr style=\"text-align: right;\">\n",
       "      <th></th>\n",
       "      <th>Id</th>\n",
       "      <th>Title</th>\n",
       "      <th>User_id</th>\n",
       "      <th>profileName</th>\n",
       "      <th>Score</th>\n",
       "      <th>summary</th>\n",
       "      <th>review</th>\n",
       "    </tr>\n",
       "  </thead>\n",
       "  <tbody>\n",
       "    <tr>\n",
       "      <th>0</th>\n",
       "      <td>1882931173</td>\n",
       "      <td>Its Only Art If Its Well Hung!</td>\n",
       "      <td>AVCGYZL8FQQTD</td>\n",
       "      <td>Jim of Oz \"jim-of-oz\"</td>\n",
       "      <td>4.0</td>\n",
       "      <td>Nice collection of Julie Strain images</td>\n",
       "      <td>This is only for Julie Strain fans. It's a col...</td>\n",
       "    </tr>\n",
       "    <tr>\n",
       "      <th>1</th>\n",
       "      <td>0826414346</td>\n",
       "      <td>Dr. Seuss: American Icon</td>\n",
       "      <td>A30TK6U7DNS82R</td>\n",
       "      <td>Kevin Killian</td>\n",
       "      <td>5.0</td>\n",
       "      <td>Really Enjoyed It</td>\n",
       "      <td>I don't care much for Dr. Seuss but after read...</td>\n",
       "    </tr>\n",
       "    <tr>\n",
       "      <th>2</th>\n",
       "      <td>0826414346</td>\n",
       "      <td>Dr. Seuss: American Icon</td>\n",
       "      <td>A3UH4UZ4RSVO82</td>\n",
       "      <td>John Granger</td>\n",
       "      <td>5.0</td>\n",
       "      <td>Essential for every personal and Public Library</td>\n",
       "      <td>If people become the books they read and if \"t...</td>\n",
       "    </tr>\n",
       "    <tr>\n",
       "      <th>3</th>\n",
       "      <td>0826414346</td>\n",
       "      <td>Dr. Seuss: American Icon</td>\n",
       "      <td>A2MVUWT453QH61</td>\n",
       "      <td>Roy E. Perry \"amateur philosopher\"</td>\n",
       "      <td>4.0</td>\n",
       "      <td>Phlip Nel gives silly Seuss a serious treatment</td>\n",
       "      <td>Theodore Seuss Geisel (1904-1991), aka &amp;quot;D...</td>\n",
       "    </tr>\n",
       "    <tr>\n",
       "      <th>4</th>\n",
       "      <td>0826414346</td>\n",
       "      <td>Dr. Seuss: American Icon</td>\n",
       "      <td>A22X4XUPKF66MR</td>\n",
       "      <td>D. H. Richards \"ninthwavestore\"</td>\n",
       "      <td>4.0</td>\n",
       "      <td>Good academic overview</td>\n",
       "      <td>Philip Nel - Dr. Seuss: American IconThis is b...</td>\n",
       "    </tr>\n",
       "  </tbody>\n",
       "</table>\n",
       "</div>"
      ],
      "text/plain": [
       "           Id                           Title         User_id  \\\n",
       "0  1882931173  Its Only Art If Its Well Hung!   AVCGYZL8FQQTD   \n",
       "1  0826414346        Dr. Seuss: American Icon  A30TK6U7DNS82R   \n",
       "2  0826414346        Dr. Seuss: American Icon  A3UH4UZ4RSVO82   \n",
       "3  0826414346        Dr. Seuss: American Icon  A2MVUWT453QH61   \n",
       "4  0826414346        Dr. Seuss: American Icon  A22X4XUPKF66MR   \n",
       "\n",
       "                          profileName  Score  \\\n",
       "0               Jim of Oz \"jim-of-oz\"    4.0   \n",
       "1                       Kevin Killian    5.0   \n",
       "2                        John Granger    5.0   \n",
       "3  Roy E. Perry \"amateur philosopher\"    4.0   \n",
       "4     D. H. Richards \"ninthwavestore\"    4.0   \n",
       "\n",
       "                                           summary  \\\n",
       "0           Nice collection of Julie Strain images   \n",
       "1                                Really Enjoyed It   \n",
       "2  Essential for every personal and Public Library   \n",
       "3  Phlip Nel gives silly Seuss a serious treatment   \n",
       "4                           Good academic overview   \n",
       "\n",
       "                                              review  \n",
       "0  This is only for Julie Strain fans. It's a col...  \n",
       "1  I don't care much for Dr. Seuss but after read...  \n",
       "2  If people become the books they read and if \"t...  \n",
       "3  Theodore Seuss Geisel (1904-1991), aka &quot;D...  \n",
       "4  Philip Nel - Dr. Seuss: American IconThis is b...  "
      ]
     },
     "execution_count": 14,
     "metadata": {},
     "output_type": "execute_result"
    }
   ],
   "source": [
    "df.head(5)"
   ]
  },
  {
   "cell_type": "code",
   "execution_count": 15,
   "id": "196c2b79",
   "metadata": {
    "execution": {
     "iopub.execute_input": "2024-03-31T19:41:52.978972Z",
     "iopub.status.busy": "2024-03-31T19:41:52.977956Z",
     "iopub.status.idle": "2024-03-31T19:41:54.108790Z",
     "shell.execute_reply": "2024-03-31T19:41:54.107963Z"
    },
    "papermill": {
     "duration": 1.141805,
     "end_time": "2024-03-31T19:41:54.111089",
     "exception": false,
     "start_time": "2024-03-31T19:41:52.969284",
     "status": "completed"
    },
    "tags": []
   },
   "outputs": [
    {
     "data": {
      "text/plain": [
       "Id                  0\n",
       "Title             208\n",
       "User_id        561787\n",
       "profileName    561905\n",
       "Score               0\n",
       "summary           407\n",
       "review              8\n",
       "dtype: int64"
      ]
     },
     "execution_count": 15,
     "metadata": {},
     "output_type": "execute_result"
    }
   ],
   "source": [
    "df.isna().sum()"
   ]
  },
  {
   "cell_type": "code",
   "execution_count": 16,
   "id": "9a1e7535",
   "metadata": {
    "execution": {
     "iopub.execute_input": "2024-03-31T19:41:54.128232Z",
     "iopub.status.busy": "2024-03-31T19:41:54.127340Z",
     "iopub.status.idle": "2024-03-31T19:41:54.134080Z",
     "shell.execute_reply": "2024-03-31T19:41:54.133155Z"
    },
    "papermill": {
     "duration": 0.017496,
     "end_time": "2024-03-31T19:41:54.136158",
     "exception": false,
     "start_time": "2024-03-31T19:41:54.118662",
     "status": "completed"
    },
    "tags": []
   },
   "outputs": [
    {
     "data": {
      "text/plain": [
       "Index(['Id', 'Title', 'User_id', 'profileName', 'Score', 'summary', 'review'], dtype='object')"
      ]
     },
     "execution_count": 16,
     "metadata": {},
     "output_type": "execute_result"
    }
   ],
   "source": [
    "df.columns"
   ]
  },
  {
   "cell_type": "code",
   "execution_count": 17,
   "id": "69c5f554",
   "metadata": {
    "execution": {
     "iopub.execute_input": "2024-03-31T19:41:54.152817Z",
     "iopub.status.busy": "2024-03-31T19:41:54.152390Z",
     "iopub.status.idle": "2024-03-31T19:41:59.214979Z",
     "shell.execute_reply": "2024-03-31T19:41:59.213765Z"
    },
    "papermill": {
     "duration": 5.073863,
     "end_time": "2024-03-31T19:41:59.217436",
     "exception": false,
     "start_time": "2024-03-31T19:41:54.143573",
     "status": "completed"
    },
    "tags": []
   },
   "outputs": [
    {
     "data": {
      "text/plain": [
       "30034"
      ]
     },
     "execution_count": 17,
     "metadata": {},
     "output_type": "execute_result"
    }
   ],
   "source": [
    "df.duplicated(subset=['profileName', 'review', 'Id']).sum()"
   ]
  },
  {
   "cell_type": "code",
   "execution_count": 18,
   "id": "3274c1cd",
   "metadata": {
    "execution": {
     "iopub.execute_input": "2024-03-31T19:41:59.234887Z",
     "iopub.status.busy": "2024-03-31T19:41:59.234492Z",
     "iopub.status.idle": "2024-03-31T19:42:03.649067Z",
     "shell.execute_reply": "2024-03-31T19:42:03.648040Z"
    },
    "papermill": {
     "duration": 4.426203,
     "end_time": "2024-03-31T19:42:03.651698",
     "exception": false,
     "start_time": "2024-03-31T19:41:59.225495",
     "status": "completed"
    },
    "tags": []
   },
   "outputs": [],
   "source": [
    "df = df.loc[~df.duplicated(subset=['profileName', 'review', 'Id'])] \\\n",
    "    .reset_index(drop=True)"
   ]
  },
  {
   "cell_type": "code",
   "execution_count": 19,
   "id": "ac989f7e",
   "metadata": {
    "execution": {
     "iopub.execute_input": "2024-03-31T19:42:03.669268Z",
     "iopub.status.busy": "2024-03-31T19:42:03.668911Z",
     "iopub.status.idle": "2024-03-31T19:42:03.675238Z",
     "shell.execute_reply": "2024-03-31T19:42:03.674160Z"
    },
    "papermill": {
     "duration": 0.017643,
     "end_time": "2024-03-31T19:42:03.677542",
     "exception": false,
     "start_time": "2024-03-31T19:42:03.659899",
     "status": "completed"
    },
    "tags": []
   },
   "outputs": [
    {
     "data": {
      "text/plain": [
       "(2969966, 7)"
      ]
     },
     "execution_count": 19,
     "metadata": {},
     "output_type": "execute_result"
    }
   ],
   "source": [
    "df.shape"
   ]
  },
  {
   "cell_type": "code",
   "execution_count": 20,
   "id": "a4ad4982",
   "metadata": {
    "execution": {
     "iopub.execute_input": "2024-03-31T19:42:03.695250Z",
     "iopub.status.busy": "2024-03-31T19:42:03.694524Z",
     "iopub.status.idle": "2024-03-31T19:43:21.190036Z",
     "shell.execute_reply": "2024-03-31T19:43:21.188882Z"
    },
    "papermill": {
     "duration": 77.507481,
     "end_time": "2024-03-31T19:43:21.192860",
     "exception": false,
     "start_time": "2024-03-31T19:42:03.685379",
     "status": "completed"
    },
    "tags": []
   },
   "outputs": [],
   "source": [
    "df.to_csv(\"Reviewbooksclean.csv\")\n"
   ]
  }
 ],
 "metadata": {
  "kaggle": {
   "accelerator": "none",
   "dataSources": [
    {
     "datasetId": 2476732,
     "sourceId": 4200454,
     "sourceType": "datasetVersion"
    }
   ],
   "dockerImageVersionId": 30673,
   "isGpuEnabled": false,
   "isInternetEnabled": false,
   "language": "python",
   "sourceType": "notebook"
  },
  "kernelspec": {
   "display_name": "Python 3",
   "language": "python",
   "name": "python3"
  },
  "language_info": {
   "codemirror_mode": {
    "name": "ipython",
    "version": 3
   },
   "file_extension": ".py",
   "mimetype": "text/x-python",
   "name": "python",
   "nbconvert_exporter": "python",
   "pygments_lexer": "ipython3",
   "version": "3.10.13"
  },
  "papermill": {
   "default_parameters": {},
   "duration": 155.85361,
   "end_time": "2024-03-31T19:43:23.027373",
   "environment_variables": {},
   "exception": null,
   "input_path": "__notebook__.ipynb",
   "output_path": "__notebook__.ipynb",
   "parameters": {},
   "start_time": "2024-03-31T19:40:47.173763",
   "version": "2.5.0"
  }
 },
 "nbformat": 4,
 "nbformat_minor": 5
}
