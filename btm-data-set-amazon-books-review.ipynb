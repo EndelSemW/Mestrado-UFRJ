{
 "cells": [
  {
   "cell_type": "code",
   "execution_count": 1,
   "id": "eda17c67",
   "metadata": {
    "execution": {
     "iopub.execute_input": "2024-03-31T19:47:46.830912Z",
     "iopub.status.busy": "2024-03-31T19:47:46.829871Z",
     "iopub.status.idle": "2024-03-31T19:47:49.413486Z",
     "shell.execute_reply": "2024-03-31T19:47:49.412330Z"
    },
    "papermill": {
     "duration": 2.59635,
     "end_time": "2024-03-31T19:47:49.416535",
     "exception": false,
     "start_time": "2024-03-31T19:47:46.820185",
     "status": "completed"
    },
    "tags": []
   },
   "outputs": [],
   "source": [
    "import pandas as pd\n",
    "import numpy as np\n",
    "import matplotlib.pylab as plt\n",
    "import seaborn as sns\n",
    "plt.style.use('ggplot')\n"
   ]
  },
  {
   "cell_type": "code",
   "execution_count": 2,
   "id": "343e6949",
   "metadata": {
    "execution": {
     "iopub.execute_input": "2024-03-31T19:47:49.434572Z",
     "iopub.status.busy": "2024-03-31T19:47:49.433933Z",
     "iopub.status.idle": "2024-03-31T19:49:01.631561Z",
     "shell.execute_reply": "2024-03-31T19:49:01.630278Z"
    },
    "papermill": {
     "duration": 72.209968,
     "end_time": "2024-03-31T19:49:01.634614",
     "exception": false,
     "start_time": "2024-03-31T19:47:49.424646",
     "status": "completed"
    },
    "tags": []
   },
   "outputs": [],
   "source": [
    "df = pd.read_csv('/kaggle/input/amazon-books-reviews/Books_rating.csv')"
   ]
  },
  {
   "cell_type": "markdown",
   "id": "43500128",
   "metadata": {
    "papermill": {
     "duration": 0.00719,
     "end_time": "2024-03-31T19:49:01.649693",
     "exception": false,
     "start_time": "2024-03-31T19:49:01.642503",
     "status": "completed"
    },
    "tags": []
   },
   "source": [
    "**Dando uma olhadinha no dataset**"
   ]
  },
  {
   "cell_type": "code",
   "execution_count": 3,
   "id": "3b4fbc82",
   "metadata": {
    "execution": {
     "iopub.execute_input": "2024-03-31T19:49:01.667339Z",
     "iopub.status.busy": "2024-03-31T19:49:01.666135Z",
     "iopub.status.idle": "2024-03-31T19:49:01.673894Z",
     "shell.execute_reply": "2024-03-31T19:49:01.673077Z"
    },
    "papermill": {
     "duration": 0.019005,
     "end_time": "2024-03-31T19:49:01.676211",
     "exception": false,
     "start_time": "2024-03-31T19:49:01.657206",
     "status": "completed"
    },
    "tags": []
   },
   "outputs": [
    {
     "data": {
      "text/plain": [
       "(3000000, 10)"
      ]
     },
     "execution_count": 3,
     "metadata": {},
     "output_type": "execute_result"
    }
   ],
   "source": [
    "df.shape"
   ]
  },
  {
   "cell_type": "code",
   "execution_count": 4,
   "id": "218409e8",
   "metadata": {
    "collapsed": true,
    "execution": {
     "iopub.execute_input": "2024-03-31T19:49:01.693405Z",
     "iopub.status.busy": "2024-03-31T19:49:01.692999Z",
     "iopub.status.idle": "2024-03-31T19:49:01.725857Z",
     "shell.execute_reply": "2024-03-31T19:49:01.724611Z"
    },
    "jupyter": {
     "outputs_hidden": true
    },
    "papermill": {
     "duration": 0.044261,
     "end_time": "2024-03-31T19:49:01.728284",
     "exception": false,
     "start_time": "2024-03-31T19:49:01.684023",
     "status": "completed"
    },
    "tags": []
   },
   "outputs": [
    {
     "data": {
      "text/html": [
       "<div>\n",
       "<style scoped>\n",
       "    .dataframe tbody tr th:only-of-type {\n",
       "        vertical-align: middle;\n",
       "    }\n",
       "\n",
       "    .dataframe tbody tr th {\n",
       "        vertical-align: top;\n",
       "    }\n",
       "\n",
       "    .dataframe thead th {\n",
       "        text-align: right;\n",
       "    }\n",
       "</style>\n",
       "<table border=\"1\" class=\"dataframe\">\n",
       "  <thead>\n",
       "    <tr style=\"text-align: right;\">\n",
       "      <th></th>\n",
       "      <th>Id</th>\n",
       "      <th>Title</th>\n",
       "      <th>Price</th>\n",
       "      <th>User_id</th>\n",
       "      <th>profileName</th>\n",
       "      <th>review/helpfulness</th>\n",
       "      <th>review/score</th>\n",
       "      <th>review/time</th>\n",
       "      <th>review/summary</th>\n",
       "      <th>review/text</th>\n",
       "    </tr>\n",
       "  </thead>\n",
       "  <tbody>\n",
       "    <tr>\n",
       "      <th>0</th>\n",
       "      <td>1882931173</td>\n",
       "      <td>Its Only Art If Its Well Hung!</td>\n",
       "      <td>NaN</td>\n",
       "      <td>AVCGYZL8FQQTD</td>\n",
       "      <td>Jim of Oz \"jim-of-oz\"</td>\n",
       "      <td>7/7</td>\n",
       "      <td>4.0</td>\n",
       "      <td>940636800</td>\n",
       "      <td>Nice collection of Julie Strain images</td>\n",
       "      <td>This is only for Julie Strain fans. It's a col...</td>\n",
       "    </tr>\n",
       "    <tr>\n",
       "      <th>1</th>\n",
       "      <td>0826414346</td>\n",
       "      <td>Dr. Seuss: American Icon</td>\n",
       "      <td>NaN</td>\n",
       "      <td>A30TK6U7DNS82R</td>\n",
       "      <td>Kevin Killian</td>\n",
       "      <td>10/10</td>\n",
       "      <td>5.0</td>\n",
       "      <td>1095724800</td>\n",
       "      <td>Really Enjoyed It</td>\n",
       "      <td>I don't care much for Dr. Seuss but after read...</td>\n",
       "    </tr>\n",
       "    <tr>\n",
       "      <th>2</th>\n",
       "      <td>0826414346</td>\n",
       "      <td>Dr. Seuss: American Icon</td>\n",
       "      <td>NaN</td>\n",
       "      <td>A3UH4UZ4RSVO82</td>\n",
       "      <td>John Granger</td>\n",
       "      <td>10/11</td>\n",
       "      <td>5.0</td>\n",
       "      <td>1078790400</td>\n",
       "      <td>Essential for every personal and Public Library</td>\n",
       "      <td>If people become the books they read and if \"t...</td>\n",
       "    </tr>\n",
       "    <tr>\n",
       "      <th>3</th>\n",
       "      <td>0826414346</td>\n",
       "      <td>Dr. Seuss: American Icon</td>\n",
       "      <td>NaN</td>\n",
       "      <td>A2MVUWT453QH61</td>\n",
       "      <td>Roy E. Perry \"amateur philosopher\"</td>\n",
       "      <td>7/7</td>\n",
       "      <td>4.0</td>\n",
       "      <td>1090713600</td>\n",
       "      <td>Phlip Nel gives silly Seuss a serious treatment</td>\n",
       "      <td>Theodore Seuss Geisel (1904-1991), aka &amp;quot;D...</td>\n",
       "    </tr>\n",
       "    <tr>\n",
       "      <th>4</th>\n",
       "      <td>0826414346</td>\n",
       "      <td>Dr. Seuss: American Icon</td>\n",
       "      <td>NaN</td>\n",
       "      <td>A22X4XUPKF66MR</td>\n",
       "      <td>D. H. Richards \"ninthwavestore\"</td>\n",
       "      <td>3/3</td>\n",
       "      <td>4.0</td>\n",
       "      <td>1107993600</td>\n",
       "      <td>Good academic overview</td>\n",
       "      <td>Philip Nel - Dr. Seuss: American IconThis is b...</td>\n",
       "    </tr>\n",
       "    <tr>\n",
       "      <th>5</th>\n",
       "      <td>0826414346</td>\n",
       "      <td>Dr. Seuss: American Icon</td>\n",
       "      <td>NaN</td>\n",
       "      <td>A2F6NONFUDB6UK</td>\n",
       "      <td>Malvin</td>\n",
       "      <td>2/2</td>\n",
       "      <td>4.0</td>\n",
       "      <td>1127174400</td>\n",
       "      <td>One of America's greatest creative talents</td>\n",
       "      <td>\"Dr. Seuss: American Icon\" by Philip Nel is a ...</td>\n",
       "    </tr>\n",
       "    <tr>\n",
       "      <th>6</th>\n",
       "      <td>0826414346</td>\n",
       "      <td>Dr. Seuss: American Icon</td>\n",
       "      <td>NaN</td>\n",
       "      <td>A14OJS0VWMOSWO</td>\n",
       "      <td>Midwest Book Review</td>\n",
       "      <td>3/4</td>\n",
       "      <td>5.0</td>\n",
       "      <td>1100131200</td>\n",
       "      <td>A memorably excellent survey of Dr. Seuss' man...</td>\n",
       "      <td>Theodor Seuss Giesel was best known as 'Dr. Se...</td>\n",
       "    </tr>\n",
       "    <tr>\n",
       "      <th>7</th>\n",
       "      <td>0826414346</td>\n",
       "      <td>Dr. Seuss: American Icon</td>\n",
       "      <td>NaN</td>\n",
       "      <td>A2RSSXTDZDUSH4</td>\n",
       "      <td>J. Squire</td>\n",
       "      <td>0/0</td>\n",
       "      <td>5.0</td>\n",
       "      <td>1231200000</td>\n",
       "      <td>Academia At It's Best</td>\n",
       "      <td>When I recieved this book as a gift for Christ...</td>\n",
       "    </tr>\n",
       "    <tr>\n",
       "      <th>8</th>\n",
       "      <td>0826414346</td>\n",
       "      <td>Dr. Seuss: American Icon</td>\n",
       "      <td>NaN</td>\n",
       "      <td>A25MD5I2GUIW6W</td>\n",
       "      <td>J. P. HIGBED \"big fellow\"</td>\n",
       "      <td>0/0</td>\n",
       "      <td>5.0</td>\n",
       "      <td>1209859200</td>\n",
       "      <td>And to think that I read it on the tram!</td>\n",
       "      <td>Trams (or any public transport) are not usuall...</td>\n",
       "    </tr>\n",
       "    <tr>\n",
       "      <th>9</th>\n",
       "      <td>0826414346</td>\n",
       "      <td>Dr. Seuss: American Icon</td>\n",
       "      <td>NaN</td>\n",
       "      <td>A3VA4XFS5WNJO3</td>\n",
       "      <td>Donald Burnside</td>\n",
       "      <td>3/5</td>\n",
       "      <td>4.0</td>\n",
       "      <td>1076371200</td>\n",
       "      <td>Fascinating account of a genius at work</td>\n",
       "      <td>As far as I am aware, this is the first book-l...</td>\n",
       "    </tr>\n",
       "    <tr>\n",
       "      <th>10</th>\n",
       "      <td>0829814000</td>\n",
       "      <td>Wonderful Worship in Smaller Churches</td>\n",
       "      <td>19.40</td>\n",
       "      <td>AZ0IOBU20TBOP</td>\n",
       "      <td>Rev. Pamela Tinnin</td>\n",
       "      <td>8/10</td>\n",
       "      <td>5.0</td>\n",
       "      <td>991440000</td>\n",
       "      <td>Outstanding Resource for Small Church Pastors</td>\n",
       "      <td>I just finished the book, &amp;quot;Wonderful Wors...</td>\n",
       "    </tr>\n",
       "    <tr>\n",
       "      <th>11</th>\n",
       "      <td>0829814000</td>\n",
       "      <td>Wonderful Worship in Smaller Churches</td>\n",
       "      <td>19.40</td>\n",
       "      <td>A373VVEU6Z9M0N</td>\n",
       "      <td>Dr. Terry W. Dorsett</td>\n",
       "      <td>1/1</td>\n",
       "      <td>5.0</td>\n",
       "      <td>1291766400</td>\n",
       "      <td>Small Churches CAN Have Wonderful Worship</td>\n",
       "      <td>Many small churches feel like they can not hav...</td>\n",
       "    </tr>\n",
       "    <tr>\n",
       "      <th>12</th>\n",
       "      <td>0829814000</td>\n",
       "      <td>Wonderful Worship in Smaller Churches</td>\n",
       "      <td>19.40</td>\n",
       "      <td>AGKGOH65VTRR4</td>\n",
       "      <td>Cynthia L. Lajoy \"Cindy La Joy\"</td>\n",
       "      <td>1/1</td>\n",
       "      <td>5.0</td>\n",
       "      <td>1248307200</td>\n",
       "      <td>Not Just for Pastors!</td>\n",
       "      <td>I just finished reading this amazing book and ...</td>\n",
       "    </tr>\n",
       "    <tr>\n",
       "      <th>13</th>\n",
       "      <td>0829814000</td>\n",
       "      <td>Wonderful Worship in Smaller Churches</td>\n",
       "      <td>19.40</td>\n",
       "      <td>A3OQWLU31BU1Y</td>\n",
       "      <td>Maxwell Grant</td>\n",
       "      <td>1/1</td>\n",
       "      <td>5.0</td>\n",
       "      <td>1222560000</td>\n",
       "      <td>Small church pastor? This is the book on worship</td>\n",
       "      <td>I hadn't been a small church pastor very long ...</td>\n",
       "    </tr>\n",
       "    <tr>\n",
       "      <th>14</th>\n",
       "      <td>0595344550</td>\n",
       "      <td>Whispers of the Wicked Saints</td>\n",
       "      <td>10.95</td>\n",
       "      <td>A3Q12RK71N74LB</td>\n",
       "      <td>Book Reader</td>\n",
       "      <td>7/11</td>\n",
       "      <td>1.0</td>\n",
       "      <td>1117065600</td>\n",
       "      <td>not good</td>\n",
       "      <td>I bought this book because I read some glowing...</td>\n",
       "    </tr>\n",
       "    <tr>\n",
       "      <th>15</th>\n",
       "      <td>0595344550</td>\n",
       "      <td>Whispers of the Wicked Saints</td>\n",
       "      <td>10.95</td>\n",
       "      <td>A1E9M6APK30ZAU</td>\n",
       "      <td>V. Powell</td>\n",
       "      <td>1/2</td>\n",
       "      <td>4.0</td>\n",
       "      <td>1119571200</td>\n",
       "      <td>Here is my opinion</td>\n",
       "      <td>I have to admit, I am not one to write reviews...</td>\n",
       "    </tr>\n",
       "    <tr>\n",
       "      <th>16</th>\n",
       "      <td>0595344550</td>\n",
       "      <td>Whispers of the Wicked Saints</td>\n",
       "      <td>10.95</td>\n",
       "      <td>AUR0VA5H0C66C</td>\n",
       "      <td>LoveToRead \"Actually Read Books\"</td>\n",
       "      <td>1/2</td>\n",
       "      <td>1.0</td>\n",
       "      <td>1119225600</td>\n",
       "      <td>Buyer beware</td>\n",
       "      <td>This is a self-published book, and if you want...</td>\n",
       "    </tr>\n",
       "    <tr>\n",
       "      <th>17</th>\n",
       "      <td>0595344550</td>\n",
       "      <td>Whispers of the Wicked Saints</td>\n",
       "      <td>10.95</td>\n",
       "      <td>A1YLDZ3VHR6QPZ</td>\n",
       "      <td>Clara</td>\n",
       "      <td>2/4</td>\n",
       "      <td>5.0</td>\n",
       "      <td>1115942400</td>\n",
       "      <td>Fall on your knee's</td>\n",
       "      <td>When I first read this the I was mezmerized at...</td>\n",
       "    </tr>\n",
       "    <tr>\n",
       "      <th>18</th>\n",
       "      <td>0595344550</td>\n",
       "      <td>Whispers of the Wicked Saints</td>\n",
       "      <td>10.95</td>\n",
       "      <td>ACO23CG8K8T77</td>\n",
       "      <td>Tonya</td>\n",
       "      <td>5/9</td>\n",
       "      <td>5.0</td>\n",
       "      <td>1117065600</td>\n",
       "      <td>Bravo Veronica</td>\n",
       "      <td>I read the review directly under mine and I ha...</td>\n",
       "    </tr>\n",
       "    <tr>\n",
       "      <th>19</th>\n",
       "      <td>0595344550</td>\n",
       "      <td>Whispers of the Wicked Saints</td>\n",
       "      <td>10.95</td>\n",
       "      <td>A1VK81CRRC7MLM</td>\n",
       "      <td>missyLou \"apple\"</td>\n",
       "      <td>1/3</td>\n",
       "      <td>5.0</td>\n",
       "      <td>1130025600</td>\n",
       "      <td>Wonderful</td>\n",
       "      <td>I really enjoyed the book. I believe the autho...</td>\n",
       "    </tr>\n",
       "  </tbody>\n",
       "</table>\n",
       "</div>"
      ],
      "text/plain": [
       "            Id                                  Title  Price         User_id  \\\n",
       "0   1882931173         Its Only Art If Its Well Hung!    NaN   AVCGYZL8FQQTD   \n",
       "1   0826414346               Dr. Seuss: American Icon    NaN  A30TK6U7DNS82R   \n",
       "2   0826414346               Dr. Seuss: American Icon    NaN  A3UH4UZ4RSVO82   \n",
       "3   0826414346               Dr. Seuss: American Icon    NaN  A2MVUWT453QH61   \n",
       "4   0826414346               Dr. Seuss: American Icon    NaN  A22X4XUPKF66MR   \n",
       "5   0826414346               Dr. Seuss: American Icon    NaN  A2F6NONFUDB6UK   \n",
       "6   0826414346               Dr. Seuss: American Icon    NaN  A14OJS0VWMOSWO   \n",
       "7   0826414346               Dr. Seuss: American Icon    NaN  A2RSSXTDZDUSH4   \n",
       "8   0826414346               Dr. Seuss: American Icon    NaN  A25MD5I2GUIW6W   \n",
       "9   0826414346               Dr. Seuss: American Icon    NaN  A3VA4XFS5WNJO3   \n",
       "10  0829814000  Wonderful Worship in Smaller Churches  19.40   AZ0IOBU20TBOP   \n",
       "11  0829814000  Wonderful Worship in Smaller Churches  19.40  A373VVEU6Z9M0N   \n",
       "12  0829814000  Wonderful Worship in Smaller Churches  19.40   AGKGOH65VTRR4   \n",
       "13  0829814000  Wonderful Worship in Smaller Churches  19.40   A3OQWLU31BU1Y   \n",
       "14  0595344550          Whispers of the Wicked Saints  10.95  A3Q12RK71N74LB   \n",
       "15  0595344550          Whispers of the Wicked Saints  10.95  A1E9M6APK30ZAU   \n",
       "16  0595344550          Whispers of the Wicked Saints  10.95   AUR0VA5H0C66C   \n",
       "17  0595344550          Whispers of the Wicked Saints  10.95  A1YLDZ3VHR6QPZ   \n",
       "18  0595344550          Whispers of the Wicked Saints  10.95   ACO23CG8K8T77   \n",
       "19  0595344550          Whispers of the Wicked Saints  10.95  A1VK81CRRC7MLM   \n",
       "\n",
       "                           profileName review/helpfulness  review/score  \\\n",
       "0                Jim of Oz \"jim-of-oz\"                7/7           4.0   \n",
       "1                        Kevin Killian              10/10           5.0   \n",
       "2                         John Granger              10/11           5.0   \n",
       "3   Roy E. Perry \"amateur philosopher\"                7/7           4.0   \n",
       "4      D. H. Richards \"ninthwavestore\"                3/3           4.0   \n",
       "5                               Malvin                2/2           4.0   \n",
       "6                  Midwest Book Review                3/4           5.0   \n",
       "7                            J. Squire                0/0           5.0   \n",
       "8            J. P. HIGBED \"big fellow\"                0/0           5.0   \n",
       "9                      Donald Burnside                3/5           4.0   \n",
       "10                  Rev. Pamela Tinnin               8/10           5.0   \n",
       "11                Dr. Terry W. Dorsett                1/1           5.0   \n",
       "12     Cynthia L. Lajoy \"Cindy La Joy\"                1/1           5.0   \n",
       "13                       Maxwell Grant                1/1           5.0   \n",
       "14                         Book Reader               7/11           1.0   \n",
       "15                           V. Powell                1/2           4.0   \n",
       "16    LoveToRead \"Actually Read Books\"                1/2           1.0   \n",
       "17                               Clara                2/4           5.0   \n",
       "18                               Tonya                5/9           5.0   \n",
       "19                    missyLou \"apple\"                1/3           5.0   \n",
       "\n",
       "    review/time                                     review/summary  \\\n",
       "0     940636800             Nice collection of Julie Strain images   \n",
       "1    1095724800                                  Really Enjoyed It   \n",
       "2    1078790400    Essential for every personal and Public Library   \n",
       "3    1090713600    Phlip Nel gives silly Seuss a serious treatment   \n",
       "4    1107993600                             Good academic overview   \n",
       "5    1127174400         One of America's greatest creative talents   \n",
       "6    1100131200  A memorably excellent survey of Dr. Seuss' man...   \n",
       "7    1231200000                              Academia At It's Best   \n",
       "8    1209859200           And to think that I read it on the tram!   \n",
       "9    1076371200            Fascinating account of a genius at work   \n",
       "10    991440000      Outstanding Resource for Small Church Pastors   \n",
       "11   1291766400          Small Churches CAN Have Wonderful Worship   \n",
       "12   1248307200                              Not Just for Pastors!   \n",
       "13   1222560000   Small church pastor? This is the book on worship   \n",
       "14   1117065600                                           not good   \n",
       "15   1119571200                                 Here is my opinion   \n",
       "16   1119225600                                       Buyer beware   \n",
       "17   1115942400                                Fall on your knee's   \n",
       "18   1117065600                                     Bravo Veronica   \n",
       "19   1130025600                                          Wonderful   \n",
       "\n",
       "                                          review/text  \n",
       "0   This is only for Julie Strain fans. It's a col...  \n",
       "1   I don't care much for Dr. Seuss but after read...  \n",
       "2   If people become the books they read and if \"t...  \n",
       "3   Theodore Seuss Geisel (1904-1991), aka &quot;D...  \n",
       "4   Philip Nel - Dr. Seuss: American IconThis is b...  \n",
       "5   \"Dr. Seuss: American Icon\" by Philip Nel is a ...  \n",
       "6   Theodor Seuss Giesel was best known as 'Dr. Se...  \n",
       "7   When I recieved this book as a gift for Christ...  \n",
       "8   Trams (or any public transport) are not usuall...  \n",
       "9   As far as I am aware, this is the first book-l...  \n",
       "10  I just finished the book, &quot;Wonderful Wors...  \n",
       "11  Many small churches feel like they can not hav...  \n",
       "12  I just finished reading this amazing book and ...  \n",
       "13  I hadn't been a small church pastor very long ...  \n",
       "14  I bought this book because I read some glowing...  \n",
       "15  I have to admit, I am not one to write reviews...  \n",
       "16  This is a self-published book, and if you want...  \n",
       "17  When I first read this the I was mezmerized at...  \n",
       "18  I read the review directly under mine and I ha...  \n",
       "19  I really enjoyed the book. I believe the autho...  "
      ]
     },
     "execution_count": 4,
     "metadata": {},
     "output_type": "execute_result"
    }
   ],
   "source": [
    "df.head(20)"
   ]
  },
  {
   "cell_type": "code",
   "execution_count": 5,
   "id": "ca0a78d3",
   "metadata": {
    "execution": {
     "iopub.execute_input": "2024-03-31T19:49:01.747030Z",
     "iopub.status.busy": "2024-03-31T19:49:01.746607Z",
     "iopub.status.idle": "2024-03-31T19:49:01.756138Z",
     "shell.execute_reply": "2024-03-31T19:49:01.754868Z"
    },
    "papermill": {
     "duration": 0.021913,
     "end_time": "2024-03-31T19:49:01.758760",
     "exception": false,
     "start_time": "2024-03-31T19:49:01.736847",
     "status": "completed"
    },
    "tags": []
   },
   "outputs": [
    {
     "data": {
      "text/plain": [
       "Id                     object\n",
       "Title                  object\n",
       "Price                 float64\n",
       "User_id                object\n",
       "profileName            object\n",
       "review/helpfulness     object\n",
       "review/score          float64\n",
       "review/time             int64\n",
       "review/summary         object\n",
       "review/text            object\n",
       "dtype: object"
      ]
     },
     "execution_count": 5,
     "metadata": {},
     "output_type": "execute_result"
    }
   ],
   "source": [
    "df.dtypes"
   ]
  },
  {
   "cell_type": "markdown",
   "id": "dcc7258f",
   "metadata": {
    "papermill": {
     "duration": 0.008334,
     "end_time": "2024-03-31T19:49:01.775844",
     "exception": false,
     "start_time": "2024-03-31T19:49:01.767510",
     "status": "completed"
    },
    "tags": []
   },
   "source": [
    "**PRÉ-PROCESSAMENTO**\n",
    "* Dropar colunas desnecessárias\n",
    "* Tirar duplicatas\n",
    "* Renomear colunas\n"
   ]
  },
  {
   "cell_type": "code",
   "execution_count": 6,
   "id": "9dfbd5a9",
   "metadata": {
    "execution": {
     "iopub.execute_input": "2024-03-31T19:49:01.794997Z",
     "iopub.status.busy": "2024-03-31T19:49:01.794587Z",
     "iopub.status.idle": "2024-03-31T19:49:01.801811Z",
     "shell.execute_reply": "2024-03-31T19:49:01.800767Z"
    },
    "papermill": {
     "duration": 0.019613,
     "end_time": "2024-03-31T19:49:01.804161",
     "exception": false,
     "start_time": "2024-03-31T19:49:01.784548",
     "status": "completed"
    },
    "tags": []
   },
   "outputs": [
    {
     "data": {
      "text/plain": [
       "Index(['Id', 'Title', 'Price', 'User_id', 'profileName', 'review/helpfulness',\n",
       "       'review/score', 'review/time', 'review/summary', 'review/text'],\n",
       "      dtype='object')"
      ]
     },
     "execution_count": 6,
     "metadata": {},
     "output_type": "execute_result"
    }
   ],
   "source": [
    "df.columns"
   ]
  },
  {
   "cell_type": "code",
   "execution_count": 7,
   "id": "b29be857",
   "metadata": {
    "collapsed": true,
    "execution": {
     "iopub.execute_input": "2024-03-31T19:49:01.823628Z",
     "iopub.status.busy": "2024-03-31T19:49:01.823186Z",
     "iopub.status.idle": "2024-03-31T19:49:02.125121Z",
     "shell.execute_reply": "2024-03-31T19:49:02.124071Z"
    },
    "jupyter": {
     "outputs_hidden": true
    },
    "papermill": {
     "duration": 0.314642,
     "end_time": "2024-03-31T19:49:02.127798",
     "exception": false,
     "start_time": "2024-03-31T19:49:01.813156",
     "status": "completed"
    },
    "tags": []
   },
   "outputs": [],
   "source": [
    "df.drop(['Price', 'review/helpfulness','review/time'], axis=1, inplace= True)"
   ]
  },
  {
   "cell_type": "code",
   "execution_count": 8,
   "id": "b97e0b7c",
   "metadata": {
    "execution": {
     "iopub.execute_input": "2024-03-31T19:49:02.148273Z",
     "iopub.status.busy": "2024-03-31T19:49:02.147861Z",
     "iopub.status.idle": "2024-03-31T19:49:02.163418Z",
     "shell.execute_reply": "2024-03-31T19:49:02.162223Z"
    },
    "papermill": {
     "duration": 0.029526,
     "end_time": "2024-03-31T19:49:02.166490",
     "exception": false,
     "start_time": "2024-03-31T19:49:02.136964",
     "status": "completed"
    },
    "tags": []
   },
   "outputs": [
    {
     "data": {
      "text/html": [
       "<div>\n",
       "<style scoped>\n",
       "    .dataframe tbody tr th:only-of-type {\n",
       "        vertical-align: middle;\n",
       "    }\n",
       "\n",
       "    .dataframe tbody tr th {\n",
       "        vertical-align: top;\n",
       "    }\n",
       "\n",
       "    .dataframe thead th {\n",
       "        text-align: right;\n",
       "    }\n",
       "</style>\n",
       "<table border=\"1\" class=\"dataframe\">\n",
       "  <thead>\n",
       "    <tr style=\"text-align: right;\">\n",
       "      <th></th>\n",
       "      <th>Id</th>\n",
       "      <th>Title</th>\n",
       "      <th>User_id</th>\n",
       "      <th>profileName</th>\n",
       "      <th>review/score</th>\n",
       "      <th>review/summary</th>\n",
       "      <th>review/text</th>\n",
       "    </tr>\n",
       "  </thead>\n",
       "  <tbody>\n",
       "    <tr>\n",
       "      <th>0</th>\n",
       "      <td>1882931173</td>\n",
       "      <td>Its Only Art If Its Well Hung!</td>\n",
       "      <td>AVCGYZL8FQQTD</td>\n",
       "      <td>Jim of Oz \"jim-of-oz\"</td>\n",
       "      <td>4.0</td>\n",
       "      <td>Nice collection of Julie Strain images</td>\n",
       "      <td>This is only for Julie Strain fans. It's a col...</td>\n",
       "    </tr>\n",
       "    <tr>\n",
       "      <th>1</th>\n",
       "      <td>0826414346</td>\n",
       "      <td>Dr. Seuss: American Icon</td>\n",
       "      <td>A30TK6U7DNS82R</td>\n",
       "      <td>Kevin Killian</td>\n",
       "      <td>5.0</td>\n",
       "      <td>Really Enjoyed It</td>\n",
       "      <td>I don't care much for Dr. Seuss but after read...</td>\n",
       "    </tr>\n",
       "    <tr>\n",
       "      <th>2</th>\n",
       "      <td>0826414346</td>\n",
       "      <td>Dr. Seuss: American Icon</td>\n",
       "      <td>A3UH4UZ4RSVO82</td>\n",
       "      <td>John Granger</td>\n",
       "      <td>5.0</td>\n",
       "      <td>Essential for every personal and Public Library</td>\n",
       "      <td>If people become the books they read and if \"t...</td>\n",
       "    </tr>\n",
       "    <tr>\n",
       "      <th>3</th>\n",
       "      <td>0826414346</td>\n",
       "      <td>Dr. Seuss: American Icon</td>\n",
       "      <td>A2MVUWT453QH61</td>\n",
       "      <td>Roy E. Perry \"amateur philosopher\"</td>\n",
       "      <td>4.0</td>\n",
       "      <td>Phlip Nel gives silly Seuss a serious treatment</td>\n",
       "      <td>Theodore Seuss Geisel (1904-1991), aka &amp;quot;D...</td>\n",
       "    </tr>\n",
       "    <tr>\n",
       "      <th>4</th>\n",
       "      <td>0826414346</td>\n",
       "      <td>Dr. Seuss: American Icon</td>\n",
       "      <td>A22X4XUPKF66MR</td>\n",
       "      <td>D. H. Richards \"ninthwavestore\"</td>\n",
       "      <td>4.0</td>\n",
       "      <td>Good academic overview</td>\n",
       "      <td>Philip Nel - Dr. Seuss: American IconThis is b...</td>\n",
       "    </tr>\n",
       "  </tbody>\n",
       "</table>\n",
       "</div>"
      ],
      "text/plain": [
       "           Id                           Title         User_id  \\\n",
       "0  1882931173  Its Only Art If Its Well Hung!   AVCGYZL8FQQTD   \n",
       "1  0826414346        Dr. Seuss: American Icon  A30TK6U7DNS82R   \n",
       "2  0826414346        Dr. Seuss: American Icon  A3UH4UZ4RSVO82   \n",
       "3  0826414346        Dr. Seuss: American Icon  A2MVUWT453QH61   \n",
       "4  0826414346        Dr. Seuss: American Icon  A22X4XUPKF66MR   \n",
       "\n",
       "                          profileName  review/score  \\\n",
       "0               Jim of Oz \"jim-of-oz\"           4.0   \n",
       "1                       Kevin Killian           5.0   \n",
       "2                        John Granger           5.0   \n",
       "3  Roy E. Perry \"amateur philosopher\"           4.0   \n",
       "4     D. H. Richards \"ninthwavestore\"           4.0   \n",
       "\n",
       "                                    review/summary  \\\n",
       "0           Nice collection of Julie Strain images   \n",
       "1                                Really Enjoyed It   \n",
       "2  Essential for every personal and Public Library   \n",
       "3  Phlip Nel gives silly Seuss a serious treatment   \n",
       "4                           Good academic overview   \n",
       "\n",
       "                                         review/text  \n",
       "0  This is only for Julie Strain fans. It's a col...  \n",
       "1  I don't care much for Dr. Seuss but after read...  \n",
       "2  If people become the books they read and if \"t...  \n",
       "3  Theodore Seuss Geisel (1904-1991), aka &quot;D...  \n",
       "4  Philip Nel - Dr. Seuss: American IconThis is b...  "
      ]
     },
     "execution_count": 8,
     "metadata": {},
     "output_type": "execute_result"
    }
   ],
   "source": [
    "df.head(5)"
   ]
  },
  {
   "cell_type": "code",
   "execution_count": 9,
   "id": "01b37841",
   "metadata": {
    "execution": {
     "iopub.execute_input": "2024-03-31T19:49:02.194208Z",
     "iopub.status.busy": "2024-03-31T19:49:02.192933Z",
     "iopub.status.idle": "2024-03-31T19:49:02.200524Z",
     "shell.execute_reply": "2024-03-31T19:49:02.199696Z"
    },
    "papermill": {
     "duration": 0.024075,
     "end_time": "2024-03-31T19:49:02.203527",
     "exception": false,
     "start_time": "2024-03-31T19:49:02.179452",
     "status": "completed"
    },
    "tags": []
   },
   "outputs": [
    {
     "data": {
      "text/plain": [
       "(3000000, 7)"
      ]
     },
     "execution_count": 9,
     "metadata": {},
     "output_type": "execute_result"
    }
   ],
   "source": [
    "df.shape"
   ]
  },
  {
   "cell_type": "code",
   "execution_count": 10,
   "id": "256b679c",
   "metadata": {
    "execution": {
     "iopub.execute_input": "2024-03-31T19:49:02.230720Z",
     "iopub.status.busy": "2024-03-31T19:49:02.229649Z",
     "iopub.status.idle": "2024-03-31T19:49:02.237778Z",
     "shell.execute_reply": "2024-03-31T19:49:02.236631Z"
    },
    "papermill": {
     "duration": 0.027258,
     "end_time": "2024-03-31T19:49:02.244201",
     "exception": false,
     "start_time": "2024-03-31T19:49:02.216943",
     "status": "completed"
    },
    "tags": []
   },
   "outputs": [
    {
     "data": {
      "text/plain": [
       "Id                 object\n",
       "Title              object\n",
       "User_id            object\n",
       "profileName        object\n",
       "review/score      float64\n",
       "review/summary     object\n",
       "review/text        object\n",
       "dtype: object"
      ]
     },
     "execution_count": 10,
     "metadata": {},
     "output_type": "execute_result"
    }
   ],
   "source": [
    "df.dtypes"
   ]
  },
  {
   "cell_type": "code",
   "execution_count": 11,
   "id": "4f11040d",
   "metadata": {
    "execution": {
     "iopub.execute_input": "2024-03-31T19:49:02.266421Z",
     "iopub.status.busy": "2024-03-31T19:49:02.265666Z",
     "iopub.status.idle": "2024-03-31T19:49:02.283827Z",
     "shell.execute_reply": "2024-03-31T19:49:02.282655Z"
    },
    "papermill": {
     "duration": 0.031265,
     "end_time": "2024-03-31T19:49:02.286353",
     "exception": false,
     "start_time": "2024-03-31T19:49:02.255088",
     "status": "completed"
    },
    "tags": []
   },
   "outputs": [
    {
     "data": {
      "text/plain": [
       "0          4\n",
       "1          5\n",
       "2          5\n",
       "3          4\n",
       "4          4\n",
       "          ..\n",
       "2999995    4\n",
       "2999996    4\n",
       "2999997    4\n",
       "2999998    5\n",
       "2999999    1\n",
       "Name: review/score, Length: 3000000, dtype: int64"
      ]
     },
     "execution_count": 11,
     "metadata": {},
     "output_type": "execute_result"
    }
   ],
   "source": [
    "pd.to_numeric(df['review/score'].astype(int))"
   ]
  },
  {
   "cell_type": "code",
   "execution_count": 12,
   "id": "fa986458",
   "metadata": {
    "execution": {
     "iopub.execute_input": "2024-03-31T19:49:02.307396Z",
     "iopub.status.busy": "2024-03-31T19:49:02.306972Z",
     "iopub.status.idle": "2024-03-31T19:49:02.324132Z",
     "shell.execute_reply": "2024-03-31T19:49:02.323002Z"
    },
    "papermill": {
     "duration": 0.030728,
     "end_time": "2024-03-31T19:49:02.326659",
     "exception": false,
     "start_time": "2024-03-31T19:49:02.295931",
     "status": "completed"
    },
    "tags": []
   },
   "outputs": [
    {
     "data": {
      "text/html": [
       "<div>\n",
       "<style scoped>\n",
       "    .dataframe tbody tr th:only-of-type {\n",
       "        vertical-align: middle;\n",
       "    }\n",
       "\n",
       "    .dataframe tbody tr th {\n",
       "        vertical-align: top;\n",
       "    }\n",
       "\n",
       "    .dataframe thead th {\n",
       "        text-align: right;\n",
       "    }\n",
       "</style>\n",
       "<table border=\"1\" class=\"dataframe\">\n",
       "  <thead>\n",
       "    <tr style=\"text-align: right;\">\n",
       "      <th></th>\n",
       "      <th>Id</th>\n",
       "      <th>Title</th>\n",
       "      <th>User_id</th>\n",
       "      <th>profileName</th>\n",
       "      <th>review/score</th>\n",
       "      <th>review/summary</th>\n",
       "      <th>review/text</th>\n",
       "    </tr>\n",
       "  </thead>\n",
       "  <tbody>\n",
       "    <tr>\n",
       "      <th>0</th>\n",
       "      <td>1882931173</td>\n",
       "      <td>Its Only Art If Its Well Hung!</td>\n",
       "      <td>AVCGYZL8FQQTD</td>\n",
       "      <td>Jim of Oz \"jim-of-oz\"</td>\n",
       "      <td>4.0</td>\n",
       "      <td>Nice collection of Julie Strain images</td>\n",
       "      <td>This is only for Julie Strain fans. It's a col...</td>\n",
       "    </tr>\n",
       "    <tr>\n",
       "      <th>1</th>\n",
       "      <td>0826414346</td>\n",
       "      <td>Dr. Seuss: American Icon</td>\n",
       "      <td>A30TK6U7DNS82R</td>\n",
       "      <td>Kevin Killian</td>\n",
       "      <td>5.0</td>\n",
       "      <td>Really Enjoyed It</td>\n",
       "      <td>I don't care much for Dr. Seuss but after read...</td>\n",
       "    </tr>\n",
       "    <tr>\n",
       "      <th>2</th>\n",
       "      <td>0826414346</td>\n",
       "      <td>Dr. Seuss: American Icon</td>\n",
       "      <td>A3UH4UZ4RSVO82</td>\n",
       "      <td>John Granger</td>\n",
       "      <td>5.0</td>\n",
       "      <td>Essential for every personal and Public Library</td>\n",
       "      <td>If people become the books they read and if \"t...</td>\n",
       "    </tr>\n",
       "    <tr>\n",
       "      <th>3</th>\n",
       "      <td>0826414346</td>\n",
       "      <td>Dr. Seuss: American Icon</td>\n",
       "      <td>A2MVUWT453QH61</td>\n",
       "      <td>Roy E. Perry \"amateur philosopher\"</td>\n",
       "      <td>4.0</td>\n",
       "      <td>Phlip Nel gives silly Seuss a serious treatment</td>\n",
       "      <td>Theodore Seuss Geisel (1904-1991), aka &amp;quot;D...</td>\n",
       "    </tr>\n",
       "    <tr>\n",
       "      <th>4</th>\n",
       "      <td>0826414346</td>\n",
       "      <td>Dr. Seuss: American Icon</td>\n",
       "      <td>A22X4XUPKF66MR</td>\n",
       "      <td>D. H. Richards \"ninthwavestore\"</td>\n",
       "      <td>4.0</td>\n",
       "      <td>Good academic overview</td>\n",
       "      <td>Philip Nel - Dr. Seuss: American IconThis is b...</td>\n",
       "    </tr>\n",
       "  </tbody>\n",
       "</table>\n",
       "</div>"
      ],
      "text/plain": [
       "           Id                           Title         User_id  \\\n",
       "0  1882931173  Its Only Art If Its Well Hung!   AVCGYZL8FQQTD   \n",
       "1  0826414346        Dr. Seuss: American Icon  A30TK6U7DNS82R   \n",
       "2  0826414346        Dr. Seuss: American Icon  A3UH4UZ4RSVO82   \n",
       "3  0826414346        Dr. Seuss: American Icon  A2MVUWT453QH61   \n",
       "4  0826414346        Dr. Seuss: American Icon  A22X4XUPKF66MR   \n",
       "\n",
       "                          profileName  review/score  \\\n",
       "0               Jim of Oz \"jim-of-oz\"           4.0   \n",
       "1                       Kevin Killian           5.0   \n",
       "2                        John Granger           5.0   \n",
       "3  Roy E. Perry \"amateur philosopher\"           4.0   \n",
       "4     D. H. Richards \"ninthwavestore\"           4.0   \n",
       "\n",
       "                                    review/summary  \\\n",
       "0           Nice collection of Julie Strain images   \n",
       "1                                Really Enjoyed It   \n",
       "2  Essential for every personal and Public Library   \n",
       "3  Phlip Nel gives silly Seuss a serious treatment   \n",
       "4                           Good academic overview   \n",
       "\n",
       "                                         review/text  \n",
       "0  This is only for Julie Strain fans. It's a col...  \n",
       "1  I don't care much for Dr. Seuss but after read...  \n",
       "2  If people become the books they read and if \"t...  \n",
       "3  Theodore Seuss Geisel (1904-1991), aka &quot;D...  \n",
       "4  Philip Nel - Dr. Seuss: American IconThis is b...  "
      ]
     },
     "execution_count": 12,
     "metadata": {},
     "output_type": "execute_result"
    }
   ],
   "source": [
    "df.head(5)"
   ]
  },
  {
   "cell_type": "code",
   "execution_count": 13,
   "id": "2b24d421",
   "metadata": {
    "execution": {
     "iopub.execute_input": "2024-03-31T19:49:02.348542Z",
     "iopub.status.busy": "2024-03-31T19:49:02.348133Z",
     "iopub.status.idle": "2024-03-31T19:49:02.604700Z",
     "shell.execute_reply": "2024-03-31T19:49:02.603591Z"
    },
    "papermill": {
     "duration": 0.270507,
     "end_time": "2024-03-31T19:49:02.607397",
     "exception": false,
     "start_time": "2024-03-31T19:49:02.336890",
     "status": "completed"
    },
    "tags": []
   },
   "outputs": [],
   "source": [
    "df = df.rename(columns={'review/score':'Score',\n",
    "                        'review/summary': 'summary',\n",
    "                        'review/text' : 'review'\n",
    "    \n",
    "})"
   ]
  },
  {
   "cell_type": "code",
   "execution_count": 14,
   "id": "c920d722",
   "metadata": {
    "execution": {
     "iopub.execute_input": "2024-03-31T19:49:02.628751Z",
     "iopub.status.busy": "2024-03-31T19:49:02.628357Z",
     "iopub.status.idle": "2024-03-31T19:49:02.643518Z",
     "shell.execute_reply": "2024-03-31T19:49:02.642404Z"
    },
    "papermill": {
     "duration": 0.028936,
     "end_time": "2024-03-31T19:49:02.646281",
     "exception": false,
     "start_time": "2024-03-31T19:49:02.617345",
     "status": "completed"
    },
    "tags": []
   },
   "outputs": [
    {
     "data": {
      "text/html": [
       "<div>\n",
       "<style scoped>\n",
       "    .dataframe tbody tr th:only-of-type {\n",
       "        vertical-align: middle;\n",
       "    }\n",
       "\n",
       "    .dataframe tbody tr th {\n",
       "        vertical-align: top;\n",
       "    }\n",
       "\n",
       "    .dataframe thead th {\n",
       "        text-align: right;\n",
       "    }\n",
       "</style>\n",
       "<table border=\"1\" class=\"dataframe\">\n",
       "  <thead>\n",
       "    <tr style=\"text-align: right;\">\n",
       "      <th></th>\n",
       "      <th>Id</th>\n",
       "      <th>Title</th>\n",
       "      <th>User_id</th>\n",
       "      <th>profileName</th>\n",
       "      <th>Score</th>\n",
       "      <th>summary</th>\n",
       "      <th>review</th>\n",
       "    </tr>\n",
       "  </thead>\n",
       "  <tbody>\n",
       "    <tr>\n",
       "      <th>0</th>\n",
       "      <td>1882931173</td>\n",
       "      <td>Its Only Art If Its Well Hung!</td>\n",
       "      <td>AVCGYZL8FQQTD</td>\n",
       "      <td>Jim of Oz \"jim-of-oz\"</td>\n",
       "      <td>4.0</td>\n",
       "      <td>Nice collection of Julie Strain images</td>\n",
       "      <td>This is only for Julie Strain fans. It's a col...</td>\n",
       "    </tr>\n",
       "    <tr>\n",
       "      <th>1</th>\n",
       "      <td>0826414346</td>\n",
       "      <td>Dr. Seuss: American Icon</td>\n",
       "      <td>A30TK6U7DNS82R</td>\n",
       "      <td>Kevin Killian</td>\n",
       "      <td>5.0</td>\n",
       "      <td>Really Enjoyed It</td>\n",
       "      <td>I don't care much for Dr. Seuss but after read...</td>\n",
       "    </tr>\n",
       "    <tr>\n",
       "      <th>2</th>\n",
       "      <td>0826414346</td>\n",
       "      <td>Dr. Seuss: American Icon</td>\n",
       "      <td>A3UH4UZ4RSVO82</td>\n",
       "      <td>John Granger</td>\n",
       "      <td>5.0</td>\n",
       "      <td>Essential for every personal and Public Library</td>\n",
       "      <td>If people become the books they read and if \"t...</td>\n",
       "    </tr>\n",
       "    <tr>\n",
       "      <th>3</th>\n",
       "      <td>0826414346</td>\n",
       "      <td>Dr. Seuss: American Icon</td>\n",
       "      <td>A2MVUWT453QH61</td>\n",
       "      <td>Roy E. Perry \"amateur philosopher\"</td>\n",
       "      <td>4.0</td>\n",
       "      <td>Phlip Nel gives silly Seuss a serious treatment</td>\n",
       "      <td>Theodore Seuss Geisel (1904-1991), aka &amp;quot;D...</td>\n",
       "    </tr>\n",
       "    <tr>\n",
       "      <th>4</th>\n",
       "      <td>0826414346</td>\n",
       "      <td>Dr. Seuss: American Icon</td>\n",
       "      <td>A22X4XUPKF66MR</td>\n",
       "      <td>D. H. Richards \"ninthwavestore\"</td>\n",
       "      <td>4.0</td>\n",
       "      <td>Good academic overview</td>\n",
       "      <td>Philip Nel - Dr. Seuss: American IconThis is b...</td>\n",
       "    </tr>\n",
       "  </tbody>\n",
       "</table>\n",
       "</div>"
      ],
      "text/plain": [
       "           Id                           Title         User_id  \\\n",
       "0  1882931173  Its Only Art If Its Well Hung!   AVCGYZL8FQQTD   \n",
       "1  0826414346        Dr. Seuss: American Icon  A30TK6U7DNS82R   \n",
       "2  0826414346        Dr. Seuss: American Icon  A3UH4UZ4RSVO82   \n",
       "3  0826414346        Dr. Seuss: American Icon  A2MVUWT453QH61   \n",
       "4  0826414346        Dr. Seuss: American Icon  A22X4XUPKF66MR   \n",
       "\n",
       "                          profileName  Score  \\\n",
       "0               Jim of Oz \"jim-of-oz\"    4.0   \n",
       "1                       Kevin Killian    5.0   \n",
       "2                        John Granger    5.0   \n",
       "3  Roy E. Perry \"amateur philosopher\"    4.0   \n",
       "4     D. H. Richards \"ninthwavestore\"    4.0   \n",
       "\n",
       "                                           summary  \\\n",
       "0           Nice collection of Julie Strain images   \n",
       "1                                Really Enjoyed It   \n",
       "2  Essential for every personal and Public Library   \n",
       "3  Phlip Nel gives silly Seuss a serious treatment   \n",
       "4                           Good academic overview   \n",
       "\n",
       "                                              review  \n",
       "0  This is only for Julie Strain fans. It's a col...  \n",
       "1  I don't care much for Dr. Seuss but after read...  \n",
       "2  If people become the books they read and if \"t...  \n",
       "3  Theodore Seuss Geisel (1904-1991), aka &quot;D...  \n",
       "4  Philip Nel - Dr. Seuss: American IconThis is b...  "
      ]
     },
     "execution_count": 14,
     "metadata": {},
     "output_type": "execute_result"
    }
   ],
   "source": [
    "df.head(5)"
   ]
  },
  {
   "cell_type": "code",
   "execution_count": 15,
   "id": "a7beb044",
   "metadata": {
    "execution": {
     "iopub.execute_input": "2024-03-31T19:49:02.668207Z",
     "iopub.status.busy": "2024-03-31T19:49:02.667834Z",
     "iopub.status.idle": "2024-03-31T19:49:04.800525Z",
     "shell.execute_reply": "2024-03-31T19:49:04.799429Z"
    },
    "papermill": {
     "duration": 2.146937,
     "end_time": "2024-03-31T19:49:04.803367",
     "exception": false,
     "start_time": "2024-03-31T19:49:02.656430",
     "status": "completed"
    },
    "tags": []
   },
   "outputs": [
    {
     "data": {
      "text/plain": [
       "Id                  0\n",
       "Title             208\n",
       "User_id        561787\n",
       "profileName    561905\n",
       "Score               0\n",
       "summary           407\n",
       "review              8\n",
       "dtype: int64"
      ]
     },
     "execution_count": 15,
     "metadata": {},
     "output_type": "execute_result"
    }
   ],
   "source": [
    "df.isna().sum()"
   ]
  },
  {
   "cell_type": "code",
   "execution_count": 16,
   "id": "21db1dc9",
   "metadata": {
    "execution": {
     "iopub.execute_input": "2024-03-31T19:49:04.825755Z",
     "iopub.status.busy": "2024-03-31T19:49:04.825375Z",
     "iopub.status.idle": "2024-03-31T19:49:04.832912Z",
     "shell.execute_reply": "2024-03-31T19:49:04.831737Z"
    },
    "papermill": {
     "duration": 0.021209,
     "end_time": "2024-03-31T19:49:04.835077",
     "exception": false,
     "start_time": "2024-03-31T19:49:04.813868",
     "status": "completed"
    },
    "tags": []
   },
   "outputs": [
    {
     "data": {
      "text/plain": [
       "Index(['Id', 'Title', 'User_id', 'profileName', 'Score', 'summary', 'review'], dtype='object')"
      ]
     },
     "execution_count": 16,
     "metadata": {},
     "output_type": "execute_result"
    }
   ],
   "source": [
    "df.columns"
   ]
  },
  {
   "cell_type": "code",
   "execution_count": 17,
   "id": "afbe6f69",
   "metadata": {
    "execution": {
     "iopub.execute_input": "2024-03-31T19:49:04.858469Z",
     "iopub.status.busy": "2024-03-31T19:49:04.858049Z",
     "iopub.status.idle": "2024-03-31T19:49:10.813343Z",
     "shell.execute_reply": "2024-03-31T19:49:10.812011Z"
    },
    "papermill": {
     "duration": 5.970274,
     "end_time": "2024-03-31T19:49:10.816355",
     "exception": false,
     "start_time": "2024-03-31T19:49:04.846081",
     "status": "completed"
    },
    "tags": []
   },
   "outputs": [
    {
     "data": {
      "text/plain": [
       "30034"
      ]
     },
     "execution_count": 17,
     "metadata": {},
     "output_type": "execute_result"
    }
   ],
   "source": [
    "df.duplicated(subset=['profileName', 'review', 'Id']).sum()"
   ]
  },
  {
   "cell_type": "code",
   "execution_count": 18,
   "id": "7683b3ef",
   "metadata": {
    "execution": {
     "iopub.execute_input": "2024-03-31T19:49:10.839801Z",
     "iopub.status.busy": "2024-03-31T19:49:10.839417Z",
     "iopub.status.idle": "2024-03-31T19:49:15.912437Z",
     "shell.execute_reply": "2024-03-31T19:49:15.911055Z"
    },
    "papermill": {
     "duration": 5.087488,
     "end_time": "2024-03-31T19:49:15.915105",
     "exception": false,
     "start_time": "2024-03-31T19:49:10.827617",
     "status": "completed"
    },
    "tags": []
   },
   "outputs": [],
   "source": [
    "df = df.loc[~df.duplicated(subset=['profileName', 'review', 'Id'])] \\\n",
    "    .reset_index(drop=True)"
   ]
  },
  {
   "cell_type": "code",
   "execution_count": 19,
   "id": "1f4c8a61",
   "metadata": {
    "execution": {
     "iopub.execute_input": "2024-03-31T19:49:15.938523Z",
     "iopub.status.busy": "2024-03-31T19:49:15.938125Z",
     "iopub.status.idle": "2024-03-31T19:49:15.944971Z",
     "shell.execute_reply": "2024-03-31T19:49:15.943873Z"
    },
    "papermill": {
     "duration": 0.021061,
     "end_time": "2024-03-31T19:49:15.947359",
     "exception": false,
     "start_time": "2024-03-31T19:49:15.926298",
     "status": "completed"
    },
    "tags": []
   },
   "outputs": [
    {
     "data": {
      "text/plain": [
       "(2969966, 7)"
      ]
     },
     "execution_count": 19,
     "metadata": {},
     "output_type": "execute_result"
    }
   ],
   "source": [
    "df.shape"
   ]
  },
  {
   "cell_type": "code",
   "execution_count": 20,
   "id": "550f9f84",
   "metadata": {
    "execution": {
     "iopub.execute_input": "2024-03-31T19:49:15.970987Z",
     "iopub.status.busy": "2024-03-31T19:49:15.970479Z",
     "iopub.status.idle": "2024-03-31T19:51:41.721360Z",
     "shell.execute_reply": "2024-03-31T19:51:41.717999Z"
    },
    "papermill": {
     "duration": 145.768335,
     "end_time": "2024-03-31T19:51:41.726885",
     "exception": false,
     "start_time": "2024-03-31T19:49:15.958550",
     "status": "completed"
    },
    "tags": []
   },
   "outputs": [],
   "source": [
    "df.to_csv(\"Reviewbooksclean.csv\")\n"
   ]
  }
 ],
 "metadata": {
  "kaggle": {
   "accelerator": "none",
   "dataSources": [
    {
     "datasetId": 2476732,
     "sourceId": 4200454,
     "sourceType": "datasetVersion"
    }
   ],
   "dockerImageVersionId": 30673,
   "isGpuEnabled": false,
   "isInternetEnabled": false,
   "language": "python",
   "sourceType": "notebook"
  },
  "kernelspec": {
   "display_name": "Python 3",
   "language": "python",
   "name": "python3"
  },
  "language_info": {
   "codemirror_mode": {
    "name": "ipython",
    "version": 3
   },
   "file_extension": ".py",
   "mimetype": "text/x-python",
   "name": "python",
   "nbconvert_exporter": "python",
   "pygments_lexer": "ipython3",
   "version": "3.10.13"
  },
  "papermill": {
   "default_parameters": {},
   "duration": 240.238416,
   "end_time": "2024-03-31T19:51:43.873369",
   "environment_variables": {},
   "exception": null,
   "input_path": "__notebook__.ipynb",
   "output_path": "__notebook__.ipynb",
   "parameters": {},
   "start_time": "2024-03-31T19:47:43.634953",
   "version": "2.5.0"
  }
 },
 "nbformat": 4,
 "nbformat_minor": 5
}
