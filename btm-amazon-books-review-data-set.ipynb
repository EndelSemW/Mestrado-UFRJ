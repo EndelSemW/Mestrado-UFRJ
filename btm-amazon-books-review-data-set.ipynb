{
 "cells": [
  {
   "cell_type": "code",
   "execution_count": 1,
   "id": "4dbcd1cd",
   "metadata": {
    "execution": {
     "iopub.execute_input": "2024-04-06T14:15:19.425458Z",
     "iopub.status.busy": "2024-04-06T14:15:19.425024Z",
     "iopub.status.idle": "2024-04-06T14:15:20.257431Z",
     "shell.execute_reply": "2024-04-06T14:15:20.256514Z"
    },
    "papermill": {
     "duration": 0.84791,
     "end_time": "2024-04-06T14:15:20.259973",
     "exception": false,
     "start_time": "2024-04-06T14:15:19.412063",
     "status": "completed"
    },
    "tags": []
   },
   "outputs": [],
   "source": [
    "import pandas as pd\n",
    "import numpy as np\n",
    "import re"
   ]
  },
  {
   "cell_type": "code",
   "execution_count": 2,
   "id": "a8aaf15c",
   "metadata": {
    "execution": {
     "iopub.execute_input": "2024-04-06T14:15:20.275913Z",
     "iopub.status.busy": "2024-04-06T14:15:20.274821Z",
     "iopub.status.idle": "2024-04-06T14:16:22.573026Z",
     "shell.execute_reply": "2024-04-06T14:16:22.571717Z"
    },
    "papermill": {
     "duration": 62.309246,
     "end_time": "2024-04-06T14:16:22.576007",
     "exception": false,
     "start_time": "2024-04-06T14:15:20.266761",
     "status": "completed"
    },
    "tags": []
   },
   "outputs": [],
   "source": [
    "df = pd.read_csv('/kaggle/input/amazon-books-reviews/Books_rating.csv')"
   ]
  },
  {
   "cell_type": "code",
   "execution_count": 3,
   "id": "b2486b7f",
   "metadata": {
    "execution": {
     "iopub.execute_input": "2024-04-06T14:16:22.591994Z",
     "iopub.status.busy": "2024-04-06T14:16:22.591315Z",
     "iopub.status.idle": "2024-04-06T14:16:22.598933Z",
     "shell.execute_reply": "2024-04-06T14:16:22.597763Z"
    },
    "papermill": {
     "duration": 0.017981,
     "end_time": "2024-04-06T14:16:22.601139",
     "exception": false,
     "start_time": "2024-04-06T14:16:22.583158",
     "status": "completed"
    },
    "tags": []
   },
   "outputs": [
    {
     "data": {
      "text/plain": [
       "(3000000, 10)"
      ]
     },
     "execution_count": 3,
     "metadata": {},
     "output_type": "execute_result"
    }
   ],
   "source": [
    "df.shape"
   ]
  },
  {
   "cell_type": "code",
   "execution_count": 4,
   "id": "13859c57",
   "metadata": {
    "execution": {
     "iopub.execute_input": "2024-04-06T14:16:22.616720Z",
     "iopub.status.busy": "2024-04-06T14:16:22.616318Z",
     "iopub.status.idle": "2024-04-06T14:16:22.640903Z",
     "shell.execute_reply": "2024-04-06T14:16:22.639718Z"
    },
    "papermill": {
     "duration": 0.035132,
     "end_time": "2024-04-06T14:16:22.643273",
     "exception": false,
     "start_time": "2024-04-06T14:16:22.608141",
     "status": "completed"
    },
    "tags": []
   },
   "outputs": [
    {
     "data": {
      "text/html": [
       "<div>\n",
       "<style scoped>\n",
       "    .dataframe tbody tr th:only-of-type {\n",
       "        vertical-align: middle;\n",
       "    }\n",
       "\n",
       "    .dataframe tbody tr th {\n",
       "        vertical-align: top;\n",
       "    }\n",
       "\n",
       "    .dataframe thead th {\n",
       "        text-align: right;\n",
       "    }\n",
       "</style>\n",
       "<table border=\"1\" class=\"dataframe\">\n",
       "  <thead>\n",
       "    <tr style=\"text-align: right;\">\n",
       "      <th></th>\n",
       "      <th>Id</th>\n",
       "      <th>Title</th>\n",
       "      <th>Price</th>\n",
       "      <th>User_id</th>\n",
       "      <th>profileName</th>\n",
       "      <th>review/helpfulness</th>\n",
       "      <th>review/score</th>\n",
       "      <th>review/time</th>\n",
       "      <th>review/summary</th>\n",
       "      <th>review/text</th>\n",
       "    </tr>\n",
       "  </thead>\n",
       "  <tbody>\n",
       "    <tr>\n",
       "      <th>0</th>\n",
       "      <td>1882931173</td>\n",
       "      <td>Its Only Art If Its Well Hung!</td>\n",
       "      <td>NaN</td>\n",
       "      <td>AVCGYZL8FQQTD</td>\n",
       "      <td>Jim of Oz \"jim-of-oz\"</td>\n",
       "      <td>7/7</td>\n",
       "      <td>4.0</td>\n",
       "      <td>940636800</td>\n",
       "      <td>Nice collection of Julie Strain images</td>\n",
       "      <td>This is only for Julie Strain fans. It's a col...</td>\n",
       "    </tr>\n",
       "    <tr>\n",
       "      <th>1</th>\n",
       "      <td>0826414346</td>\n",
       "      <td>Dr. Seuss: American Icon</td>\n",
       "      <td>NaN</td>\n",
       "      <td>A30TK6U7DNS82R</td>\n",
       "      <td>Kevin Killian</td>\n",
       "      <td>10/10</td>\n",
       "      <td>5.0</td>\n",
       "      <td>1095724800</td>\n",
       "      <td>Really Enjoyed It</td>\n",
       "      <td>I don't care much for Dr. Seuss but after read...</td>\n",
       "    </tr>\n",
       "    <tr>\n",
       "      <th>2</th>\n",
       "      <td>0826414346</td>\n",
       "      <td>Dr. Seuss: American Icon</td>\n",
       "      <td>NaN</td>\n",
       "      <td>A3UH4UZ4RSVO82</td>\n",
       "      <td>John Granger</td>\n",
       "      <td>10/11</td>\n",
       "      <td>5.0</td>\n",
       "      <td>1078790400</td>\n",
       "      <td>Essential for every personal and Public Library</td>\n",
       "      <td>If people become the books they read and if \"t...</td>\n",
       "    </tr>\n",
       "    <tr>\n",
       "      <th>3</th>\n",
       "      <td>0826414346</td>\n",
       "      <td>Dr. Seuss: American Icon</td>\n",
       "      <td>NaN</td>\n",
       "      <td>A2MVUWT453QH61</td>\n",
       "      <td>Roy E. Perry \"amateur philosopher\"</td>\n",
       "      <td>7/7</td>\n",
       "      <td>4.0</td>\n",
       "      <td>1090713600</td>\n",
       "      <td>Phlip Nel gives silly Seuss a serious treatment</td>\n",
       "      <td>Theodore Seuss Geisel (1904-1991), aka &amp;quot;D...</td>\n",
       "    </tr>\n",
       "    <tr>\n",
       "      <th>4</th>\n",
       "      <td>0826414346</td>\n",
       "      <td>Dr. Seuss: American Icon</td>\n",
       "      <td>NaN</td>\n",
       "      <td>A22X4XUPKF66MR</td>\n",
       "      <td>D. H. Richards \"ninthwavestore\"</td>\n",
       "      <td>3/3</td>\n",
       "      <td>4.0</td>\n",
       "      <td>1107993600</td>\n",
       "      <td>Good academic overview</td>\n",
       "      <td>Philip Nel - Dr. Seuss: American IconThis is b...</td>\n",
       "    </tr>\n",
       "    <tr>\n",
       "      <th>5</th>\n",
       "      <td>0826414346</td>\n",
       "      <td>Dr. Seuss: American Icon</td>\n",
       "      <td>NaN</td>\n",
       "      <td>A2F6NONFUDB6UK</td>\n",
       "      <td>Malvin</td>\n",
       "      <td>2/2</td>\n",
       "      <td>4.0</td>\n",
       "      <td>1127174400</td>\n",
       "      <td>One of America's greatest creative talents</td>\n",
       "      <td>\"Dr. Seuss: American Icon\" by Philip Nel is a ...</td>\n",
       "    </tr>\n",
       "    <tr>\n",
       "      <th>6</th>\n",
       "      <td>0826414346</td>\n",
       "      <td>Dr. Seuss: American Icon</td>\n",
       "      <td>NaN</td>\n",
       "      <td>A14OJS0VWMOSWO</td>\n",
       "      <td>Midwest Book Review</td>\n",
       "      <td>3/4</td>\n",
       "      <td>5.0</td>\n",
       "      <td>1100131200</td>\n",
       "      <td>A memorably excellent survey of Dr. Seuss' man...</td>\n",
       "      <td>Theodor Seuss Giesel was best known as 'Dr. Se...</td>\n",
       "    </tr>\n",
       "    <tr>\n",
       "      <th>7</th>\n",
       "      <td>0826414346</td>\n",
       "      <td>Dr. Seuss: American Icon</td>\n",
       "      <td>NaN</td>\n",
       "      <td>A2RSSXTDZDUSH4</td>\n",
       "      <td>J. Squire</td>\n",
       "      <td>0/0</td>\n",
       "      <td>5.0</td>\n",
       "      <td>1231200000</td>\n",
       "      <td>Academia At It's Best</td>\n",
       "      <td>When I recieved this book as a gift for Christ...</td>\n",
       "    </tr>\n",
       "    <tr>\n",
       "      <th>8</th>\n",
       "      <td>0826414346</td>\n",
       "      <td>Dr. Seuss: American Icon</td>\n",
       "      <td>NaN</td>\n",
       "      <td>A25MD5I2GUIW6W</td>\n",
       "      <td>J. P. HIGBED \"big fellow\"</td>\n",
       "      <td>0/0</td>\n",
       "      <td>5.0</td>\n",
       "      <td>1209859200</td>\n",
       "      <td>And to think that I read it on the tram!</td>\n",
       "      <td>Trams (or any public transport) are not usuall...</td>\n",
       "    </tr>\n",
       "    <tr>\n",
       "      <th>9</th>\n",
       "      <td>0826414346</td>\n",
       "      <td>Dr. Seuss: American Icon</td>\n",
       "      <td>NaN</td>\n",
       "      <td>A3VA4XFS5WNJO3</td>\n",
       "      <td>Donald Burnside</td>\n",
       "      <td>3/5</td>\n",
       "      <td>4.0</td>\n",
       "      <td>1076371200</td>\n",
       "      <td>Fascinating account of a genius at work</td>\n",
       "      <td>As far as I am aware, this is the first book-l...</td>\n",
       "    </tr>\n",
       "  </tbody>\n",
       "</table>\n",
       "</div>"
      ],
      "text/plain": [
       "           Id                           Title  Price         User_id  \\\n",
       "0  1882931173  Its Only Art If Its Well Hung!    NaN   AVCGYZL8FQQTD   \n",
       "1  0826414346        Dr. Seuss: American Icon    NaN  A30TK6U7DNS82R   \n",
       "2  0826414346        Dr. Seuss: American Icon    NaN  A3UH4UZ4RSVO82   \n",
       "3  0826414346        Dr. Seuss: American Icon    NaN  A2MVUWT453QH61   \n",
       "4  0826414346        Dr. Seuss: American Icon    NaN  A22X4XUPKF66MR   \n",
       "5  0826414346        Dr. Seuss: American Icon    NaN  A2F6NONFUDB6UK   \n",
       "6  0826414346        Dr. Seuss: American Icon    NaN  A14OJS0VWMOSWO   \n",
       "7  0826414346        Dr. Seuss: American Icon    NaN  A2RSSXTDZDUSH4   \n",
       "8  0826414346        Dr. Seuss: American Icon    NaN  A25MD5I2GUIW6W   \n",
       "9  0826414346        Dr. Seuss: American Icon    NaN  A3VA4XFS5WNJO3   \n",
       "\n",
       "                          profileName review/helpfulness  review/score  \\\n",
       "0               Jim of Oz \"jim-of-oz\"                7/7           4.0   \n",
       "1                       Kevin Killian              10/10           5.0   \n",
       "2                        John Granger              10/11           5.0   \n",
       "3  Roy E. Perry \"amateur philosopher\"                7/7           4.0   \n",
       "4     D. H. Richards \"ninthwavestore\"                3/3           4.0   \n",
       "5                              Malvin                2/2           4.0   \n",
       "6                 Midwest Book Review                3/4           5.0   \n",
       "7                           J. Squire                0/0           5.0   \n",
       "8           J. P. HIGBED \"big fellow\"                0/0           5.0   \n",
       "9                     Donald Burnside                3/5           4.0   \n",
       "\n",
       "   review/time                                     review/summary  \\\n",
       "0    940636800             Nice collection of Julie Strain images   \n",
       "1   1095724800                                  Really Enjoyed It   \n",
       "2   1078790400    Essential for every personal and Public Library   \n",
       "3   1090713600    Phlip Nel gives silly Seuss a serious treatment   \n",
       "4   1107993600                             Good academic overview   \n",
       "5   1127174400         One of America's greatest creative talents   \n",
       "6   1100131200  A memorably excellent survey of Dr. Seuss' man...   \n",
       "7   1231200000                              Academia At It's Best   \n",
       "8   1209859200           And to think that I read it on the tram!   \n",
       "9   1076371200            Fascinating account of a genius at work   \n",
       "\n",
       "                                         review/text  \n",
       "0  This is only for Julie Strain fans. It's a col...  \n",
       "1  I don't care much for Dr. Seuss but after read...  \n",
       "2  If people become the books they read and if \"t...  \n",
       "3  Theodore Seuss Geisel (1904-1991), aka &quot;D...  \n",
       "4  Philip Nel - Dr. Seuss: American IconThis is b...  \n",
       "5  \"Dr. Seuss: American Icon\" by Philip Nel is a ...  \n",
       "6  Theodor Seuss Giesel was best known as 'Dr. Se...  \n",
       "7  When I recieved this book as a gift for Christ...  \n",
       "8  Trams (or any public transport) are not usuall...  \n",
       "9  As far as I am aware, this is the first book-l...  "
      ]
     },
     "execution_count": 4,
     "metadata": {},
     "output_type": "execute_result"
    }
   ],
   "source": [
    "df.head(10)"
   ]
  },
  {
   "cell_type": "code",
   "execution_count": 5,
   "id": "905a0343",
   "metadata": {
    "collapsed": true,
    "execution": {
     "iopub.execute_input": "2024-04-06T14:16:22.660079Z",
     "iopub.status.busy": "2024-04-06T14:16:22.659313Z",
     "iopub.status.idle": "2024-04-06T14:16:22.667760Z",
     "shell.execute_reply": "2024-04-06T14:16:22.666531Z"
    },
    "jupyter": {
     "outputs_hidden": true
    },
    "papermill": {
     "duration": 0.019936,
     "end_time": "2024-04-06T14:16:22.670529",
     "exception": false,
     "start_time": "2024-04-06T14:16:22.650593",
     "status": "completed"
    },
    "tags": []
   },
   "outputs": [
    {
     "data": {
      "text/plain": [
       "Id                     object\n",
       "Title                  object\n",
       "Price                 float64\n",
       "User_id                object\n",
       "profileName            object\n",
       "review/helpfulness     object\n",
       "review/score          float64\n",
       "review/time             int64\n",
       "review/summary         object\n",
       "review/text            object\n",
       "dtype: object"
      ]
     },
     "execution_count": 5,
     "metadata": {},
     "output_type": "execute_result"
    }
   ],
   "source": [
    "df.dtypes"
   ]
  },
  {
   "cell_type": "code",
   "execution_count": 6,
   "id": "99311c90",
   "metadata": {
    "execution": {
     "iopub.execute_input": "2024-04-06T14:16:22.687897Z",
     "iopub.status.busy": "2024-04-06T14:16:22.687412Z",
     "iopub.status.idle": "2024-04-06T14:16:22.695115Z",
     "shell.execute_reply": "2024-04-06T14:16:22.693854Z"
    },
    "papermill": {
     "duration": 0.01966,
     "end_time": "2024-04-06T14:16:22.697758",
     "exception": false,
     "start_time": "2024-04-06T14:16:22.678098",
     "status": "completed"
    },
    "tags": []
   },
   "outputs": [
    {
     "data": {
      "text/plain": [
       "Index(['Id', 'Title', 'Price', 'User_id', 'profileName', 'review/helpfulness',\n",
       "       'review/score', 'review/time', 'review/summary', 'review/text'],\n",
       "      dtype='object')"
      ]
     },
     "execution_count": 6,
     "metadata": {},
     "output_type": "execute_result"
    }
   ],
   "source": [
    "df.columns"
   ]
  },
  {
   "cell_type": "markdown",
   "id": "c5e78f43",
   "metadata": {
    "papermill": {
     "duration": 0.007165,
     "end_time": "2024-04-06T14:16:22.712484",
     "exception": false,
     "start_time": "2024-04-06T14:16:22.705319",
     "status": "completed"
    },
    "tags": []
   },
   "source": [
    "**Pré processamento**\n",
    "* Dropar colunas desnecessárias\n",
    "* Renomear colunas\n",
    "* Reduzir o dataset"
   ]
  },
  {
   "cell_type": "code",
   "execution_count": 7,
   "id": "239e1b4d",
   "metadata": {
    "execution": {
     "iopub.execute_input": "2024-04-06T14:16:22.730492Z",
     "iopub.status.busy": "2024-04-06T14:16:22.729988Z",
     "iopub.status.idle": "2024-04-06T14:16:23.023948Z",
     "shell.execute_reply": "2024-04-06T14:16:23.022620Z"
    },
    "papermill": {
     "duration": 0.305843,
     "end_time": "2024-04-06T14:16:23.026848",
     "exception": false,
     "start_time": "2024-04-06T14:16:22.721005",
     "status": "completed"
    },
    "tags": []
   },
   "outputs": [],
   "source": [
    "df.drop(['Price', 'review/helpfulness','review/time'], axis=1, inplace= True)"
   ]
  },
  {
   "cell_type": "code",
   "execution_count": 8,
   "id": "d52a36a8",
   "metadata": {
    "execution": {
     "iopub.execute_input": "2024-04-06T14:16:23.043972Z",
     "iopub.status.busy": "2024-04-06T14:16:23.043477Z",
     "iopub.status.idle": "2024-04-06T14:16:23.060983Z",
     "shell.execute_reply": "2024-04-06T14:16:23.059972Z"
    },
    "papermill": {
     "duration": 0.028762,
     "end_time": "2024-04-06T14:16:23.063248",
     "exception": false,
     "start_time": "2024-04-06T14:16:23.034486",
     "status": "completed"
    },
    "tags": []
   },
   "outputs": [
    {
     "data": {
      "text/html": [
       "<div>\n",
       "<style scoped>\n",
       "    .dataframe tbody tr th:only-of-type {\n",
       "        vertical-align: middle;\n",
       "    }\n",
       "\n",
       "    .dataframe tbody tr th {\n",
       "        vertical-align: top;\n",
       "    }\n",
       "\n",
       "    .dataframe thead th {\n",
       "        text-align: right;\n",
       "    }\n",
       "</style>\n",
       "<table border=\"1\" class=\"dataframe\">\n",
       "  <thead>\n",
       "    <tr style=\"text-align: right;\">\n",
       "      <th></th>\n",
       "      <th>Id</th>\n",
       "      <th>Title</th>\n",
       "      <th>User_id</th>\n",
       "      <th>profileName</th>\n",
       "      <th>review/score</th>\n",
       "      <th>review/summary</th>\n",
       "      <th>review/text</th>\n",
       "    </tr>\n",
       "  </thead>\n",
       "  <tbody>\n",
       "    <tr>\n",
       "      <th>0</th>\n",
       "      <td>1882931173</td>\n",
       "      <td>Its Only Art If Its Well Hung!</td>\n",
       "      <td>AVCGYZL8FQQTD</td>\n",
       "      <td>Jim of Oz \"jim-of-oz\"</td>\n",
       "      <td>4.0</td>\n",
       "      <td>Nice collection of Julie Strain images</td>\n",
       "      <td>This is only for Julie Strain fans. It's a col...</td>\n",
       "    </tr>\n",
       "    <tr>\n",
       "      <th>1</th>\n",
       "      <td>0826414346</td>\n",
       "      <td>Dr. Seuss: American Icon</td>\n",
       "      <td>A30TK6U7DNS82R</td>\n",
       "      <td>Kevin Killian</td>\n",
       "      <td>5.0</td>\n",
       "      <td>Really Enjoyed It</td>\n",
       "      <td>I don't care much for Dr. Seuss but after read...</td>\n",
       "    </tr>\n",
       "    <tr>\n",
       "      <th>2</th>\n",
       "      <td>0826414346</td>\n",
       "      <td>Dr. Seuss: American Icon</td>\n",
       "      <td>A3UH4UZ4RSVO82</td>\n",
       "      <td>John Granger</td>\n",
       "      <td>5.0</td>\n",
       "      <td>Essential for every personal and Public Library</td>\n",
       "      <td>If people become the books they read and if \"t...</td>\n",
       "    </tr>\n",
       "    <tr>\n",
       "      <th>3</th>\n",
       "      <td>0826414346</td>\n",
       "      <td>Dr. Seuss: American Icon</td>\n",
       "      <td>A2MVUWT453QH61</td>\n",
       "      <td>Roy E. Perry \"amateur philosopher\"</td>\n",
       "      <td>4.0</td>\n",
       "      <td>Phlip Nel gives silly Seuss a serious treatment</td>\n",
       "      <td>Theodore Seuss Geisel (1904-1991), aka &amp;quot;D...</td>\n",
       "    </tr>\n",
       "    <tr>\n",
       "      <th>4</th>\n",
       "      <td>0826414346</td>\n",
       "      <td>Dr. Seuss: American Icon</td>\n",
       "      <td>A22X4XUPKF66MR</td>\n",
       "      <td>D. H. Richards \"ninthwavestore\"</td>\n",
       "      <td>4.0</td>\n",
       "      <td>Good academic overview</td>\n",
       "      <td>Philip Nel - Dr. Seuss: American IconThis is b...</td>\n",
       "    </tr>\n",
       "  </tbody>\n",
       "</table>\n",
       "</div>"
      ],
      "text/plain": [
       "           Id                           Title         User_id  \\\n",
       "0  1882931173  Its Only Art If Its Well Hung!   AVCGYZL8FQQTD   \n",
       "1  0826414346        Dr. Seuss: American Icon  A30TK6U7DNS82R   \n",
       "2  0826414346        Dr. Seuss: American Icon  A3UH4UZ4RSVO82   \n",
       "3  0826414346        Dr. Seuss: American Icon  A2MVUWT453QH61   \n",
       "4  0826414346        Dr. Seuss: American Icon  A22X4XUPKF66MR   \n",
       "\n",
       "                          profileName  review/score  \\\n",
       "0               Jim of Oz \"jim-of-oz\"           4.0   \n",
       "1                       Kevin Killian           5.0   \n",
       "2                        John Granger           5.0   \n",
       "3  Roy E. Perry \"amateur philosopher\"           4.0   \n",
       "4     D. H. Richards \"ninthwavestore\"           4.0   \n",
       "\n",
       "                                    review/summary  \\\n",
       "0           Nice collection of Julie Strain images   \n",
       "1                                Really Enjoyed It   \n",
       "2  Essential for every personal and Public Library   \n",
       "3  Phlip Nel gives silly Seuss a serious treatment   \n",
       "4                           Good academic overview   \n",
       "\n",
       "                                         review/text  \n",
       "0  This is only for Julie Strain fans. It's a col...  \n",
       "1  I don't care much for Dr. Seuss but after read...  \n",
       "2  If people become the books they read and if \"t...  \n",
       "3  Theodore Seuss Geisel (1904-1991), aka &quot;D...  \n",
       "4  Philip Nel - Dr. Seuss: American IconThis is b...  "
      ]
     },
     "execution_count": 8,
     "metadata": {},
     "output_type": "execute_result"
    }
   ],
   "source": [
    "df.head()"
   ]
  },
  {
   "cell_type": "code",
   "execution_count": 9,
   "id": "52c2e6ef",
   "metadata": {
    "execution": {
     "iopub.execute_input": "2024-04-06T14:16:23.082523Z",
     "iopub.status.busy": "2024-04-06T14:16:23.081477Z",
     "iopub.status.idle": "2024-04-06T14:16:23.089156Z",
     "shell.execute_reply": "2024-04-06T14:16:23.088146Z"
    },
    "papermill": {
     "duration": 0.019998,
     "end_time": "2024-04-06T14:16:23.091545",
     "exception": false,
     "start_time": "2024-04-06T14:16:23.071547",
     "status": "completed"
    },
    "tags": []
   },
   "outputs": [
    {
     "data": {
      "text/plain": [
       "(3000000, 7)"
      ]
     },
     "execution_count": 9,
     "metadata": {},
     "output_type": "execute_result"
    }
   ],
   "source": [
    "df.shape"
   ]
  },
  {
   "cell_type": "code",
   "execution_count": 10,
   "id": "5dc19059",
   "metadata": {
    "execution": {
     "iopub.execute_input": "2024-04-06T14:16:23.111249Z",
     "iopub.status.busy": "2024-04-06T14:16:23.110381Z",
     "iopub.status.idle": "2024-04-06T14:16:23.364923Z",
     "shell.execute_reply": "2024-04-06T14:16:23.363817Z"
    },
    "papermill": {
     "duration": 0.267563,
     "end_time": "2024-04-06T14:16:23.367429",
     "exception": false,
     "start_time": "2024-04-06T14:16:23.099866",
     "status": "completed"
    },
    "tags": []
   },
   "outputs": [],
   "source": [
    "df = df.rename(columns={'review/score':'Score',\n",
    "                        'review/summary': 'summary',\n",
    "                        'review/text' : 'review'\n",
    "    \n",
    "})"
   ]
  },
  {
   "cell_type": "code",
   "execution_count": 11,
   "id": "533a6ea9",
   "metadata": {
    "execution": {
     "iopub.execute_input": "2024-04-06T14:16:23.386507Z",
     "iopub.status.busy": "2024-04-06T14:16:23.386057Z",
     "iopub.status.idle": "2024-04-06T14:16:23.399910Z",
     "shell.execute_reply": "2024-04-06T14:16:23.398855Z"
    },
    "papermill": {
     "duration": 0.02574,
     "end_time": "2024-04-06T14:16:23.402379",
     "exception": false,
     "start_time": "2024-04-06T14:16:23.376639",
     "status": "completed"
    },
    "tags": []
   },
   "outputs": [
    {
     "data": {
      "text/html": [
       "<div>\n",
       "<style scoped>\n",
       "    .dataframe tbody tr th:only-of-type {\n",
       "        vertical-align: middle;\n",
       "    }\n",
       "\n",
       "    .dataframe tbody tr th {\n",
       "        vertical-align: top;\n",
       "    }\n",
       "\n",
       "    .dataframe thead th {\n",
       "        text-align: right;\n",
       "    }\n",
       "</style>\n",
       "<table border=\"1\" class=\"dataframe\">\n",
       "  <thead>\n",
       "    <tr style=\"text-align: right;\">\n",
       "      <th></th>\n",
       "      <th>Id</th>\n",
       "      <th>Title</th>\n",
       "      <th>User_id</th>\n",
       "      <th>profileName</th>\n",
       "      <th>Score</th>\n",
       "      <th>summary</th>\n",
       "      <th>review</th>\n",
       "    </tr>\n",
       "  </thead>\n",
       "  <tbody>\n",
       "    <tr>\n",
       "      <th>0</th>\n",
       "      <td>1882931173</td>\n",
       "      <td>Its Only Art If Its Well Hung!</td>\n",
       "      <td>AVCGYZL8FQQTD</td>\n",
       "      <td>Jim of Oz \"jim-of-oz\"</td>\n",
       "      <td>4.0</td>\n",
       "      <td>Nice collection of Julie Strain images</td>\n",
       "      <td>This is only for Julie Strain fans. It's a col...</td>\n",
       "    </tr>\n",
       "    <tr>\n",
       "      <th>1</th>\n",
       "      <td>0826414346</td>\n",
       "      <td>Dr. Seuss: American Icon</td>\n",
       "      <td>A30TK6U7DNS82R</td>\n",
       "      <td>Kevin Killian</td>\n",
       "      <td>5.0</td>\n",
       "      <td>Really Enjoyed It</td>\n",
       "      <td>I don't care much for Dr. Seuss but after read...</td>\n",
       "    </tr>\n",
       "    <tr>\n",
       "      <th>2</th>\n",
       "      <td>0826414346</td>\n",
       "      <td>Dr. Seuss: American Icon</td>\n",
       "      <td>A3UH4UZ4RSVO82</td>\n",
       "      <td>John Granger</td>\n",
       "      <td>5.0</td>\n",
       "      <td>Essential for every personal and Public Library</td>\n",
       "      <td>If people become the books they read and if \"t...</td>\n",
       "    </tr>\n",
       "    <tr>\n",
       "      <th>3</th>\n",
       "      <td>0826414346</td>\n",
       "      <td>Dr. Seuss: American Icon</td>\n",
       "      <td>A2MVUWT453QH61</td>\n",
       "      <td>Roy E. Perry \"amateur philosopher\"</td>\n",
       "      <td>4.0</td>\n",
       "      <td>Phlip Nel gives silly Seuss a serious treatment</td>\n",
       "      <td>Theodore Seuss Geisel (1904-1991), aka &amp;quot;D...</td>\n",
       "    </tr>\n",
       "    <tr>\n",
       "      <th>4</th>\n",
       "      <td>0826414346</td>\n",
       "      <td>Dr. Seuss: American Icon</td>\n",
       "      <td>A22X4XUPKF66MR</td>\n",
       "      <td>D. H. Richards \"ninthwavestore\"</td>\n",
       "      <td>4.0</td>\n",
       "      <td>Good academic overview</td>\n",
       "      <td>Philip Nel - Dr. Seuss: American IconThis is b...</td>\n",
       "    </tr>\n",
       "  </tbody>\n",
       "</table>\n",
       "</div>"
      ],
      "text/plain": [
       "           Id                           Title         User_id  \\\n",
       "0  1882931173  Its Only Art If Its Well Hung!   AVCGYZL8FQQTD   \n",
       "1  0826414346        Dr. Seuss: American Icon  A30TK6U7DNS82R   \n",
       "2  0826414346        Dr. Seuss: American Icon  A3UH4UZ4RSVO82   \n",
       "3  0826414346        Dr. Seuss: American Icon  A2MVUWT453QH61   \n",
       "4  0826414346        Dr. Seuss: American Icon  A22X4XUPKF66MR   \n",
       "\n",
       "                          profileName  Score  \\\n",
       "0               Jim of Oz \"jim-of-oz\"    4.0   \n",
       "1                       Kevin Killian    5.0   \n",
       "2                        John Granger    5.0   \n",
       "3  Roy E. Perry \"amateur philosopher\"    4.0   \n",
       "4     D. H. Richards \"ninthwavestore\"    4.0   \n",
       "\n",
       "                                           summary  \\\n",
       "0           Nice collection of Julie Strain images   \n",
       "1                                Really Enjoyed It   \n",
       "2  Essential for every personal and Public Library   \n",
       "3  Phlip Nel gives silly Seuss a serious treatment   \n",
       "4                           Good academic overview   \n",
       "\n",
       "                                              review  \n",
       "0  This is only for Julie Strain fans. It's a col...  \n",
       "1  I don't care much for Dr. Seuss but after read...  \n",
       "2  If people become the books they read and if \"t...  \n",
       "3  Theodore Seuss Geisel (1904-1991), aka &quot;D...  \n",
       "4  Philip Nel - Dr. Seuss: American IconThis is b...  "
      ]
     },
     "execution_count": 11,
     "metadata": {},
     "output_type": "execute_result"
    }
   ],
   "source": [
    "df.head(5)"
   ]
  },
  {
   "cell_type": "code",
   "execution_count": 12,
   "id": "8cc8f1f2",
   "metadata": {
    "collapsed": true,
    "execution": {
     "iopub.execute_input": "2024-04-06T14:16:23.420397Z",
     "iopub.status.busy": "2024-04-06T14:16:23.420000Z",
     "iopub.status.idle": "2024-04-06T14:16:23.442173Z",
     "shell.execute_reply": "2024-04-06T14:16:23.441003Z"
    },
    "jupyter": {
     "outputs_hidden": true
    },
    "papermill": {
     "duration": 0.034191,
     "end_time": "2024-04-06T14:16:23.444726",
     "exception": false,
     "start_time": "2024-04-06T14:16:23.410535",
     "status": "completed"
    },
    "tags": []
   },
   "outputs": [
    {
     "data": {
      "text/plain": [
       "0          4\n",
       "1          5\n",
       "2          5\n",
       "3          4\n",
       "4          4\n",
       "          ..\n",
       "2999995    4\n",
       "2999996    4\n",
       "2999997    4\n",
       "2999998    5\n",
       "2999999    1\n",
       "Name: Score, Length: 3000000, dtype: int64"
      ]
     },
     "execution_count": 12,
     "metadata": {},
     "output_type": "execute_result"
    }
   ],
   "source": [
    "pd.to_numeric(df['Score'].astype(int))"
   ]
  },
  {
   "cell_type": "code",
   "execution_count": 13,
   "id": "0760e2d2",
   "metadata": {
    "execution": {
     "iopub.execute_input": "2024-04-06T14:16:23.463099Z",
     "iopub.status.busy": "2024-04-06T14:16:23.462706Z",
     "iopub.status.idle": "2024-04-06T14:16:23.467333Z",
     "shell.execute_reply": "2024-04-06T14:16:23.466078Z"
    },
    "papermill": {
     "duration": 0.016633,
     "end_time": "2024-04-06T14:16:23.469647",
     "exception": false,
     "start_time": "2024-04-06T14:16:23.453014",
     "status": "completed"
    },
    "tags": []
   },
   "outputs": [],
   "source": [
    "n_amostral = 20000"
   ]
  },
  {
   "cell_type": "code",
   "execution_count": 14,
   "id": "878fc8e3",
   "metadata": {
    "execution": {
     "iopub.execute_input": "2024-04-06T14:16:23.488121Z",
     "iopub.status.busy": "2024-04-06T14:16:23.487740Z",
     "iopub.status.idle": "2024-04-06T14:16:23.551116Z",
     "shell.execute_reply": "2024-04-06T14:16:23.549546Z"
    },
    "papermill": {
     "duration": 0.075453,
     "end_time": "2024-04-06T14:16:23.553516",
     "exception": false,
     "start_time": "2024-04-06T14:16:23.478063",
     "status": "completed"
    },
    "tags": []
   },
   "outputs": [
    {
     "name": "stdout",
     "output_type": "stream",
     "text": [
      "Score\n",
      "5.0    1807343\n",
      "4.0     585616\n",
      "3.0     254295\n",
      "1.0     201688\n",
      "2.0     151058\n",
      "Name: count, dtype: int64\n"
     ]
    }
   ],
   "source": [
    "contagem_das_notas = df['Score'].value_counts()\n",
    "print(contagem_das_notas)"
   ]
  },
  {
   "cell_type": "code",
   "execution_count": 15,
   "id": "a48bdf90",
   "metadata": {
    "execution": {
     "iopub.execute_input": "2024-04-06T14:16:23.572809Z",
     "iopub.status.busy": "2024-04-06T14:16:23.572049Z",
     "iopub.status.idle": "2024-04-06T14:16:23.577010Z",
     "shell.execute_reply": "2024-04-06T14:16:23.575837Z"
    },
    "papermill": {
     "duration": 0.017267,
     "end_time": "2024-04-06T14:16:23.579445",
     "exception": false,
     "start_time": "2024-04-06T14:16:23.562178",
     "status": "completed"
    },
    "tags": []
   },
   "outputs": [],
   "source": [
    "contagem = {\n",
    "    5.0: 1807343,\n",
    "    4.0: 585616,\n",
    "    3.0: 254295,\n",
    "    1.0: 201688,\n",
    "    2.0: 151058,\n",
    "}"
   ]
  },
  {
   "cell_type": "code",
   "execution_count": 16,
   "id": "df6dcaf1",
   "metadata": {
    "execution": {
     "iopub.execute_input": "2024-04-06T14:16:23.598389Z",
     "iopub.status.busy": "2024-04-06T14:16:23.597247Z",
     "iopub.status.idle": "2024-04-06T14:16:23.602671Z",
     "shell.execute_reply": "2024-04-06T14:16:23.601696Z"
    },
    "papermill": {
     "duration": 0.01709,
     "end_time": "2024-04-06T14:16:23.604847",
     "exception": false,
     "start_time": "2024-04-06T14:16:23.587757",
     "status": "completed"
    },
    "tags": []
   },
   "outputs": [],
   "source": [
    "counts_df = pd.DataFrame.from_dict(contagem, orient='index', columns=['count'])"
   ]
  },
  {
   "cell_type": "code",
   "execution_count": 17,
   "id": "47958cec",
   "metadata": {
    "execution": {
     "iopub.execute_input": "2024-04-06T14:16:23.623230Z",
     "iopub.status.busy": "2024-04-06T14:16:23.622801Z",
     "iopub.status.idle": "2024-04-06T14:16:23.630008Z",
     "shell.execute_reply": "2024-04-06T14:16:23.629207Z"
    },
    "papermill": {
     "duration": 0.018814,
     "end_time": "2024-04-06T14:16:23.632020",
     "exception": false,
     "start_time": "2024-04-06T14:16:23.613206",
     "status": "completed"
    },
    "tags": []
   },
   "outputs": [],
   "source": [
    "counts_df['proportion'] = counts_df['count'] / counts_df['count'].sum()"
   ]
  },
  {
   "cell_type": "markdown",
   "id": "967e867c",
   "metadata": {
    "papermill": {
     "duration": 0.008017,
     "end_time": "2024-04-06T14:16:23.648737",
     "exception": false,
     "start_time": "2024-04-06T14:16:23.640720",
     "status": "completed"
    },
    "tags": []
   },
   "source": [
    "**Distribuição das amostras por nota baseado na proporção**"
   ]
  },
  {
   "cell_type": "code",
   "execution_count": 18,
   "id": "f1703e1b",
   "metadata": {
    "execution": {
     "iopub.execute_input": "2024-04-06T14:16:23.667552Z",
     "iopub.status.busy": "2024-04-06T14:16:23.666846Z",
     "iopub.status.idle": "2024-04-06T14:16:23.675836Z",
     "shell.execute_reply": "2024-04-06T14:16:23.674654Z"
    },
    "papermill": {
     "duration": 0.020872,
     "end_time": "2024-04-06T14:16:23.677964",
     "exception": false,
     "start_time": "2024-04-06T14:16:23.657092",
     "status": "completed"
    },
    "tags": []
   },
   "outputs": [
    {
     "name": "stdout",
     "output_type": "stream",
     "text": [
      "       count  proportion  samples\n",
      "5.0  1807343    0.602448    12049\n",
      "4.0   585616    0.195205     3904\n",
      "3.0   254295    0.084765     1695\n",
      "1.0   201688    0.067229     1345\n",
      "2.0   151058    0.050353     1007\n"
     ]
    }
   ],
   "source": [
    "counts_df['samples'] = (counts_df['proportion'] * n_amostral).round().astype(int)\n",
    "print(counts_df)"
   ]
  },
  {
   "cell_type": "code",
   "execution_count": 19,
   "id": "de9db6cc",
   "metadata": {
    "execution": {
     "iopub.execute_input": "2024-04-06T14:16:23.697073Z",
     "iopub.status.busy": "2024-04-06T14:16:23.695905Z",
     "iopub.status.idle": "2024-04-06T14:16:23.700587Z",
     "shell.execute_reply": "2024-04-06T14:16:23.699725Z"
    },
    "papermill": {
     "duration": 0.016279,
     "end_time": "2024-04-06T14:16:23.702695",
     "exception": false,
     "start_time": "2024-04-06T14:16:23.686416",
     "status": "completed"
    },
    "tags": []
   },
   "outputs": [],
   "source": [
    "df_amostral = []"
   ]
  },
  {
   "cell_type": "code",
   "execution_count": 20,
   "id": "03afbbd3",
   "metadata": {
    "execution": {
     "iopub.execute_input": "2024-04-06T14:16:23.721482Z",
     "iopub.status.busy": "2024-04-06T14:16:23.721085Z",
     "iopub.status.idle": "2024-04-06T14:16:24.621050Z",
     "shell.execute_reply": "2024-04-06T14:16:24.620056Z"
    },
    "papermill": {
     "duration": 0.912666,
     "end_time": "2024-04-06T14:16:24.623715",
     "exception": false,
     "start_time": "2024-04-06T14:16:23.711049",
     "status": "completed"
    },
    "tags": []
   },
   "outputs": [],
   "source": [
    "for score, row in counts_df.iterrows():\n",
    "    # Amostrar as linhas 'amostras' para cada nota\n",
    "    n_samples = int(row['samples'])\n",
    "    amostral = df[df['Score'] == score].sample(n=n_samples, random_state=1)\n",
    "    df_amostral.append(amostral)"
   ]
  },
  {
   "cell_type": "code",
   "execution_count": 21,
   "id": "e0c2c3b3",
   "metadata": {
    "execution": {
     "iopub.execute_input": "2024-04-06T14:16:24.642102Z",
     "iopub.status.busy": "2024-04-06T14:16:24.641726Z",
     "iopub.status.idle": "2024-04-06T14:16:24.652205Z",
     "shell.execute_reply": "2024-04-06T14:16:24.650970Z"
    },
    "papermill": {
     "duration": 0.022343,
     "end_time": "2024-04-06T14:16:24.654406",
     "exception": false,
     "start_time": "2024-04-06T14:16:24.632063",
     "status": "completed"
    },
    "tags": []
   },
   "outputs": [],
   "source": [
    "df_amostral_final = pd.concat(df_amostral)"
   ]
  },
  {
   "cell_type": "code",
   "execution_count": 22,
   "id": "88812bae",
   "metadata": {
    "execution": {
     "iopub.execute_input": "2024-04-06T14:16:24.673015Z",
     "iopub.status.busy": "2024-04-06T14:16:24.672636Z",
     "iopub.status.idle": "2024-04-06T14:16:24.710385Z",
     "shell.execute_reply": "2024-04-06T14:16:24.709126Z"
    },
    "papermill": {
     "duration": 0.050015,
     "end_time": "2024-04-06T14:16:24.712968",
     "exception": false,
     "start_time": "2024-04-06T14:16:24.662953",
     "status": "completed"
    },
    "tags": []
   },
   "outputs": [],
   "source": [
    "df_amostral_final = df_amostral_final.sample(frac=1, random_state=1).reset_index(drop=True)"
   ]
  },
  {
   "cell_type": "code",
   "execution_count": 23,
   "id": "2012d49a",
   "metadata": {
    "execution": {
     "iopub.execute_input": "2024-04-06T14:16:24.731842Z",
     "iopub.status.busy": "2024-04-06T14:16:24.731419Z",
     "iopub.status.idle": "2024-04-06T14:16:24.736494Z",
     "shell.execute_reply": "2024-04-06T14:16:24.735381Z"
    },
    "papermill": {
     "duration": 0.017228,
     "end_time": "2024-04-06T14:16:24.738759",
     "exception": false,
     "start_time": "2024-04-06T14:16:24.721531",
     "status": "completed"
    },
    "tags": []
   },
   "outputs": [],
   "source": [
    "df = df_amostral_final"
   ]
  },
  {
   "cell_type": "code",
   "execution_count": 24,
   "id": "23a55b4a",
   "metadata": {
    "execution": {
     "iopub.execute_input": "2024-04-06T14:16:24.759608Z",
     "iopub.status.busy": "2024-04-06T14:16:24.758909Z",
     "iopub.status.idle": "2024-04-06T14:16:24.766846Z",
     "shell.execute_reply": "2024-04-06T14:16:24.765695Z"
    },
    "papermill": {
     "duration": 0.023259,
     "end_time": "2024-04-06T14:16:24.770545",
     "exception": false,
     "start_time": "2024-04-06T14:16:24.747286",
     "status": "completed"
    },
    "tags": []
   },
   "outputs": [
    {
     "data": {
      "text/plain": [
       "(20000, 7)"
      ]
     },
     "execution_count": 24,
     "metadata": {},
     "output_type": "execute_result"
    }
   ],
   "source": [
    "df.shape"
   ]
  },
  {
   "cell_type": "code",
   "execution_count": 25,
   "id": "65169be6",
   "metadata": {
    "execution": {
     "iopub.execute_input": "2024-04-06T14:16:24.789290Z",
     "iopub.status.busy": "2024-04-06T14:16:24.788863Z",
     "iopub.status.idle": "2024-04-06T14:16:26.758101Z",
     "shell.execute_reply": "2024-04-06T14:16:26.756788Z"
    },
    "papermill": {
     "duration": 1.98178,
     "end_time": "2024-04-06T14:16:26.760935",
     "exception": false,
     "start_time": "2024-04-06T14:16:24.779155",
     "status": "completed"
    },
    "tags": []
   },
   "outputs": [],
   "source": [
    "def clean(text):\n",
    "    # Remover tags HTML (nao sei se tinham, mas melhor prevenir do que remediar)\n",
    "    text = re.sub(r'<.*?>', '', text)\n",
    "    \n",
    "    # Remover caracteres especiais e pontuações\n",
    "    text = re.sub(r'[^a-zA-Z\\s]', '', text)\n",
    "    \n",
    "    # Converter para minúsculas\n",
    "    text = text.lower()\n",
    "    \n",
    "    # Remoção de espaços em branco extras\n",
    "    text = re.sub(r'\\s+', ' ', text).strip()\n",
    "    \n",
    "    # Remoção de caracteres simples\n",
    "    text = re.sub(r'\\b[a-zA-Z]\\b', '', text)\n",
    "    return text\n",
    "\n",
    "df['clean_reviews'] = df['review'].apply(clean)\n"
   ]
  },
  {
   "cell_type": "code",
   "execution_count": 26,
   "id": "f81db654",
   "metadata": {
    "execution": {
     "iopub.execute_input": "2024-04-06T14:16:26.779590Z",
     "iopub.status.busy": "2024-04-06T14:16:26.779119Z",
     "iopub.status.idle": "2024-04-06T14:16:26.796002Z",
     "shell.execute_reply": "2024-04-06T14:16:26.794856Z"
    },
    "papermill": {
     "duration": 0.028804,
     "end_time": "2024-04-06T14:16:26.798196",
     "exception": false,
     "start_time": "2024-04-06T14:16:26.769392",
     "status": "completed"
    },
    "tags": []
   },
   "outputs": [
    {
     "data": {
      "text/html": [
       "<div>\n",
       "<style scoped>\n",
       "    .dataframe tbody tr th:only-of-type {\n",
       "        vertical-align: middle;\n",
       "    }\n",
       "\n",
       "    .dataframe tbody tr th {\n",
       "        vertical-align: top;\n",
       "    }\n",
       "\n",
       "    .dataframe thead th {\n",
       "        text-align: right;\n",
       "    }\n",
       "</style>\n",
       "<table border=\"1\" class=\"dataframe\">\n",
       "  <thead>\n",
       "    <tr style=\"text-align: right;\">\n",
       "      <th></th>\n",
       "      <th>Id</th>\n",
       "      <th>Title</th>\n",
       "      <th>User_id</th>\n",
       "      <th>profileName</th>\n",
       "      <th>Score</th>\n",
       "      <th>summary</th>\n",
       "      <th>review</th>\n",
       "      <th>clean_reviews</th>\n",
       "    </tr>\n",
       "  </thead>\n",
       "  <tbody>\n",
       "    <tr>\n",
       "      <th>0</th>\n",
       "      <td>B000N770M6</td>\n",
       "      <td>My Losing Season</td>\n",
       "      <td>A1E16W37PGZ1RW</td>\n",
       "      <td>Joseph L Burke</td>\n",
       "      <td>5.0</td>\n",
       "      <td>Superb! Conroy Get's Better With Every Book</td>\n",
       "      <td>I have read all of Pat Conroy's books, even &amp;q...</td>\n",
       "      <td>have read all of pat conroys books even quott...</td>\n",
       "    </tr>\n",
       "    <tr>\n",
       "      <th>1</th>\n",
       "      <td>B000Q6XPDW</td>\n",
       "      <td>The Poisonwood Bible</td>\n",
       "      <td>A2HURQ1MYHW4A2</td>\n",
       "      <td>A. Mattern</td>\n",
       "      <td>3.0</td>\n",
       "      <td>poisonwood bible</td>\n",
       "      <td>It was written very accurately as a depiction ...</td>\n",
       "      <td>it was written very accurately as  depiction o...</td>\n",
       "    </tr>\n",
       "    <tr>\n",
       "      <th>2</th>\n",
       "      <td>B000IG886Y</td>\n",
       "      <td>Good and Evil: Two Interpretations: I. Right a...</td>\n",
       "      <td>NaN</td>\n",
       "      <td>NaN</td>\n",
       "      <td>5.0</td>\n",
       "      <td>A oasis in the dryness of my time</td>\n",
       "      <td>There is a sense that this is one of the most ...</td>\n",
       "      <td>there is  sense that this is one of the most i...</td>\n",
       "    </tr>\n",
       "    <tr>\n",
       "      <th>3</th>\n",
       "      <td>B000EXYZU4</td>\n",
       "      <td>The Cluetrain Manifesto: The End of Business A...</td>\n",
       "      <td>NaN</td>\n",
       "      <td>NaN</td>\n",
       "      <td>1.0</td>\n",
       "      <td>Ranting, repetitive, naive</td>\n",
       "      <td>The only thing worse in this book than the thi...</td>\n",
       "      <td>the only thing worse in this book than the thi...</td>\n",
       "    </tr>\n",
       "    <tr>\n",
       "      <th>4</th>\n",
       "      <td>0595354785</td>\n",
       "      <td>Warbird Recovery: The Hunt for a Rare WWII Pla...</td>\n",
       "      <td>A21O5385Y8T627</td>\n",
       "      <td>Connie L. Peterson</td>\n",
       "      <td>5.0</td>\n",
       "      <td>Not just for aviators</td>\n",
       "      <td>Take a safe journey to Siberia Russia through ...</td>\n",
       "      <td>take  safe journey to siberia russia through t...</td>\n",
       "    </tr>\n",
       "    <tr>\n",
       "      <th>5</th>\n",
       "      <td>B000NPEWHE</td>\n",
       "      <td>Harry Potter and the Chamber of Secrets</td>\n",
       "      <td>A23UIU4EHW8736</td>\n",
       "      <td>shadow blade</td>\n",
       "      <td>4.0</td>\n",
       "      <td>Harry Potter and The Chamber of Secrets</td>\n",
       "      <td>The book Harry Potter and The Chamber of Secre...</td>\n",
       "      <td>the book harry potter and the chamber of secre...</td>\n",
       "    </tr>\n",
       "    <tr>\n",
       "      <th>6</th>\n",
       "      <td>B0002RQ1I6</td>\n",
       "      <td>LT: Over the Edge: Tackling Quarterbacks, Drug...</td>\n",
       "      <td>A1SOMR1BQV915V</td>\n",
       "      <td>Craig A. Gorrebeeck \"The real deal\"</td>\n",
       "      <td>4.0</td>\n",
       "      <td>A reminder of Pro Sports.</td>\n",
       "      <td>I think this is a reminder of how Profesinal A...</td>\n",
       "      <td>think this is  reminder of how profesinal ath...</td>\n",
       "    </tr>\n",
       "    <tr>\n",
       "      <th>7</th>\n",
       "      <td>B000KI9JB8</td>\n",
       "      <td>The Juiceman's Power of Juicing</td>\n",
       "      <td>A2JQ3J19SJMQVW</td>\n",
       "      <td>A. E. Peterpaul \"creative lunatic\"</td>\n",
       "      <td>4.0</td>\n",
       "      <td>Great recipes, nerve-wracking font.</td>\n",
       "      <td>I purchased this book along with my Juiceman S...</td>\n",
       "      <td>purchased this book along with my juiceman su...</td>\n",
       "    </tr>\n",
       "    <tr>\n",
       "      <th>8</th>\n",
       "      <td>0435126075</td>\n",
       "      <td>Pride &amp; Prejudice (New Windmill)</td>\n",
       "      <td>AERI15WA0NCYS</td>\n",
       "      <td>Art Cornell</td>\n",
       "      <td>5.0</td>\n",
       "      <td>Perfect.</td>\n",
       "      <td>Jane Austen's Pride and Prejudice is a superb ...</td>\n",
       "      <td>jane austens pride and prejudice is  superb bo...</td>\n",
       "    </tr>\n",
       "    <tr>\n",
       "      <th>9</th>\n",
       "      <td>088280121X</td>\n",
       "      <td>Outstanding Public and Private Elementary Scho...</td>\n",
       "      <td>A257SQSIMWIK2X</td>\n",
       "      <td>Richard W Hostrop</td>\n",
       "      <td>5.0</td>\n",
       "      <td>The Educational Programs of America's Best Sch...</td>\n",
       "      <td>Included in the book are the outstanding progr...</td>\n",
       "      <td>included in the book are the outstanding progr...</td>\n",
       "    </tr>\n",
       "  </tbody>\n",
       "</table>\n",
       "</div>"
      ],
      "text/plain": [
       "           Id                                              Title  \\\n",
       "0  B000N770M6                                   My Losing Season   \n",
       "1  B000Q6XPDW                               The Poisonwood Bible   \n",
       "2  B000IG886Y  Good and Evil: Two Interpretations: I. Right a...   \n",
       "3  B000EXYZU4  The Cluetrain Manifesto: The End of Business A...   \n",
       "4  0595354785  Warbird Recovery: The Hunt for a Rare WWII Pla...   \n",
       "5  B000NPEWHE            Harry Potter and the Chamber of Secrets   \n",
       "6  B0002RQ1I6  LT: Over the Edge: Tackling Quarterbacks, Drug...   \n",
       "7  B000KI9JB8                    The Juiceman's Power of Juicing   \n",
       "8  0435126075                   Pride & Prejudice (New Windmill)   \n",
       "9  088280121X  Outstanding Public and Private Elementary Scho...   \n",
       "\n",
       "          User_id                          profileName  Score  \\\n",
       "0  A1E16W37PGZ1RW                       Joseph L Burke    5.0   \n",
       "1  A2HURQ1MYHW4A2                           A. Mattern    3.0   \n",
       "2             NaN                                  NaN    5.0   \n",
       "3             NaN                                  NaN    1.0   \n",
       "4  A21O5385Y8T627                   Connie L. Peterson    5.0   \n",
       "5  A23UIU4EHW8736                         shadow blade    4.0   \n",
       "6  A1SOMR1BQV915V  Craig A. Gorrebeeck \"The real deal\"    4.0   \n",
       "7  A2JQ3J19SJMQVW   A. E. Peterpaul \"creative lunatic\"    4.0   \n",
       "8   AERI15WA0NCYS                          Art Cornell    5.0   \n",
       "9  A257SQSIMWIK2X                    Richard W Hostrop    5.0   \n",
       "\n",
       "                                             summary  \\\n",
       "0        Superb! Conroy Get's Better With Every Book   \n",
       "1                                   poisonwood bible   \n",
       "2                  A oasis in the dryness of my time   \n",
       "3                         Ranting, repetitive, naive   \n",
       "4                              Not just for aviators   \n",
       "5            Harry Potter and The Chamber of Secrets   \n",
       "6                          A reminder of Pro Sports.   \n",
       "7                Great recipes, nerve-wracking font.   \n",
       "8                                           Perfect.   \n",
       "9  The Educational Programs of America's Best Sch...   \n",
       "\n",
       "                                              review  \\\n",
       "0  I have read all of Pat Conroy's books, even &q...   \n",
       "1  It was written very accurately as a depiction ...   \n",
       "2  There is a sense that this is one of the most ...   \n",
       "3  The only thing worse in this book than the thi...   \n",
       "4  Take a safe journey to Siberia Russia through ...   \n",
       "5  The book Harry Potter and The Chamber of Secre...   \n",
       "6  I think this is a reminder of how Profesinal A...   \n",
       "7  I purchased this book along with my Juiceman S...   \n",
       "8  Jane Austen's Pride and Prejudice is a superb ...   \n",
       "9  Included in the book are the outstanding progr...   \n",
       "\n",
       "                                       clean_reviews  \n",
       "0   have read all of pat conroys books even quott...  \n",
       "1  it was written very accurately as  depiction o...  \n",
       "2  there is  sense that this is one of the most i...  \n",
       "3  the only thing worse in this book than the thi...  \n",
       "4  take  safe journey to siberia russia through t...  \n",
       "5  the book harry potter and the chamber of secre...  \n",
       "6   think this is  reminder of how profesinal ath...  \n",
       "7   purchased this book along with my juiceman su...  \n",
       "8  jane austens pride and prejudice is  superb bo...  \n",
       "9  included in the book are the outstanding progr...  "
      ]
     },
     "execution_count": 26,
     "metadata": {},
     "output_type": "execute_result"
    }
   ],
   "source": [
    "df.head(10)"
   ]
  },
  {
   "cell_type": "code",
   "execution_count": 27,
   "id": "becaa37d",
   "metadata": {
    "execution": {
     "iopub.execute_input": "2024-04-06T14:16:26.817761Z",
     "iopub.status.busy": "2024-04-06T14:16:26.817396Z",
     "iopub.status.idle": "2024-04-06T14:16:27.803650Z",
     "shell.execute_reply": "2024-04-06T14:16:27.802548Z"
    },
    "papermill": {
     "duration": 0.999474,
     "end_time": "2024-04-06T14:16:27.806589",
     "exception": false,
     "start_time": "2024-04-06T14:16:26.807115",
     "status": "completed"
    },
    "tags": []
   },
   "outputs": [],
   "source": [
    "df.to_csv(\"AmazonReviewbooksclean.csv\")"
   ]
  }
 ],
 "metadata": {
  "kaggle": {
   "accelerator": "none",
   "dataSources": [
    {
     "datasetId": 2476732,
     "sourceId": 4200454,
     "sourceType": "datasetVersion"
    }
   ],
   "dockerImageVersionId": 30673,
   "isGpuEnabled": false,
   "isInternetEnabled": false,
   "language": "python",
   "sourceType": "notebook"
  },
  "kernelspec": {
   "display_name": "Python 3",
   "language": "python",
   "name": "python3"
  },
  "language_info": {
   "codemirror_mode": {
    "name": "ipython",
    "version": 3
   },
   "file_extension": ".py",
   "mimetype": "text/x-python",
   "name": "python",
   "nbconvert_exporter": "python",
   "pygments_lexer": "ipython3",
   "version": "3.10.13"
  },
  "papermill": {
   "default_parameters": {},
   "duration": 72.949813,
   "end_time": "2024-04-06T14:16:29.242637",
   "environment_variables": {},
   "exception": null,
   "input_path": "__notebook__.ipynb",
   "output_path": "__notebook__.ipynb",
   "parameters": {},
   "start_time": "2024-04-06T14:15:16.292824",
   "version": "2.5.0"
  }
 },
 "nbformat": 4,
 "nbformat_minor": 5
}
