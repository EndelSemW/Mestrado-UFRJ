{
 "cells": [
  {
   "cell_type": "code",
   "execution_count": 1,
   "id": "3f8f5bcd",
   "metadata": {
    "execution": {
     "iopub.execute_input": "2024-04-06T13:31:50.704861Z",
     "iopub.status.busy": "2024-04-06T13:31:50.704408Z",
     "iopub.status.idle": "2024-04-06T13:31:51.735294Z",
     "shell.execute_reply": "2024-04-06T13:31:51.734027Z"
    },
    "papermill": {
     "duration": 1.042857,
     "end_time": "2024-04-06T13:31:51.738204",
     "exception": false,
     "start_time": "2024-04-06T13:31:50.695347",
     "status": "completed"
    },
    "tags": []
   },
   "outputs": [],
   "source": [
    "import pandas as pd\n",
    "import numpy as np"
   ]
  },
  {
   "cell_type": "code",
   "execution_count": 2,
   "id": "0e65dcf5",
   "metadata": {
    "execution": {
     "iopub.execute_input": "2024-04-06T13:31:51.754324Z",
     "iopub.status.busy": "2024-04-06T13:31:51.753406Z",
     "iopub.status.idle": "2024-04-06T13:32:58.028420Z",
     "shell.execute_reply": "2024-04-06T13:32:58.027185Z"
    },
    "papermill": {
     "duration": 66.286199,
     "end_time": "2024-04-06T13:32:58.031361",
     "exception": false,
     "start_time": "2024-04-06T13:31:51.745162",
     "status": "completed"
    },
    "tags": []
   },
   "outputs": [],
   "source": [
    "df = pd.read_csv('/kaggle/input/amazon-books-reviews/Books_rating.csv')"
   ]
  },
  {
   "cell_type": "code",
   "execution_count": 3,
   "id": "4f01b77c",
   "metadata": {
    "execution": {
     "iopub.execute_input": "2024-04-06T13:32:58.047185Z",
     "iopub.status.busy": "2024-04-06T13:32:58.046234Z",
     "iopub.status.idle": "2024-04-06T13:32:58.056282Z",
     "shell.execute_reply": "2024-04-06T13:32:58.054804Z"
    },
    "papermill": {
     "duration": 0.020772,
     "end_time": "2024-04-06T13:32:58.058916",
     "exception": false,
     "start_time": "2024-04-06T13:32:58.038144",
     "status": "completed"
    },
    "tags": []
   },
   "outputs": [
    {
     "data": {
      "text/plain": [
       "(3000000, 10)"
      ]
     },
     "execution_count": 3,
     "metadata": {},
     "output_type": "execute_result"
    }
   ],
   "source": [
    "df.shape"
   ]
  },
  {
   "cell_type": "code",
   "execution_count": 4,
   "id": "145c8750",
   "metadata": {
    "execution": {
     "iopub.execute_input": "2024-04-06T13:32:58.074946Z",
     "iopub.status.busy": "2024-04-06T13:32:58.074439Z",
     "iopub.status.idle": "2024-04-06T13:32:58.103474Z",
     "shell.execute_reply": "2024-04-06T13:32:58.102495Z"
    },
    "papermill": {
     "duration": 0.039881,
     "end_time": "2024-04-06T13:32:58.105688",
     "exception": false,
     "start_time": "2024-04-06T13:32:58.065807",
     "status": "completed"
    },
    "tags": []
   },
   "outputs": [
    {
     "data": {
      "text/html": [
       "<div>\n",
       "<style scoped>\n",
       "    .dataframe tbody tr th:only-of-type {\n",
       "        vertical-align: middle;\n",
       "    }\n",
       "\n",
       "    .dataframe tbody tr th {\n",
       "        vertical-align: top;\n",
       "    }\n",
       "\n",
       "    .dataframe thead th {\n",
       "        text-align: right;\n",
       "    }\n",
       "</style>\n",
       "<table border=\"1\" class=\"dataframe\">\n",
       "  <thead>\n",
       "    <tr style=\"text-align: right;\">\n",
       "      <th></th>\n",
       "      <th>Id</th>\n",
       "      <th>Title</th>\n",
       "      <th>Price</th>\n",
       "      <th>User_id</th>\n",
       "      <th>profileName</th>\n",
       "      <th>review/helpfulness</th>\n",
       "      <th>review/score</th>\n",
       "      <th>review/time</th>\n",
       "      <th>review/summary</th>\n",
       "      <th>review/text</th>\n",
       "    </tr>\n",
       "  </thead>\n",
       "  <tbody>\n",
       "    <tr>\n",
       "      <th>0</th>\n",
       "      <td>1882931173</td>\n",
       "      <td>Its Only Art If Its Well Hung!</td>\n",
       "      <td>NaN</td>\n",
       "      <td>AVCGYZL8FQQTD</td>\n",
       "      <td>Jim of Oz \"jim-of-oz\"</td>\n",
       "      <td>7/7</td>\n",
       "      <td>4.0</td>\n",
       "      <td>940636800</td>\n",
       "      <td>Nice collection of Julie Strain images</td>\n",
       "      <td>This is only for Julie Strain fans. It's a col...</td>\n",
       "    </tr>\n",
       "    <tr>\n",
       "      <th>1</th>\n",
       "      <td>0826414346</td>\n",
       "      <td>Dr. Seuss: American Icon</td>\n",
       "      <td>NaN</td>\n",
       "      <td>A30TK6U7DNS82R</td>\n",
       "      <td>Kevin Killian</td>\n",
       "      <td>10/10</td>\n",
       "      <td>5.0</td>\n",
       "      <td>1095724800</td>\n",
       "      <td>Really Enjoyed It</td>\n",
       "      <td>I don't care much for Dr. Seuss but after read...</td>\n",
       "    </tr>\n",
       "    <tr>\n",
       "      <th>2</th>\n",
       "      <td>0826414346</td>\n",
       "      <td>Dr. Seuss: American Icon</td>\n",
       "      <td>NaN</td>\n",
       "      <td>A3UH4UZ4RSVO82</td>\n",
       "      <td>John Granger</td>\n",
       "      <td>10/11</td>\n",
       "      <td>5.0</td>\n",
       "      <td>1078790400</td>\n",
       "      <td>Essential for every personal and Public Library</td>\n",
       "      <td>If people become the books they read and if \"t...</td>\n",
       "    </tr>\n",
       "    <tr>\n",
       "      <th>3</th>\n",
       "      <td>0826414346</td>\n",
       "      <td>Dr. Seuss: American Icon</td>\n",
       "      <td>NaN</td>\n",
       "      <td>A2MVUWT453QH61</td>\n",
       "      <td>Roy E. Perry \"amateur philosopher\"</td>\n",
       "      <td>7/7</td>\n",
       "      <td>4.0</td>\n",
       "      <td>1090713600</td>\n",
       "      <td>Phlip Nel gives silly Seuss a serious treatment</td>\n",
       "      <td>Theodore Seuss Geisel (1904-1991), aka &amp;quot;D...</td>\n",
       "    </tr>\n",
       "    <tr>\n",
       "      <th>4</th>\n",
       "      <td>0826414346</td>\n",
       "      <td>Dr. Seuss: American Icon</td>\n",
       "      <td>NaN</td>\n",
       "      <td>A22X4XUPKF66MR</td>\n",
       "      <td>D. H. Richards \"ninthwavestore\"</td>\n",
       "      <td>3/3</td>\n",
       "      <td>4.0</td>\n",
       "      <td>1107993600</td>\n",
       "      <td>Good academic overview</td>\n",
       "      <td>Philip Nel - Dr. Seuss: American IconThis is b...</td>\n",
       "    </tr>\n",
       "    <tr>\n",
       "      <th>5</th>\n",
       "      <td>0826414346</td>\n",
       "      <td>Dr. Seuss: American Icon</td>\n",
       "      <td>NaN</td>\n",
       "      <td>A2F6NONFUDB6UK</td>\n",
       "      <td>Malvin</td>\n",
       "      <td>2/2</td>\n",
       "      <td>4.0</td>\n",
       "      <td>1127174400</td>\n",
       "      <td>One of America's greatest creative talents</td>\n",
       "      <td>\"Dr. Seuss: American Icon\" by Philip Nel is a ...</td>\n",
       "    </tr>\n",
       "    <tr>\n",
       "      <th>6</th>\n",
       "      <td>0826414346</td>\n",
       "      <td>Dr. Seuss: American Icon</td>\n",
       "      <td>NaN</td>\n",
       "      <td>A14OJS0VWMOSWO</td>\n",
       "      <td>Midwest Book Review</td>\n",
       "      <td>3/4</td>\n",
       "      <td>5.0</td>\n",
       "      <td>1100131200</td>\n",
       "      <td>A memorably excellent survey of Dr. Seuss' man...</td>\n",
       "      <td>Theodor Seuss Giesel was best known as 'Dr. Se...</td>\n",
       "    </tr>\n",
       "    <tr>\n",
       "      <th>7</th>\n",
       "      <td>0826414346</td>\n",
       "      <td>Dr. Seuss: American Icon</td>\n",
       "      <td>NaN</td>\n",
       "      <td>A2RSSXTDZDUSH4</td>\n",
       "      <td>J. Squire</td>\n",
       "      <td>0/0</td>\n",
       "      <td>5.0</td>\n",
       "      <td>1231200000</td>\n",
       "      <td>Academia At It's Best</td>\n",
       "      <td>When I recieved this book as a gift for Christ...</td>\n",
       "    </tr>\n",
       "    <tr>\n",
       "      <th>8</th>\n",
       "      <td>0826414346</td>\n",
       "      <td>Dr. Seuss: American Icon</td>\n",
       "      <td>NaN</td>\n",
       "      <td>A25MD5I2GUIW6W</td>\n",
       "      <td>J. P. HIGBED \"big fellow\"</td>\n",
       "      <td>0/0</td>\n",
       "      <td>5.0</td>\n",
       "      <td>1209859200</td>\n",
       "      <td>And to think that I read it on the tram!</td>\n",
       "      <td>Trams (or any public transport) are not usuall...</td>\n",
       "    </tr>\n",
       "    <tr>\n",
       "      <th>9</th>\n",
       "      <td>0826414346</td>\n",
       "      <td>Dr. Seuss: American Icon</td>\n",
       "      <td>NaN</td>\n",
       "      <td>A3VA4XFS5WNJO3</td>\n",
       "      <td>Donald Burnside</td>\n",
       "      <td>3/5</td>\n",
       "      <td>4.0</td>\n",
       "      <td>1076371200</td>\n",
       "      <td>Fascinating account of a genius at work</td>\n",
       "      <td>As far as I am aware, this is the first book-l...</td>\n",
       "    </tr>\n",
       "  </tbody>\n",
       "</table>\n",
       "</div>"
      ],
      "text/plain": [
       "           Id                           Title  Price         User_id  \\\n",
       "0  1882931173  Its Only Art If Its Well Hung!    NaN   AVCGYZL8FQQTD   \n",
       "1  0826414346        Dr. Seuss: American Icon    NaN  A30TK6U7DNS82R   \n",
       "2  0826414346        Dr. Seuss: American Icon    NaN  A3UH4UZ4RSVO82   \n",
       "3  0826414346        Dr. Seuss: American Icon    NaN  A2MVUWT453QH61   \n",
       "4  0826414346        Dr. Seuss: American Icon    NaN  A22X4XUPKF66MR   \n",
       "5  0826414346        Dr. Seuss: American Icon    NaN  A2F6NONFUDB6UK   \n",
       "6  0826414346        Dr. Seuss: American Icon    NaN  A14OJS0VWMOSWO   \n",
       "7  0826414346        Dr. Seuss: American Icon    NaN  A2RSSXTDZDUSH4   \n",
       "8  0826414346        Dr. Seuss: American Icon    NaN  A25MD5I2GUIW6W   \n",
       "9  0826414346        Dr. Seuss: American Icon    NaN  A3VA4XFS5WNJO3   \n",
       "\n",
       "                          profileName review/helpfulness  review/score  \\\n",
       "0               Jim of Oz \"jim-of-oz\"                7/7           4.0   \n",
       "1                       Kevin Killian              10/10           5.0   \n",
       "2                        John Granger              10/11           5.0   \n",
       "3  Roy E. Perry \"amateur philosopher\"                7/7           4.0   \n",
       "4     D. H. Richards \"ninthwavestore\"                3/3           4.0   \n",
       "5                              Malvin                2/2           4.0   \n",
       "6                 Midwest Book Review                3/4           5.0   \n",
       "7                           J. Squire                0/0           5.0   \n",
       "8           J. P. HIGBED \"big fellow\"                0/0           5.0   \n",
       "9                     Donald Burnside                3/5           4.0   \n",
       "\n",
       "   review/time                                     review/summary  \\\n",
       "0    940636800             Nice collection of Julie Strain images   \n",
       "1   1095724800                                  Really Enjoyed It   \n",
       "2   1078790400    Essential for every personal and Public Library   \n",
       "3   1090713600    Phlip Nel gives silly Seuss a serious treatment   \n",
       "4   1107993600                             Good academic overview   \n",
       "5   1127174400         One of America's greatest creative talents   \n",
       "6   1100131200  A memorably excellent survey of Dr. Seuss' man...   \n",
       "7   1231200000                              Academia At It's Best   \n",
       "8   1209859200           And to think that I read it on the tram!   \n",
       "9   1076371200            Fascinating account of a genius at work   \n",
       "\n",
       "                                         review/text  \n",
       "0  This is only for Julie Strain fans. It's a col...  \n",
       "1  I don't care much for Dr. Seuss but after read...  \n",
       "2  If people become the books they read and if \"t...  \n",
       "3  Theodore Seuss Geisel (1904-1991), aka &quot;D...  \n",
       "4  Philip Nel - Dr. Seuss: American IconThis is b...  \n",
       "5  \"Dr. Seuss: American Icon\" by Philip Nel is a ...  \n",
       "6  Theodor Seuss Giesel was best known as 'Dr. Se...  \n",
       "7  When I recieved this book as a gift for Christ...  \n",
       "8  Trams (or any public transport) are not usuall...  \n",
       "9  As far as I am aware, this is the first book-l...  "
      ]
     },
     "execution_count": 4,
     "metadata": {},
     "output_type": "execute_result"
    }
   ],
   "source": [
    "df.head(10)"
   ]
  },
  {
   "cell_type": "code",
   "execution_count": 5,
   "id": "98ad1c1f",
   "metadata": {
    "collapsed": true,
    "execution": {
     "iopub.execute_input": "2024-04-06T13:32:58.123233Z",
     "iopub.status.busy": "2024-04-06T13:32:58.121682Z",
     "iopub.status.idle": "2024-04-06T13:32:58.131584Z",
     "shell.execute_reply": "2024-04-06T13:32:58.130316Z"
    },
    "jupyter": {
     "outputs_hidden": true
    },
    "papermill": {
     "duration": 0.021162,
     "end_time": "2024-04-06T13:32:58.134167",
     "exception": false,
     "start_time": "2024-04-06T13:32:58.113005",
     "status": "completed"
    },
    "tags": []
   },
   "outputs": [
    {
     "data": {
      "text/plain": [
       "Id                     object\n",
       "Title                  object\n",
       "Price                 float64\n",
       "User_id                object\n",
       "profileName            object\n",
       "review/helpfulness     object\n",
       "review/score          float64\n",
       "review/time             int64\n",
       "review/summary         object\n",
       "review/text            object\n",
       "dtype: object"
      ]
     },
     "execution_count": 5,
     "metadata": {},
     "output_type": "execute_result"
    }
   ],
   "source": [
    "df.dtypes"
   ]
  },
  {
   "cell_type": "code",
   "execution_count": 6,
   "id": "b6b28d83",
   "metadata": {
    "execution": {
     "iopub.execute_input": "2024-04-06T13:32:58.150612Z",
     "iopub.status.busy": "2024-04-06T13:32:58.150143Z",
     "iopub.status.idle": "2024-04-06T13:32:58.158278Z",
     "shell.execute_reply": "2024-04-06T13:32:58.156890Z"
    },
    "papermill": {
     "duration": 0.019102,
     "end_time": "2024-04-06T13:32:58.160467",
     "exception": false,
     "start_time": "2024-04-06T13:32:58.141365",
     "status": "completed"
    },
    "tags": []
   },
   "outputs": [
    {
     "data": {
      "text/plain": [
       "Index(['Id', 'Title', 'Price', 'User_id', 'profileName', 'review/helpfulness',\n",
       "       'review/score', 'review/time', 'review/summary', 'review/text'],\n",
       "      dtype='object')"
      ]
     },
     "execution_count": 6,
     "metadata": {},
     "output_type": "execute_result"
    }
   ],
   "source": [
    "df.columns"
   ]
  },
  {
   "cell_type": "markdown",
   "id": "dde6bfdd",
   "metadata": {
    "papermill": {
     "duration": 0.00665,
     "end_time": "2024-04-06T13:32:58.174381",
     "exception": false,
     "start_time": "2024-04-06T13:32:58.167731",
     "status": "completed"
    },
    "tags": []
   },
   "source": [
    "**Pré processamento**\n",
    "* Dropar colunas desnecessárias\n",
    "* Renomear colunas\n",
    "* Reduzir o dataset"
   ]
  },
  {
   "cell_type": "code",
   "execution_count": 7,
   "id": "372e52a2",
   "metadata": {
    "execution": {
     "iopub.execute_input": "2024-04-06T13:32:58.192449Z",
     "iopub.status.busy": "2024-04-06T13:32:58.191274Z",
     "iopub.status.idle": "2024-04-06T13:32:58.521952Z",
     "shell.execute_reply": "2024-04-06T13:32:58.520835Z"
    },
    "papermill": {
     "duration": 0.342337,
     "end_time": "2024-04-06T13:32:58.524891",
     "exception": false,
     "start_time": "2024-04-06T13:32:58.182554",
     "status": "completed"
    },
    "tags": []
   },
   "outputs": [],
   "source": [
    "df.drop(['Price', 'review/helpfulness','review/time'], axis=1, inplace= True)"
   ]
  },
  {
   "cell_type": "code",
   "execution_count": 8,
   "id": "3d7d2d69",
   "metadata": {
    "execution": {
     "iopub.execute_input": "2024-04-06T13:32:58.542371Z",
     "iopub.status.busy": "2024-04-06T13:32:58.541632Z",
     "iopub.status.idle": "2024-04-06T13:32:58.556044Z",
     "shell.execute_reply": "2024-04-06T13:32:58.554800Z"
    },
    "papermill": {
     "duration": 0.026874,
     "end_time": "2024-04-06T13:32:58.559346",
     "exception": false,
     "start_time": "2024-04-06T13:32:58.532472",
     "status": "completed"
    },
    "tags": []
   },
   "outputs": [
    {
     "data": {
      "text/html": [
       "<div>\n",
       "<style scoped>\n",
       "    .dataframe tbody tr th:only-of-type {\n",
       "        vertical-align: middle;\n",
       "    }\n",
       "\n",
       "    .dataframe tbody tr th {\n",
       "        vertical-align: top;\n",
       "    }\n",
       "\n",
       "    .dataframe thead th {\n",
       "        text-align: right;\n",
       "    }\n",
       "</style>\n",
       "<table border=\"1\" class=\"dataframe\">\n",
       "  <thead>\n",
       "    <tr style=\"text-align: right;\">\n",
       "      <th></th>\n",
       "      <th>Id</th>\n",
       "      <th>Title</th>\n",
       "      <th>User_id</th>\n",
       "      <th>profileName</th>\n",
       "      <th>review/score</th>\n",
       "      <th>review/summary</th>\n",
       "      <th>review/text</th>\n",
       "    </tr>\n",
       "  </thead>\n",
       "  <tbody>\n",
       "    <tr>\n",
       "      <th>0</th>\n",
       "      <td>1882931173</td>\n",
       "      <td>Its Only Art If Its Well Hung!</td>\n",
       "      <td>AVCGYZL8FQQTD</td>\n",
       "      <td>Jim of Oz \"jim-of-oz\"</td>\n",
       "      <td>4.0</td>\n",
       "      <td>Nice collection of Julie Strain images</td>\n",
       "      <td>This is only for Julie Strain fans. It's a col...</td>\n",
       "    </tr>\n",
       "    <tr>\n",
       "      <th>1</th>\n",
       "      <td>0826414346</td>\n",
       "      <td>Dr. Seuss: American Icon</td>\n",
       "      <td>A30TK6U7DNS82R</td>\n",
       "      <td>Kevin Killian</td>\n",
       "      <td>5.0</td>\n",
       "      <td>Really Enjoyed It</td>\n",
       "      <td>I don't care much for Dr. Seuss but after read...</td>\n",
       "    </tr>\n",
       "    <tr>\n",
       "      <th>2</th>\n",
       "      <td>0826414346</td>\n",
       "      <td>Dr. Seuss: American Icon</td>\n",
       "      <td>A3UH4UZ4RSVO82</td>\n",
       "      <td>John Granger</td>\n",
       "      <td>5.0</td>\n",
       "      <td>Essential for every personal and Public Library</td>\n",
       "      <td>If people become the books they read and if \"t...</td>\n",
       "    </tr>\n",
       "    <tr>\n",
       "      <th>3</th>\n",
       "      <td>0826414346</td>\n",
       "      <td>Dr. Seuss: American Icon</td>\n",
       "      <td>A2MVUWT453QH61</td>\n",
       "      <td>Roy E. Perry \"amateur philosopher\"</td>\n",
       "      <td>4.0</td>\n",
       "      <td>Phlip Nel gives silly Seuss a serious treatment</td>\n",
       "      <td>Theodore Seuss Geisel (1904-1991), aka &amp;quot;D...</td>\n",
       "    </tr>\n",
       "    <tr>\n",
       "      <th>4</th>\n",
       "      <td>0826414346</td>\n",
       "      <td>Dr. Seuss: American Icon</td>\n",
       "      <td>A22X4XUPKF66MR</td>\n",
       "      <td>D. H. Richards \"ninthwavestore\"</td>\n",
       "      <td>4.0</td>\n",
       "      <td>Good academic overview</td>\n",
       "      <td>Philip Nel - Dr. Seuss: American IconThis is b...</td>\n",
       "    </tr>\n",
       "  </tbody>\n",
       "</table>\n",
       "</div>"
      ],
      "text/plain": [
       "           Id                           Title         User_id  \\\n",
       "0  1882931173  Its Only Art If Its Well Hung!   AVCGYZL8FQQTD   \n",
       "1  0826414346        Dr. Seuss: American Icon  A30TK6U7DNS82R   \n",
       "2  0826414346        Dr. Seuss: American Icon  A3UH4UZ4RSVO82   \n",
       "3  0826414346        Dr. Seuss: American Icon  A2MVUWT453QH61   \n",
       "4  0826414346        Dr. Seuss: American Icon  A22X4XUPKF66MR   \n",
       "\n",
       "                          profileName  review/score  \\\n",
       "0               Jim of Oz \"jim-of-oz\"           4.0   \n",
       "1                       Kevin Killian           5.0   \n",
       "2                        John Granger           5.0   \n",
       "3  Roy E. Perry \"amateur philosopher\"           4.0   \n",
       "4     D. H. Richards \"ninthwavestore\"           4.0   \n",
       "\n",
       "                                    review/summary  \\\n",
       "0           Nice collection of Julie Strain images   \n",
       "1                                Really Enjoyed It   \n",
       "2  Essential for every personal and Public Library   \n",
       "3  Phlip Nel gives silly Seuss a serious treatment   \n",
       "4                           Good academic overview   \n",
       "\n",
       "                                         review/text  \n",
       "0  This is only for Julie Strain fans. It's a col...  \n",
       "1  I don't care much for Dr. Seuss but after read...  \n",
       "2  If people become the books they read and if \"t...  \n",
       "3  Theodore Seuss Geisel (1904-1991), aka &quot;D...  \n",
       "4  Philip Nel - Dr. Seuss: American IconThis is b...  "
      ]
     },
     "execution_count": 8,
     "metadata": {},
     "output_type": "execute_result"
    }
   ],
   "source": [
    "df.head()"
   ]
  },
  {
   "cell_type": "code",
   "execution_count": 9,
   "id": "dc1a6279",
   "metadata": {
    "execution": {
     "iopub.execute_input": "2024-04-06T13:32:58.578060Z",
     "iopub.status.busy": "2024-04-06T13:32:58.576531Z",
     "iopub.status.idle": "2024-04-06T13:32:58.584480Z",
     "shell.execute_reply": "2024-04-06T13:32:58.583279Z"
    },
    "papermill": {
     "duration": 0.019929,
     "end_time": "2024-04-06T13:32:58.586948",
     "exception": false,
     "start_time": "2024-04-06T13:32:58.567019",
     "status": "completed"
    },
    "tags": []
   },
   "outputs": [
    {
     "data": {
      "text/plain": [
       "(3000000, 7)"
      ]
     },
     "execution_count": 9,
     "metadata": {},
     "output_type": "execute_result"
    }
   ],
   "source": [
    "df.shape"
   ]
  },
  {
   "cell_type": "code",
   "execution_count": 10,
   "id": "c360836d",
   "metadata": {
    "execution": {
     "iopub.execute_input": "2024-04-06T13:32:58.604999Z",
     "iopub.status.busy": "2024-04-06T13:32:58.604215Z",
     "iopub.status.idle": "2024-04-06T13:32:58.864206Z",
     "shell.execute_reply": "2024-04-06T13:32:58.863278Z"
    },
    "papermill": {
     "duration": 0.271651,
     "end_time": "2024-04-06T13:32:58.866626",
     "exception": false,
     "start_time": "2024-04-06T13:32:58.594975",
     "status": "completed"
    },
    "tags": []
   },
   "outputs": [],
   "source": [
    "df = df.rename(columns={'review/score':'Score',\n",
    "                        'review/summary': 'summary',\n",
    "                        'review/text' : 'review'\n",
    "    \n",
    "})"
   ]
  },
  {
   "cell_type": "code",
   "execution_count": 11,
   "id": "cd7a760c",
   "metadata": {
    "execution": {
     "iopub.execute_input": "2024-04-06T13:32:58.883512Z",
     "iopub.status.busy": "2024-04-06T13:32:58.882906Z",
     "iopub.status.idle": "2024-04-06T13:32:58.896424Z",
     "shell.execute_reply": "2024-04-06T13:32:58.895326Z"
    },
    "papermill": {
     "duration": 0.024761,
     "end_time": "2024-04-06T13:32:58.898765",
     "exception": false,
     "start_time": "2024-04-06T13:32:58.874004",
     "status": "completed"
    },
    "tags": []
   },
   "outputs": [
    {
     "data": {
      "text/html": [
       "<div>\n",
       "<style scoped>\n",
       "    .dataframe tbody tr th:only-of-type {\n",
       "        vertical-align: middle;\n",
       "    }\n",
       "\n",
       "    .dataframe tbody tr th {\n",
       "        vertical-align: top;\n",
       "    }\n",
       "\n",
       "    .dataframe thead th {\n",
       "        text-align: right;\n",
       "    }\n",
       "</style>\n",
       "<table border=\"1\" class=\"dataframe\">\n",
       "  <thead>\n",
       "    <tr style=\"text-align: right;\">\n",
       "      <th></th>\n",
       "      <th>Id</th>\n",
       "      <th>Title</th>\n",
       "      <th>User_id</th>\n",
       "      <th>profileName</th>\n",
       "      <th>Score</th>\n",
       "      <th>summary</th>\n",
       "      <th>review</th>\n",
       "    </tr>\n",
       "  </thead>\n",
       "  <tbody>\n",
       "    <tr>\n",
       "      <th>0</th>\n",
       "      <td>1882931173</td>\n",
       "      <td>Its Only Art If Its Well Hung!</td>\n",
       "      <td>AVCGYZL8FQQTD</td>\n",
       "      <td>Jim of Oz \"jim-of-oz\"</td>\n",
       "      <td>4.0</td>\n",
       "      <td>Nice collection of Julie Strain images</td>\n",
       "      <td>This is only for Julie Strain fans. It's a col...</td>\n",
       "    </tr>\n",
       "    <tr>\n",
       "      <th>1</th>\n",
       "      <td>0826414346</td>\n",
       "      <td>Dr. Seuss: American Icon</td>\n",
       "      <td>A30TK6U7DNS82R</td>\n",
       "      <td>Kevin Killian</td>\n",
       "      <td>5.0</td>\n",
       "      <td>Really Enjoyed It</td>\n",
       "      <td>I don't care much for Dr. Seuss but after read...</td>\n",
       "    </tr>\n",
       "    <tr>\n",
       "      <th>2</th>\n",
       "      <td>0826414346</td>\n",
       "      <td>Dr. Seuss: American Icon</td>\n",
       "      <td>A3UH4UZ4RSVO82</td>\n",
       "      <td>John Granger</td>\n",
       "      <td>5.0</td>\n",
       "      <td>Essential for every personal and Public Library</td>\n",
       "      <td>If people become the books they read and if \"t...</td>\n",
       "    </tr>\n",
       "    <tr>\n",
       "      <th>3</th>\n",
       "      <td>0826414346</td>\n",
       "      <td>Dr. Seuss: American Icon</td>\n",
       "      <td>A2MVUWT453QH61</td>\n",
       "      <td>Roy E. Perry \"amateur philosopher\"</td>\n",
       "      <td>4.0</td>\n",
       "      <td>Phlip Nel gives silly Seuss a serious treatment</td>\n",
       "      <td>Theodore Seuss Geisel (1904-1991), aka &amp;quot;D...</td>\n",
       "    </tr>\n",
       "    <tr>\n",
       "      <th>4</th>\n",
       "      <td>0826414346</td>\n",
       "      <td>Dr. Seuss: American Icon</td>\n",
       "      <td>A22X4XUPKF66MR</td>\n",
       "      <td>D. H. Richards \"ninthwavestore\"</td>\n",
       "      <td>4.0</td>\n",
       "      <td>Good academic overview</td>\n",
       "      <td>Philip Nel - Dr. Seuss: American IconThis is b...</td>\n",
       "    </tr>\n",
       "  </tbody>\n",
       "</table>\n",
       "</div>"
      ],
      "text/plain": [
       "           Id                           Title         User_id  \\\n",
       "0  1882931173  Its Only Art If Its Well Hung!   AVCGYZL8FQQTD   \n",
       "1  0826414346        Dr. Seuss: American Icon  A30TK6U7DNS82R   \n",
       "2  0826414346        Dr. Seuss: American Icon  A3UH4UZ4RSVO82   \n",
       "3  0826414346        Dr. Seuss: American Icon  A2MVUWT453QH61   \n",
       "4  0826414346        Dr. Seuss: American Icon  A22X4XUPKF66MR   \n",
       "\n",
       "                          profileName  Score  \\\n",
       "0               Jim of Oz \"jim-of-oz\"    4.0   \n",
       "1                       Kevin Killian    5.0   \n",
       "2                        John Granger    5.0   \n",
       "3  Roy E. Perry \"amateur philosopher\"    4.0   \n",
       "4     D. H. Richards \"ninthwavestore\"    4.0   \n",
       "\n",
       "                                           summary  \\\n",
       "0           Nice collection of Julie Strain images   \n",
       "1                                Really Enjoyed It   \n",
       "2  Essential for every personal and Public Library   \n",
       "3  Phlip Nel gives silly Seuss a serious treatment   \n",
       "4                           Good academic overview   \n",
       "\n",
       "                                              review  \n",
       "0  This is only for Julie Strain fans. It's a col...  \n",
       "1  I don't care much for Dr. Seuss but after read...  \n",
       "2  If people become the books they read and if \"t...  \n",
       "3  Theodore Seuss Geisel (1904-1991), aka &quot;D...  \n",
       "4  Philip Nel - Dr. Seuss: American IconThis is b...  "
      ]
     },
     "execution_count": 11,
     "metadata": {},
     "output_type": "execute_result"
    }
   ],
   "source": [
    "df.head(5)"
   ]
  },
  {
   "cell_type": "code",
   "execution_count": 12,
   "id": "ffcae871",
   "metadata": {
    "execution": {
     "iopub.execute_input": "2024-04-06T13:32:58.915847Z",
     "iopub.status.busy": "2024-04-06T13:32:58.915454Z",
     "iopub.status.idle": "2024-04-06T13:32:58.937254Z",
     "shell.execute_reply": "2024-04-06T13:32:58.936261Z"
    },
    "papermill": {
     "duration": 0.033077,
     "end_time": "2024-04-06T13:32:58.939358",
     "exception": false,
     "start_time": "2024-04-06T13:32:58.906281",
     "status": "completed"
    },
    "tags": []
   },
   "outputs": [
    {
     "data": {
      "text/plain": [
       "0          4\n",
       "1          5\n",
       "2          5\n",
       "3          4\n",
       "4          4\n",
       "          ..\n",
       "2999995    4\n",
       "2999996    4\n",
       "2999997    4\n",
       "2999998    5\n",
       "2999999    1\n",
       "Name: Score, Length: 3000000, dtype: int64"
      ]
     },
     "execution_count": 12,
     "metadata": {},
     "output_type": "execute_result"
    }
   ],
   "source": [
    "pd.to_numeric(df['Score'].astype(int))"
   ]
  },
  {
   "cell_type": "code",
   "execution_count": 13,
   "id": "54aaa00d",
   "metadata": {
    "execution": {
     "iopub.execute_input": "2024-04-06T13:32:58.957787Z",
     "iopub.status.busy": "2024-04-06T13:32:58.956237Z",
     "iopub.status.idle": "2024-04-06T13:32:58.961614Z",
     "shell.execute_reply": "2024-04-06T13:32:58.960663Z"
    },
    "papermill": {
     "duration": 0.016766,
     "end_time": "2024-04-06T13:32:58.963815",
     "exception": false,
     "start_time": "2024-04-06T13:32:58.947049",
     "status": "completed"
    },
    "tags": []
   },
   "outputs": [],
   "source": [
    "n_amostral = 20000"
   ]
  },
  {
   "cell_type": "code",
   "execution_count": 14,
   "id": "0e17769c",
   "metadata": {
    "execution": {
     "iopub.execute_input": "2024-04-06T13:32:58.982037Z",
     "iopub.status.busy": "2024-04-06T13:32:58.981335Z",
     "iopub.status.idle": "2024-04-06T13:32:59.046732Z",
     "shell.execute_reply": "2024-04-06T13:32:59.045294Z"
    },
    "papermill": {
     "duration": 0.077735,
     "end_time": "2024-04-06T13:32:59.049387",
     "exception": false,
     "start_time": "2024-04-06T13:32:58.971652",
     "status": "completed"
    },
    "tags": []
   },
   "outputs": [
    {
     "name": "stdout",
     "output_type": "stream",
     "text": [
      "Score\n",
      "5.0    1807343\n",
      "4.0     585616\n",
      "3.0     254295\n",
      "1.0     201688\n",
      "2.0     151058\n",
      "Name: count, dtype: int64\n"
     ]
    }
   ],
   "source": [
    "contagem_das_notas = df['Score'].value_counts()\n",
    "print(contagem_das_notas)"
   ]
  },
  {
   "cell_type": "code",
   "execution_count": 15,
   "id": "7ce5bc0b",
   "metadata": {
    "execution": {
     "iopub.execute_input": "2024-04-06T13:32:59.067285Z",
     "iopub.status.busy": "2024-04-06T13:32:59.066910Z",
     "iopub.status.idle": "2024-04-06T13:32:59.072009Z",
     "shell.execute_reply": "2024-04-06T13:32:59.071069Z"
    },
    "papermill": {
     "duration": 0.016657,
     "end_time": "2024-04-06T13:32:59.074064",
     "exception": false,
     "start_time": "2024-04-06T13:32:59.057407",
     "status": "completed"
    },
    "tags": []
   },
   "outputs": [],
   "source": [
    "contagem = {\n",
    "    5.0: 1807343,\n",
    "    4.0: 585616,\n",
    "    3.0: 254295,\n",
    "    1.0: 201688,\n",
    "    2.0: 151058,\n",
    "}"
   ]
  },
  {
   "cell_type": "code",
   "execution_count": 16,
   "id": "9812667d",
   "metadata": {
    "execution": {
     "iopub.execute_input": "2024-04-06T13:32:59.092039Z",
     "iopub.status.busy": "2024-04-06T13:32:59.091555Z",
     "iopub.status.idle": "2024-04-06T13:32:59.097377Z",
     "shell.execute_reply": "2024-04-06T13:32:59.096173Z"
    },
    "papermill": {
     "duration": 0.017888,
     "end_time": "2024-04-06T13:32:59.099777",
     "exception": false,
     "start_time": "2024-04-06T13:32:59.081889",
     "status": "completed"
    },
    "tags": []
   },
   "outputs": [],
   "source": [
    "counts_df = pd.DataFrame.from_dict(contagem, orient='index', columns=['count'])"
   ]
  },
  {
   "cell_type": "code",
   "execution_count": 17,
   "id": "2de158ea",
   "metadata": {
    "execution": {
     "iopub.execute_input": "2024-04-06T13:32:59.118660Z",
     "iopub.status.busy": "2024-04-06T13:32:59.117992Z",
     "iopub.status.idle": "2024-04-06T13:32:59.127691Z",
     "shell.execute_reply": "2024-04-06T13:32:59.126404Z"
    },
    "papermill": {
     "duration": 0.022458,
     "end_time": "2024-04-06T13:32:59.130470",
     "exception": false,
     "start_time": "2024-04-06T13:32:59.108012",
     "status": "completed"
    },
    "tags": []
   },
   "outputs": [],
   "source": [
    "counts_df['proportion'] = counts_df['count'] / counts_df['count'].sum()"
   ]
  },
  {
   "cell_type": "markdown",
   "id": "019790e0",
   "metadata": {
    "papermill": {
     "duration": 0.00786,
     "end_time": "2024-04-06T13:32:59.146371",
     "exception": false,
     "start_time": "2024-04-06T13:32:59.138511",
     "status": "completed"
    },
    "tags": []
   },
   "source": [
    "**Distribuição das amostras por nota baseado na proporção**"
   ]
  },
  {
   "cell_type": "code",
   "execution_count": 18,
   "id": "39851600",
   "metadata": {
    "execution": {
     "iopub.execute_input": "2024-04-06T13:32:59.164967Z",
     "iopub.status.busy": "2024-04-06T13:32:59.164571Z",
     "iopub.status.idle": "2024-04-06T13:32:59.174955Z",
     "shell.execute_reply": "2024-04-06T13:32:59.173470Z"
    },
    "papermill": {
     "duration": 0.022453,
     "end_time": "2024-04-06T13:32:59.177433",
     "exception": false,
     "start_time": "2024-04-06T13:32:59.154980",
     "status": "completed"
    },
    "tags": []
   },
   "outputs": [
    {
     "name": "stdout",
     "output_type": "stream",
     "text": [
      "       count  proportion  samples\n",
      "5.0  1807343    0.602448    12049\n",
      "4.0   585616    0.195205     3904\n",
      "3.0   254295    0.084765     1695\n",
      "1.0   201688    0.067229     1345\n",
      "2.0   151058    0.050353     1007\n"
     ]
    }
   ],
   "source": [
    "counts_df['samples'] = (counts_df['proportion'] * n_amostral).round().astype(int)\n",
    "print(counts_df)"
   ]
  },
  {
   "cell_type": "code",
   "execution_count": 19,
   "id": "d4908b42",
   "metadata": {
    "execution": {
     "iopub.execute_input": "2024-04-06T13:32:59.195584Z",
     "iopub.status.busy": "2024-04-06T13:32:59.195218Z",
     "iopub.status.idle": "2024-04-06T13:32:59.200646Z",
     "shell.execute_reply": "2024-04-06T13:32:59.199426Z"
    },
    "papermill": {
     "duration": 0.017726,
     "end_time": "2024-04-06T13:32:59.203258",
     "exception": false,
     "start_time": "2024-04-06T13:32:59.185532",
     "status": "completed"
    },
    "tags": []
   },
   "outputs": [],
   "source": [
    "df_amostral = []"
   ]
  },
  {
   "cell_type": "code",
   "execution_count": 20,
   "id": "c5862711",
   "metadata": {
    "execution": {
     "iopub.execute_input": "2024-04-06T13:32:59.221899Z",
     "iopub.status.busy": "2024-04-06T13:32:59.221512Z",
     "iopub.status.idle": "2024-04-06T13:33:00.134290Z",
     "shell.execute_reply": "2024-04-06T13:33:00.133193Z"
    },
    "papermill": {
     "duration": 0.925396,
     "end_time": "2024-04-06T13:33:00.137078",
     "exception": false,
     "start_time": "2024-04-06T13:32:59.211682",
     "status": "completed"
    },
    "tags": []
   },
   "outputs": [],
   "source": [
    "for score, row in counts_df.iterrows():\n",
    "    # Amostrar as linhas 'amostras' para cada nota\n",
    "    n_samples = int(row['samples'])\n",
    "    amostral = df[df['Score'] == score].sample(n=n_samples, random_state=1)\n",
    "    df_amostral.append(amostral)"
   ]
  },
  {
   "cell_type": "code",
   "execution_count": 21,
   "id": "0b57da25",
   "metadata": {
    "execution": {
     "iopub.execute_input": "2024-04-06T13:33:00.156373Z",
     "iopub.status.busy": "2024-04-06T13:33:00.155214Z",
     "iopub.status.idle": "2024-04-06T13:33:00.165772Z",
     "shell.execute_reply": "2024-04-06T13:33:00.164731Z"
    },
    "papermill": {
     "duration": 0.023341,
     "end_time": "2024-04-06T13:33:00.168841",
     "exception": false,
     "start_time": "2024-04-06T13:33:00.145500",
     "status": "completed"
    },
    "tags": []
   },
   "outputs": [],
   "source": [
    "df_amostral_final = pd.concat(df_amostral)"
   ]
  },
  {
   "cell_type": "code",
   "execution_count": 22,
   "id": "53686b63",
   "metadata": {
    "execution": {
     "iopub.execute_input": "2024-04-06T13:33:00.187520Z",
     "iopub.status.busy": "2024-04-06T13:33:00.187145Z",
     "iopub.status.idle": "2024-04-06T13:33:00.224070Z",
     "shell.execute_reply": "2024-04-06T13:33:00.222955Z"
    },
    "papermill": {
     "duration": 0.049386,
     "end_time": "2024-04-06T13:33:00.226844",
     "exception": false,
     "start_time": "2024-04-06T13:33:00.177458",
     "status": "completed"
    },
    "tags": []
   },
   "outputs": [],
   "source": [
    "df_amostral_final = df_amostral_final.sample(frac=1, random_state=1).reset_index(drop=True)"
   ]
  },
  {
   "cell_type": "code",
   "execution_count": 23,
   "id": "fa9f1db0",
   "metadata": {
    "execution": {
     "iopub.execute_input": "2024-04-06T13:33:00.245557Z",
     "iopub.status.busy": "2024-04-06T13:33:00.245173Z",
     "iopub.status.idle": "2024-04-06T13:33:00.251192Z",
     "shell.execute_reply": "2024-04-06T13:33:00.249798Z"
    },
    "papermill": {
     "duration": 0.018112,
     "end_time": "2024-04-06T13:33:00.253464",
     "exception": false,
     "start_time": "2024-04-06T13:33:00.235352",
     "status": "completed"
    },
    "tags": []
   },
   "outputs": [],
   "source": [
    "df = df_amostral_final"
   ]
  },
  {
   "cell_type": "code",
   "execution_count": 24,
   "id": "6bf24864",
   "metadata": {
    "execution": {
     "iopub.execute_input": "2024-04-06T13:33:00.272911Z",
     "iopub.status.busy": "2024-04-06T13:33:00.271440Z",
     "iopub.status.idle": "2024-04-06T13:33:00.279632Z",
     "shell.execute_reply": "2024-04-06T13:33:00.278320Z"
    },
    "papermill": {
     "duration": 0.020425,
     "end_time": "2024-04-06T13:33:00.282082",
     "exception": false,
     "start_time": "2024-04-06T13:33:00.261657",
     "status": "completed"
    },
    "tags": []
   },
   "outputs": [
    {
     "data": {
      "text/plain": [
       "(20000, 7)"
      ]
     },
     "execution_count": 24,
     "metadata": {},
     "output_type": "execute_result"
    }
   ],
   "source": [
    "df.shape"
   ]
  },
  {
   "cell_type": "code",
   "execution_count": 25,
   "id": "514459ee",
   "metadata": {
    "execution": {
     "iopub.execute_input": "2024-04-06T13:33:00.300931Z",
     "iopub.status.busy": "2024-04-06T13:33:00.300322Z",
     "iopub.status.idle": "2024-04-06T13:33:00.873634Z",
     "shell.execute_reply": "2024-04-06T13:33:00.872138Z"
    },
    "papermill": {
     "duration": 0.586164,
     "end_time": "2024-04-06T13:33:00.876418",
     "exception": false,
     "start_time": "2024-04-06T13:33:00.290254",
     "status": "completed"
    },
    "tags": []
   },
   "outputs": [],
   "source": [
    "df.to_csv(\"AmazonReviewbooksclean.csv\")"
   ]
  }
 ],
 "metadata": {
  "kaggle": {
   "accelerator": "none",
   "dataSources": [
    {
     "datasetId": 2476732,
     "sourceId": 4200454,
     "sourceType": "datasetVersion"
    }
   ],
   "dockerImageVersionId": 30673,
   "isGpuEnabled": false,
   "isInternetEnabled": false,
   "language": "python",
   "sourceType": "notebook"
  },
  "kernelspec": {
   "display_name": "Python 3",
   "language": "python",
   "name": "python3"
  },
  "language_info": {
   "codemirror_mode": {
    "name": "ipython",
    "version": 3
   },
   "file_extension": ".py",
   "mimetype": "text/x-python",
   "name": "python",
   "nbconvert_exporter": "python",
   "pygments_lexer": "ipython3",
   "version": "3.10.13"
  },
  "papermill": {
   "default_parameters": {},
   "duration": 74.412746,
   "end_time": "2024-04-06T13:33:02.309611",
   "environment_variables": {},
   "exception": null,
   "input_path": "__notebook__.ipynb",
   "output_path": "__notebook__.ipynb",
   "parameters": {},
   "start_time": "2024-04-06T13:31:47.896865",
   "version": "2.5.0"
  }
 },
 "nbformat": 4,
 "nbformat_minor": 5
}
